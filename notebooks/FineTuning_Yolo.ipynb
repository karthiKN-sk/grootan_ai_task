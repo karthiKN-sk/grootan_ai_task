{
  "cells": [
    {
      "cell_type": "markdown",
      "metadata": {
        "id": "TdujpcM3xtm9"
      },
      "source": [
        "# Download the Library/Packages"
      ]
    },
    {
      "cell_type": "code",
      "execution_count": 1,
      "metadata": {
        "id": "YhF1tps9wXBU",
        "colab": {
          "base_uri": "https://localhost:8080/"
        },
        "outputId": "24d08dca-e97e-4ce9-8689-227bf66d189a"
      },
      "outputs": [
        {
          "output_type": "stream",
          "name": "stdout",
          "text": [
            "Collecting ultralytics\n",
            "  Downloading ultralytics-8.3.135-py3-none-any.whl.metadata (37 kB)\n",
            "Requirement already satisfied: numpy>=1.23.0 in /usr/local/lib/python3.11/dist-packages (from ultralytics) (2.0.2)\n",
            "Requirement already satisfied: matplotlib>=3.3.0 in /usr/local/lib/python3.11/dist-packages (from ultralytics) (3.10.0)\n",
            "Requirement already satisfied: opencv-python>=4.6.0 in /usr/local/lib/python3.11/dist-packages (from ultralytics) (4.11.0.86)\n",
            "Requirement already satisfied: pillow>=7.1.2 in /usr/local/lib/python3.11/dist-packages (from ultralytics) (11.2.1)\n",
            "Requirement already satisfied: pyyaml>=5.3.1 in /usr/local/lib/python3.11/dist-packages (from ultralytics) (6.0.2)\n",
            "Requirement already satisfied: requests>=2.23.0 in /usr/local/lib/python3.11/dist-packages (from ultralytics) (2.32.3)\n",
            "Requirement already satisfied: scipy>=1.4.1 in /usr/local/lib/python3.11/dist-packages (from ultralytics) (1.15.3)\n",
            "Requirement already satisfied: torch>=1.8.0 in /usr/local/lib/python3.11/dist-packages (from ultralytics) (2.6.0+cu124)\n",
            "Requirement already satisfied: torchvision>=0.9.0 in /usr/local/lib/python3.11/dist-packages (from ultralytics) (0.21.0+cu124)\n",
            "Requirement already satisfied: tqdm>=4.64.0 in /usr/local/lib/python3.11/dist-packages (from ultralytics) (4.67.1)\n",
            "Requirement already satisfied: psutil in /usr/local/lib/python3.11/dist-packages (from ultralytics) (5.9.5)\n",
            "Requirement already satisfied: py-cpuinfo in /usr/local/lib/python3.11/dist-packages (from ultralytics) (9.0.0)\n",
            "Requirement already satisfied: pandas>=1.1.4 in /usr/local/lib/python3.11/dist-packages (from ultralytics) (2.2.2)\n",
            "Requirement already satisfied: seaborn>=0.11.0 in /usr/local/lib/python3.11/dist-packages (from ultralytics) (0.13.2)\n",
            "Collecting ultralytics-thop>=2.0.0 (from ultralytics)\n",
            "  Downloading ultralytics_thop-2.0.14-py3-none-any.whl.metadata (9.4 kB)\n",
            "Requirement already satisfied: contourpy>=1.0.1 in /usr/local/lib/python3.11/dist-packages (from matplotlib>=3.3.0->ultralytics) (1.3.2)\n",
            "Requirement already satisfied: cycler>=0.10 in /usr/local/lib/python3.11/dist-packages (from matplotlib>=3.3.0->ultralytics) (0.12.1)\n",
            "Requirement already satisfied: fonttools>=4.22.0 in /usr/local/lib/python3.11/dist-packages (from matplotlib>=3.3.0->ultralytics) (4.58.0)\n",
            "Requirement already satisfied: kiwisolver>=1.3.1 in /usr/local/lib/python3.11/dist-packages (from matplotlib>=3.3.0->ultralytics) (1.4.8)\n",
            "Requirement already satisfied: packaging>=20.0 in /usr/local/lib/python3.11/dist-packages (from matplotlib>=3.3.0->ultralytics) (24.2)\n",
            "Requirement already satisfied: pyparsing>=2.3.1 in /usr/local/lib/python3.11/dist-packages (from matplotlib>=3.3.0->ultralytics) (3.2.3)\n",
            "Requirement already satisfied: python-dateutil>=2.7 in /usr/local/lib/python3.11/dist-packages (from matplotlib>=3.3.0->ultralytics) (2.9.0.post0)\n",
            "Requirement already satisfied: pytz>=2020.1 in /usr/local/lib/python3.11/dist-packages (from pandas>=1.1.4->ultralytics) (2025.2)\n",
            "Requirement already satisfied: tzdata>=2022.7 in /usr/local/lib/python3.11/dist-packages (from pandas>=1.1.4->ultralytics) (2025.2)\n",
            "Requirement already satisfied: charset-normalizer<4,>=2 in /usr/local/lib/python3.11/dist-packages (from requests>=2.23.0->ultralytics) (3.4.2)\n",
            "Requirement already satisfied: idna<4,>=2.5 in /usr/local/lib/python3.11/dist-packages (from requests>=2.23.0->ultralytics) (3.10)\n",
            "Requirement already satisfied: urllib3<3,>=1.21.1 in /usr/local/lib/python3.11/dist-packages (from requests>=2.23.0->ultralytics) (2.4.0)\n",
            "Requirement already satisfied: certifi>=2017.4.17 in /usr/local/lib/python3.11/dist-packages (from requests>=2.23.0->ultralytics) (2025.4.26)\n",
            "Requirement already satisfied: filelock in /usr/local/lib/python3.11/dist-packages (from torch>=1.8.0->ultralytics) (3.18.0)\n",
            "Requirement already satisfied: typing-extensions>=4.10.0 in /usr/local/lib/python3.11/dist-packages (from torch>=1.8.0->ultralytics) (4.13.2)\n",
            "Requirement already satisfied: networkx in /usr/local/lib/python3.11/dist-packages (from torch>=1.8.0->ultralytics) (3.4.2)\n",
            "Requirement already satisfied: jinja2 in /usr/local/lib/python3.11/dist-packages (from torch>=1.8.0->ultralytics) (3.1.6)\n",
            "Requirement already satisfied: fsspec in /usr/local/lib/python3.11/dist-packages (from torch>=1.8.0->ultralytics) (2025.3.2)\n",
            "Collecting nvidia-cuda-nvrtc-cu12==12.4.127 (from torch>=1.8.0->ultralytics)\n",
            "  Downloading nvidia_cuda_nvrtc_cu12-12.4.127-py3-none-manylinux2014_x86_64.whl.metadata (1.5 kB)\n",
            "Collecting nvidia-cuda-runtime-cu12==12.4.127 (from torch>=1.8.0->ultralytics)\n",
            "  Downloading nvidia_cuda_runtime_cu12-12.4.127-py3-none-manylinux2014_x86_64.whl.metadata (1.5 kB)\n",
            "Collecting nvidia-cuda-cupti-cu12==12.4.127 (from torch>=1.8.0->ultralytics)\n",
            "  Downloading nvidia_cuda_cupti_cu12-12.4.127-py3-none-manylinux2014_x86_64.whl.metadata (1.6 kB)\n",
            "Collecting nvidia-cudnn-cu12==9.1.0.70 (from torch>=1.8.0->ultralytics)\n",
            "  Downloading nvidia_cudnn_cu12-9.1.0.70-py3-none-manylinux2014_x86_64.whl.metadata (1.6 kB)\n",
            "Collecting nvidia-cublas-cu12==12.4.5.8 (from torch>=1.8.0->ultralytics)\n",
            "  Downloading nvidia_cublas_cu12-12.4.5.8-py3-none-manylinux2014_x86_64.whl.metadata (1.5 kB)\n",
            "Collecting nvidia-cufft-cu12==11.2.1.3 (from torch>=1.8.0->ultralytics)\n",
            "  Downloading nvidia_cufft_cu12-11.2.1.3-py3-none-manylinux2014_x86_64.whl.metadata (1.5 kB)\n",
            "Collecting nvidia-curand-cu12==10.3.5.147 (from torch>=1.8.0->ultralytics)\n",
            "  Downloading nvidia_curand_cu12-10.3.5.147-py3-none-manylinux2014_x86_64.whl.metadata (1.5 kB)\n",
            "Collecting nvidia-cusolver-cu12==11.6.1.9 (from torch>=1.8.0->ultralytics)\n",
            "  Downloading nvidia_cusolver_cu12-11.6.1.9-py3-none-manylinux2014_x86_64.whl.metadata (1.6 kB)\n",
            "Collecting nvidia-cusparse-cu12==12.3.1.170 (from torch>=1.8.0->ultralytics)\n",
            "  Downloading nvidia_cusparse_cu12-12.3.1.170-py3-none-manylinux2014_x86_64.whl.metadata (1.6 kB)\n",
            "Requirement already satisfied: nvidia-cusparselt-cu12==0.6.2 in /usr/local/lib/python3.11/dist-packages (from torch>=1.8.0->ultralytics) (0.6.2)\n",
            "Requirement already satisfied: nvidia-nccl-cu12==2.21.5 in /usr/local/lib/python3.11/dist-packages (from torch>=1.8.0->ultralytics) (2.21.5)\n",
            "Requirement already satisfied: nvidia-nvtx-cu12==12.4.127 in /usr/local/lib/python3.11/dist-packages (from torch>=1.8.0->ultralytics) (12.4.127)\n",
            "Collecting nvidia-nvjitlink-cu12==12.4.127 (from torch>=1.8.0->ultralytics)\n",
            "  Downloading nvidia_nvjitlink_cu12-12.4.127-py3-none-manylinux2014_x86_64.whl.metadata (1.5 kB)\n",
            "Requirement already satisfied: triton==3.2.0 in /usr/local/lib/python3.11/dist-packages (from torch>=1.8.0->ultralytics) (3.2.0)\n",
            "Requirement already satisfied: sympy==1.13.1 in /usr/local/lib/python3.11/dist-packages (from torch>=1.8.0->ultralytics) (1.13.1)\n",
            "Requirement already satisfied: mpmath<1.4,>=1.1.0 in /usr/local/lib/python3.11/dist-packages (from sympy==1.13.1->torch>=1.8.0->ultralytics) (1.3.0)\n",
            "Requirement already satisfied: six>=1.5 in /usr/local/lib/python3.11/dist-packages (from python-dateutil>=2.7->matplotlib>=3.3.0->ultralytics) (1.17.0)\n",
            "Requirement already satisfied: MarkupSafe>=2.0 in /usr/local/lib/python3.11/dist-packages (from jinja2->torch>=1.8.0->ultralytics) (3.0.2)\n",
            "Downloading ultralytics-8.3.135-py3-none-any.whl (1.0 MB)\n",
            "\u001b[2K   \u001b[90m━━━━━━━━━━━━━━━━━━━━━━━━━━━━━━━━━━━━━━━━\u001b[0m \u001b[32m1.0/1.0 MB\u001b[0m \u001b[31m23.0 MB/s\u001b[0m eta \u001b[36m0:00:00\u001b[0m\n",
            "\u001b[?25hDownloading nvidia_cublas_cu12-12.4.5.8-py3-none-manylinux2014_x86_64.whl (363.4 MB)\n",
            "\u001b[2K   \u001b[90m━━━━━━━━━━━━━━━━━━━━━━━━━━━━━━━━━━━━━━━━\u001b[0m \u001b[32m363.4/363.4 MB\u001b[0m \u001b[31m1.4 MB/s\u001b[0m eta \u001b[36m0:00:00\u001b[0m\n",
            "\u001b[?25hDownloading nvidia_cuda_cupti_cu12-12.4.127-py3-none-manylinux2014_x86_64.whl (13.8 MB)\n",
            "\u001b[2K   \u001b[90m━━━━━━━━━━━━━━━━━━━━━━━━━━━━━━━━━━━━━━━━\u001b[0m \u001b[32m13.8/13.8 MB\u001b[0m \u001b[31m113.7 MB/s\u001b[0m eta \u001b[36m0:00:00\u001b[0m\n",
            "\u001b[?25hDownloading nvidia_cuda_nvrtc_cu12-12.4.127-py3-none-manylinux2014_x86_64.whl (24.6 MB)\n",
            "\u001b[2K   \u001b[90m━━━━━━━━━━━━━━━━━━━━━━━━━━━━━━━━━━━━━━━━\u001b[0m \u001b[32m24.6/24.6 MB\u001b[0m \u001b[31m88.6 MB/s\u001b[0m eta \u001b[36m0:00:00\u001b[0m\n",
            "\u001b[?25hDownloading nvidia_cuda_runtime_cu12-12.4.127-py3-none-manylinux2014_x86_64.whl (883 kB)\n",
            "\u001b[2K   \u001b[90m━━━━━━━━━━━━━━━━━━━━━━━━━━━━━━━━━━━━━━━━\u001b[0m \u001b[32m883.7/883.7 kB\u001b[0m \u001b[31m60.8 MB/s\u001b[0m eta \u001b[36m0:00:00\u001b[0m\n",
            "\u001b[?25hDownloading nvidia_cudnn_cu12-9.1.0.70-py3-none-manylinux2014_x86_64.whl (664.8 MB)\n",
            "\u001b[2K   \u001b[90m━━━━━━━━━━━━━━━━━━━━━━━━━━━━━━━━━━━━━━━━\u001b[0m \u001b[32m664.8/664.8 MB\u001b[0m \u001b[31m3.0 MB/s\u001b[0m eta \u001b[36m0:00:00\u001b[0m\n",
            "\u001b[?25hDownloading nvidia_cufft_cu12-11.2.1.3-py3-none-manylinux2014_x86_64.whl (211.5 MB)\n",
            "\u001b[2K   \u001b[90m━━━━━━━━━━━━━━━━━━━━━━━━━━━━━━━━━━━━━━━━\u001b[0m \u001b[32m211.5/211.5 MB\u001b[0m \u001b[31m5.0 MB/s\u001b[0m eta \u001b[36m0:00:00\u001b[0m\n",
            "\u001b[?25hDownloading nvidia_curand_cu12-10.3.5.147-py3-none-manylinux2014_x86_64.whl (56.3 MB)\n",
            "\u001b[2K   \u001b[90m━━━━━━━━━━━━━━━━━━━━━━━━━━━━━━━━━━━━━━━━\u001b[0m \u001b[32m56.3/56.3 MB\u001b[0m \u001b[31m11.1 MB/s\u001b[0m eta \u001b[36m0:00:00\u001b[0m\n",
            "\u001b[?25hDownloading nvidia_cusolver_cu12-11.6.1.9-py3-none-manylinux2014_x86_64.whl (127.9 MB)\n",
            "\u001b[2K   \u001b[90m━━━━━━━━━━━━━━━━━━━━━━━━━━━━━━━━━━━━━━━━\u001b[0m \u001b[32m127.9/127.9 MB\u001b[0m \u001b[31m9.2 MB/s\u001b[0m eta \u001b[36m0:00:00\u001b[0m\n",
            "\u001b[?25hDownloading nvidia_cusparse_cu12-12.3.1.170-py3-none-manylinux2014_x86_64.whl (207.5 MB)\n",
            "\u001b[2K   \u001b[90m━━━━━━━━━━━━━━━━━━━━━━━━━━━━━━━━━━━━━━━━\u001b[0m \u001b[32m207.5/207.5 MB\u001b[0m \u001b[31m5.9 MB/s\u001b[0m eta \u001b[36m0:00:00\u001b[0m\n",
            "\u001b[?25hDownloading nvidia_nvjitlink_cu12-12.4.127-py3-none-manylinux2014_x86_64.whl (21.1 MB)\n",
            "\u001b[2K   \u001b[90m━━━━━━━━━━━━━━━━━━━━━━━━━━━━━━━━━━━━━━━━\u001b[0m \u001b[32m21.1/21.1 MB\u001b[0m \u001b[31m65.5 MB/s\u001b[0m eta \u001b[36m0:00:00\u001b[0m\n",
            "\u001b[?25hDownloading ultralytics_thop-2.0.14-py3-none-any.whl (26 kB)\n",
            "Installing collected packages: nvidia-nvjitlink-cu12, nvidia-curand-cu12, nvidia-cufft-cu12, nvidia-cuda-runtime-cu12, nvidia-cuda-nvrtc-cu12, nvidia-cuda-cupti-cu12, nvidia-cublas-cu12, nvidia-cusparse-cu12, nvidia-cudnn-cu12, nvidia-cusolver-cu12, ultralytics-thop, ultralytics\n",
            "  Attempting uninstall: nvidia-nvjitlink-cu12\n",
            "    Found existing installation: nvidia-nvjitlink-cu12 12.5.82\n",
            "    Uninstalling nvidia-nvjitlink-cu12-12.5.82:\n",
            "      Successfully uninstalled nvidia-nvjitlink-cu12-12.5.82\n",
            "  Attempting uninstall: nvidia-curand-cu12\n",
            "    Found existing installation: nvidia-curand-cu12 10.3.6.82\n",
            "    Uninstalling nvidia-curand-cu12-10.3.6.82:\n",
            "      Successfully uninstalled nvidia-curand-cu12-10.3.6.82\n",
            "  Attempting uninstall: nvidia-cufft-cu12\n",
            "    Found existing installation: nvidia-cufft-cu12 11.2.3.61\n",
            "    Uninstalling nvidia-cufft-cu12-11.2.3.61:\n",
            "      Successfully uninstalled nvidia-cufft-cu12-11.2.3.61\n",
            "  Attempting uninstall: nvidia-cuda-runtime-cu12\n",
            "    Found existing installation: nvidia-cuda-runtime-cu12 12.5.82\n",
            "    Uninstalling nvidia-cuda-runtime-cu12-12.5.82:\n",
            "      Successfully uninstalled nvidia-cuda-runtime-cu12-12.5.82\n",
            "  Attempting uninstall: nvidia-cuda-nvrtc-cu12\n",
            "    Found existing installation: nvidia-cuda-nvrtc-cu12 12.5.82\n",
            "    Uninstalling nvidia-cuda-nvrtc-cu12-12.5.82:\n",
            "      Successfully uninstalled nvidia-cuda-nvrtc-cu12-12.5.82\n",
            "  Attempting uninstall: nvidia-cuda-cupti-cu12\n",
            "    Found existing installation: nvidia-cuda-cupti-cu12 12.5.82\n",
            "    Uninstalling nvidia-cuda-cupti-cu12-12.5.82:\n",
            "      Successfully uninstalled nvidia-cuda-cupti-cu12-12.5.82\n",
            "  Attempting uninstall: nvidia-cublas-cu12\n",
            "    Found existing installation: nvidia-cublas-cu12 12.5.3.2\n",
            "    Uninstalling nvidia-cublas-cu12-12.5.3.2:\n",
            "      Successfully uninstalled nvidia-cublas-cu12-12.5.3.2\n",
            "  Attempting uninstall: nvidia-cusparse-cu12\n",
            "    Found existing installation: nvidia-cusparse-cu12 12.5.1.3\n",
            "    Uninstalling nvidia-cusparse-cu12-12.5.1.3:\n",
            "      Successfully uninstalled nvidia-cusparse-cu12-12.5.1.3\n",
            "  Attempting uninstall: nvidia-cudnn-cu12\n",
            "    Found existing installation: nvidia-cudnn-cu12 9.3.0.75\n",
            "    Uninstalling nvidia-cudnn-cu12-9.3.0.75:\n",
            "      Successfully uninstalled nvidia-cudnn-cu12-9.3.0.75\n",
            "  Attempting uninstall: nvidia-cusolver-cu12\n",
            "    Found existing installation: nvidia-cusolver-cu12 11.6.3.83\n",
            "    Uninstalling nvidia-cusolver-cu12-11.6.3.83:\n",
            "      Successfully uninstalled nvidia-cusolver-cu12-11.6.3.83\n",
            "Successfully installed nvidia-cublas-cu12-12.4.5.8 nvidia-cuda-cupti-cu12-12.4.127 nvidia-cuda-nvrtc-cu12-12.4.127 nvidia-cuda-runtime-cu12-12.4.127 nvidia-cudnn-cu12-9.1.0.70 nvidia-cufft-cu12-11.2.1.3 nvidia-curand-cu12-10.3.5.147 nvidia-cusolver-cu12-11.6.1.9 nvidia-cusparse-cu12-12.3.1.170 nvidia-nvjitlink-cu12-12.4.127 ultralytics-8.3.135 ultralytics-thop-2.0.14\n"
          ]
        }
      ],
      "source": [
        "!pip install ultralytics"
      ]
    },
    {
      "cell_type": "markdown",
      "metadata": {
        "id": "sTmbZZnKxhjQ"
      },
      "source": [
        "# Setting HF Token in Environment variable"
      ]
    },
    {
      "cell_type": "code",
      "execution_count": 2,
      "metadata": {
        "id": "0--KYU2xxdsA"
      },
      "outputs": [],
      "source": [
        "# from google.colab import userdata\n",
        "# import os\n",
        "\n",
        "# os.environ[\"HF_TOKEN\"] = userdata.get('HF_TOKEN')\n",
        "\n",
        "# API_KEY = os.environ.get('HF_TOKEN')\n",
        "# print(\"API_KEY: \",API_KEY)"
      ]
    },
    {
      "cell_type": "markdown",
      "metadata": {
        "id": "VwBPpqTxQ9HG"
      },
      "source": [
        "#Import Libraries"
      ]
    },
    {
      "cell_type": "code",
      "execution_count": 3,
      "metadata": {
        "id": "6nfkW4B2RBa6",
        "colab": {
          "base_uri": "https://localhost:8080/"
        },
        "outputId": "16d1e2d2-ac9c-409b-ee4a-14ff20a8b9ef"
      },
      "outputs": [
        {
          "output_type": "stream",
          "name": "stdout",
          "text": [
            "Creating new Ultralytics Settings v0.0.6 file ✅ \n",
            "View Ultralytics Settings with 'yolo settings' or at '/root/.config/Ultralytics/settings.json'\n",
            "Update Settings with 'yolo settings key=value', i.e. 'yolo settings runs_dir=path/to/dir'. For help see https://docs.ultralytics.com/quickstart/#ultralytics-settings.\n"
          ]
        }
      ],
      "source": [
        "from ultralytics import YOLO\n",
        "from google.colab import files, drive\n",
        "from pathlib import Path\n",
        "import random\n",
        "import os\n",
        "import shutil\n",
        "import sys\n",
        "import yaml"
      ]
    },
    {
      "cell_type": "markdown",
      "metadata": {
        "id": "ca24ey1p0euH"
      },
      "source": [
        "# Upload video"
      ]
    },
    {
      "cell_type": "code",
      "execution_count": 4,
      "metadata": {
        "id": "qcmrQUvY0fLa",
        "colab": {
          "base_uri": "https://localhost:8080/"
        },
        "outputId": "b7de55b9-fdc0-4faf-8625-462f0b42264d"
      },
      "outputs": [
        {
          "output_type": "stream",
          "name": "stdout",
          "text": [
            "Please upload your traffic video file (MP4 format)\n",
            "Mounted at /content/drive\n",
            "Archive:  /content/drive/MyDrive/grootan-task/latest_model.zip\n",
            "   creating: /content/custom_data/latest_model/\n",
            "  inflating: /content/custom_data/__MACOSX/._latest_model  \n",
            "  inflating: /content/custom_data/latest_model/classes.txt  \n",
            "  inflating: /content/custom_data/__MACOSX/latest_model/._classes.txt  \n",
            "   creating: /content/custom_data/latest_model/images/\n",
            "  inflating: /content/custom_data/__MACOSX/latest_model/._images  \n",
            "   creating: /content/custom_data/latest_model/labels/\n",
            "  inflating: /content/custom_data/__MACOSX/latest_model/._labels  \n",
            "  inflating: /content/custom_data/latest_model/notes.json  \n",
            "  inflating: /content/custom_data/__MACOSX/latest_model/._notes.json  \n",
            "  inflating: /content/custom_data/latest_model/images/baa115cd-Screenshot_2025-05-14_at_3.35.52PM.png  \n",
            "  inflating: /content/custom_data/latest_model/images/b35f01dd-400.jpeg  \n",
            "  inflating: /content/custom_data/latest_model/images/450cbf23-cars-traffic-highway-17107990.webp  \n",
            "  inflating: /content/custom_data/latest_model/images/cc6fcd7c-city-night-lights-stockcake.jpg  \n",
            "  inflating: /content/custom_data/latest_model/images/809c1de8-traffic_chaos.mp4  \n",
            "  inflating: /content/custom_data/latest_model/images/a9360d7a-Screenshot_2025-05-14_at_3.34.21PM.png  \n",
            "  inflating: /content/custom_data/latest_model/images/c904f702-Screenshot_2025-05-14_at_3.34.59PM.png  \n",
            "  inflating: /content/custom_data/latest_model/images/fd2fb33b-1.webp  \n",
            "  inflating: /content/custom_data/latest_model/images/.DS_Store  \n",
            "  inflating: /content/custom_data/__MACOSX/latest_model/images/._.DS_Store  \n",
            "  inflating: /content/custom_data/latest_model/images/dbc2e357-Screenshot_2025-05-14_at_3.33.47PM.png  \n",
            "  inflating: /content/custom_data/latest_model/images/ff4fe27f-Screenshot_2025-05-14_at_3.36.53PM.png  \n",
            "  inflating: /content/custom_data/latest_model/images/2d20c633-Screenshot_2025-05-14_at_3.37.17PM.png  \n",
            "  inflating: /content/custom_data/latest_model/images/094f581b-traffic-speeds-through-intersection-gangnamgangnam-260nw-385026553.webp  \n",
            "  inflating: /content/custom_data/latest_model/images/294ebdc2-360_F_528634853_XGDEkH4ZBBBu6NeQ5GRtZKBW5Tedu6TR.jpg  \n",
            "  inflating: /content/custom_data/latest_model/images/2852c1d9-Screenshot_2025-05-14_at_3.37.03PM.png  \n",
            "  inflating: /content/custom_data/latest_model/images/8675d590-aerial-drone-image-four-way-260nw-1440418496.webp  \n",
            "  inflating: /content/custom_data/latest_model/images/8c4a6b18-cars-1283997_1280.jpg  \n",
            "  inflating: /content/custom_data/latest_model/images/2302441b-images_1.jpeg  \n",
            "  inflating: /content/custom_data/latest_model/images/5cd8cf6a-Screenshot_2025-05-14_at_3.34.05PM.png  \n",
            "  inflating: /content/custom_data/latest_model/images/4742e271-Screenshot_2025-05-14_at_3.36.44PM.png  \n",
            "  inflating: /content/custom_data/latest_model/images/34b7c31e-busy-urban-intersection-stockcake.jpg  \n",
            "  inflating: /content/custom_data/latest_model/images/76b3cf18-glowing-traffic-arteries-stockcake.jpg  \n",
            "  inflating: /content/custom_data/latest_model/images/8facb51c-Screenshot_2025-05-14_at_3.36.13PM.png  \n",
            "  inflating: /content/custom_data/latest_model/images/c9d87b88-images_3.jpeg  \n",
            "  inflating: /content/custom_data/latest_model/images/07845ff7-Screenshot_2025-05-14_at_3.37.53PM.png  \n",
            "  inflating: /content/custom_data/latest_model/images/ec53dd0f-Screenshot_2025-05-14_at_3.36.23PM.png  \n",
            "  inflating: /content/custom_data/latest_model/images/7bac7461-top-view-numerous-cars-traffic-260nw-699673723.webp  \n",
            "  inflating: /content/custom_data/latest_model/images/6406036c-Screenshot_2025-05-14_at_3.35.37PM.png  \n",
            "  inflating: /content/custom_data/latest_model/images/f01a350c-Screenshot_2025-05-14_at_3.33.35PM.png  \n",
            "  inflating: /content/custom_data/latest_model/images/51511761-Screenshot_2025-05-14_at_3.36.32PM.png  \n",
            "  inflating: /content/custom_data/latest_model/images/1276a8e7-top-view-of-a-traffic-on-a-road-at-sunset-F5GYNM.jpg  \n",
            "  inflating: /content/custom_data/latest_model/images/a19c89e6-busy-city-intersection-illuminated-by-bright-lights-at-night-in-urban_1HIcY8D.jpeg  \n",
            "  inflating: /content/custom_data/latest_model/images/7429be2b-GettyImages-1129671344-1024x697.jpg  \n",
            "  inflating: /content/custom_data/latest_model/images/18a941fc-Screenshot_2025-05-14_at_3.38.05PM.png  \n",
            "  inflating: /content/custom_data/latest_model/images/528b67df-Screenshot_2025-05-14_at_3.34.35PM.png  \n",
            "  inflating: /content/custom_data/latest_model/images/77699df2-ai-generated-traffic-jams-on-the-road-in-winter-winter-holidaysrealist_93tEmip.jpg  \n",
            "  inflating: /content/custom_data/latest_model/images/e068638b-Screenshot_2025-05-14_at_3.35.12PM.png  \n",
            "  inflating: /content/custom_data/latest_model/images/ff5f17ff-istockphoto-1453539965-640x640.jpg  \n",
            "  inflating: /content/custom_data/latest_model/images/fa7285bd-traffic_chaos.mp4  \n",
            "  inflating: /content/custom_data/latest_model/images/8e05836c-Screenshot_2025-05-14_at_3.37.28PM.png  \n",
            "  inflating: /content/custom_data/latest_model/images/294a4d5b-traffic_chaos.mp4  \n",
            "  inflating: /content/custom_data/latest_model/images/47f455fe-Traffic-Control-Standards-1024x768.jpg  \n",
            "  inflating: /content/custom_data/latest_model/images/4cf104e9-images.jpeg  \n",
            "  inflating: /content/custom_data/latest_model/images/7bf0f5e1-1000_F_416626992_B8GDDIAkvLRLId34ECN0ROz79JFsxdcz.jpg  \n",
            "  inflating: /content/custom_data/latest_model/images/6b4d805d-istockphoto-1011441936-612x612.jpg  \n",
            "  inflating: /content/custom_data/latest_model/images/a556201b-traffic-queuing-to-get-into-universal-studios-hollywood-los-angeles-E4MHJ8.jpg  \n",
            "  inflating: /content/custom_data/latest_model/images/6856ce2c-360_F_227187234_bnpA84MOKuC3ztPurftuzNdrPJhSlYPC.jpg  \n",
            "  inflating: /content/custom_data/latest_model/images/1b53a03a-images_2.jpeg  \n",
            "  inflating: /content/custom_data/latest_model/images/c6b456ed-gettyimages-1341110602-612x612.jpg  \n",
            "  inflating: /content/custom_data/latest_model/images/779136fa-Screenshot_2025-05-14_at_3.36.03PM.png  \n",
            "  inflating: /content/custom_data/latest_model/images/f210c2af-istockphoto-1145329405-612x612.jpg  \n",
            "  inflating: /content/custom_data/latest_model/images/d66b3846-Screenshot_2025-05-14_at_1.56.50PM.png  \n",
            "  inflating: /content/custom_data/latest_model/images/25824757-istockphoto-1654633016-612x612.jpg  \n",
            "  inflating: /content/custom_data/latest_model/images/79ced442-360_F_747723815_pUqizJn16UQBLa1IrgZUarXKlW25cK1c.jpg  \n",
            "  inflating: /content/custom_data/latest_model/labels/8c4a6b18-cars-1283997_1280.txt  \n",
            "  inflating: /content/custom_data/__MACOSX/latest_model/labels/._8c4a6b18-cars-1283997_1280.txt  \n",
            "  inflating: /content/custom_data/latest_model/labels/294ebdc2-360_F_528634853_XGDEkH4ZBBBu6NeQ5GRtZKBW5Tedu6TR.txt  \n",
            "  inflating: /content/custom_data/__MACOSX/latest_model/labels/._294ebdc2-360_F_528634853_XGDEkH4ZBBBu6NeQ5GRtZKBW5Tedu6TR.txt  \n",
            "  inflating: /content/custom_data/latest_model/labels/2852c1d9-Screenshot_2025-05-14_at_3.37.03PM.txt  \n",
            "  inflating: /content/custom_data/__MACOSX/latest_model/labels/._2852c1d9-Screenshot_2025-05-14_at_3.37.03PM.txt  \n",
            "  inflating: /content/custom_data/latest_model/labels/1b53a03a-images_2.txt  \n",
            "  inflating: /content/custom_data/__MACOSX/latest_model/labels/._1b53a03a-images_2.txt  \n",
            "  inflating: /content/custom_data/latest_model/labels/5cd8cf6a-Screenshot_2025-05-14_at_3.34.05PM.txt  \n",
            "  inflating: /content/custom_data/__MACOSX/latest_model/labels/._5cd8cf6a-Screenshot_2025-05-14_at_3.34.05PM.txt  \n",
            "  inflating: /content/custom_data/latest_model/labels/4742e271-Screenshot_2025-05-14_at_3.36.44PM.txt  \n",
            "  inflating: /content/custom_data/__MACOSX/latest_model/labels/._4742e271-Screenshot_2025-05-14_at_3.36.44PM.txt  \n",
            "  inflating: /content/custom_data/latest_model/labels/76b3cf18-glowing-traffic-arteries-stockcake.txt  \n",
            "  inflating: /content/custom_data/__MACOSX/latest_model/labels/._76b3cf18-glowing-traffic-arteries-stockcake.txt  \n",
            "  inflating: /content/custom_data/latest_model/labels/8facb51c-Screenshot_2025-05-14_at_3.36.13PM.txt  \n",
            "  inflating: /content/custom_data/__MACOSX/latest_model/labels/._8facb51c-Screenshot_2025-05-14_at_3.36.13PM.txt  \n",
            "  inflating: /content/custom_data/latest_model/labels/7bac7461-top-view-numerous-cars-traffic-260nw-699673723.txt  \n",
            "  inflating: /content/custom_data/__MACOSX/latest_model/labels/._7bac7461-top-view-numerous-cars-traffic-260nw-699673723.txt  \n",
            "  inflating: /content/custom_data/latest_model/labels/baa115cd-Screenshot_2025-05-14_at_3.35.52PM.txt  \n",
            "  inflating: /content/custom_data/__MACOSX/latest_model/labels/._baa115cd-Screenshot_2025-05-14_at_3.35.52PM.txt  \n",
            "  inflating: /content/custom_data/latest_model/labels/a9360d7a-Screenshot_2025-05-14_at_3.34.21PM.txt  \n",
            "  inflating: /content/custom_data/__MACOSX/latest_model/labels/._a9360d7a-Screenshot_2025-05-14_at_3.34.21PM.txt  \n",
            "  inflating: /content/custom_data/latest_model/labels/c904f702-Screenshot_2025-05-14_at_3.34.59PM.txt  \n",
            "  inflating: /content/custom_data/__MACOSX/latest_model/labels/._c904f702-Screenshot_2025-05-14_at_3.34.59PM.txt  \n",
            "  inflating: /content/custom_data/latest_model/labels/2302441b-images_1.txt  \n",
            "  inflating: /content/custom_data/__MACOSX/latest_model/labels/._2302441b-images_1.txt  \n",
            "  inflating: /content/custom_data/latest_model/labels/cc6fcd7c-city-night-lights-stockcake.txt  \n",
            "  inflating: /content/custom_data/__MACOSX/latest_model/labels/._cc6fcd7c-city-night-lights-stockcake.txt  \n",
            "  inflating: /content/custom_data/latest_model/labels/dbc2e357-Screenshot_2025-05-14_at_3.33.47PM.txt  \n",
            "  inflating: /content/custom_data/__MACOSX/latest_model/labels/._dbc2e357-Screenshot_2025-05-14_at_3.33.47PM.txt  \n",
            "  inflating: /content/custom_data/latest_model/labels/4cf104e9-images.txt  \n",
            "  inflating: /content/custom_data/__MACOSX/latest_model/labels/._4cf104e9-images.txt  \n",
            "  inflating: /content/custom_data/latest_model/labels/fd2fb33b-1.txt  \n",
            "  inflating: /content/custom_data/__MACOSX/latest_model/labels/._fd2fb33b-1.txt  \n",
            "  inflating: /content/custom_data/latest_model/labels/ff4fe27f-Screenshot_2025-05-14_at_3.36.53PM.txt  \n",
            "  inflating: /content/custom_data/__MACOSX/latest_model/labels/._ff4fe27f-Screenshot_2025-05-14_at_3.36.53PM.txt  \n",
            "  inflating: /content/custom_data/latest_model/labels/2d20c633-Screenshot_2025-05-14_at_3.37.17PM.txt  \n",
            "  inflating: /content/custom_data/__MACOSX/latest_model/labels/._2d20c633-Screenshot_2025-05-14_at_3.37.17PM.txt  \n",
            "  inflating: /content/custom_data/latest_model/labels/8e05836c-Screenshot_2025-05-14_at_3.37.28PM.txt  \n",
            "  inflating: /content/custom_data/__MACOSX/latest_model/labels/._8e05836c-Screenshot_2025-05-14_at_3.37.28PM.txt  \n",
            "  inflating: /content/custom_data/latest_model/labels/47f455fe-Traffic-Control-Standards-1024x768.txt  \n",
            "  inflating: /content/custom_data/__MACOSX/latest_model/labels/._47f455fe-Traffic-Control-Standards-1024x768.txt  \n",
            "  inflating: /content/custom_data/latest_model/labels/6856ce2c-360_F_227187234_bnpA84MOKuC3ztPurftuzNdrPJhSlYPC.txt  \n",
            "  inflating: /content/custom_data/__MACOSX/latest_model/labels/._6856ce2c-360_F_227187234_bnpA84MOKuC3ztPurftuzNdrPJhSlYPC.txt  \n",
            "  inflating: /content/custom_data/latest_model/labels/a556201b-traffic-queuing-to-get-into-universal-studios-hollywood-los-angeles-E4MHJ8.txt  \n",
            "  inflating: /content/custom_data/__MACOSX/latest_model/labels/._a556201b-traffic-queuing-to-get-into-universal-studios-hollywood-los-angeles-E4MHJ8.txt  \n",
            "  inflating: /content/custom_data/latest_model/labels/6b4d805d-istockphoto-1011441936-612x612.txt  \n",
            "  inflating: /content/custom_data/__MACOSX/latest_model/labels/._6b4d805d-istockphoto-1011441936-612x612.txt  \n",
            "  inflating: /content/custom_data/latest_model/labels/7bf0f5e1-1000_F_416626992_B8GDDIAkvLRLId34ECN0ROz79JFsxdcz.txt  \n",
            "  inflating: /content/custom_data/__MACOSX/latest_model/labels/._7bf0f5e1-1000_F_416626992_B8GDDIAkvLRLId34ECN0ROz79JFsxdcz.txt  \n",
            "  inflating: /content/custom_data/latest_model/labels/79ced442-360_F_747723815_pUqizJn16UQBLa1IrgZUarXKlW25cK1c.txt  \n",
            "  inflating: /content/custom_data/__MACOSX/latest_model/labels/._79ced442-360_F_747723815_pUqizJn16UQBLa1IrgZUarXKlW25cK1c.txt  \n",
            "  inflating: /content/custom_data/latest_model/labels/779136fa-Screenshot_2025-05-14_at_3.36.03PM.txt  \n",
            "  inflating: /content/custom_data/__MACOSX/latest_model/labels/._779136fa-Screenshot_2025-05-14_at_3.36.03PM.txt  \n",
            "  inflating: /content/custom_data/latest_model/labels/c6b456ed-gettyimages-1341110602-612x612.txt  \n",
            "  inflating: /content/custom_data/__MACOSX/latest_model/labels/._c6b456ed-gettyimages-1341110602-612x612.txt  \n",
            "  inflating: /content/custom_data/latest_model/labels/25824757-istockphoto-1654633016-612x612.txt  \n",
            "  inflating: /content/custom_data/__MACOSX/latest_model/labels/._25824757-istockphoto-1654633016-612x612.txt  \n",
            "  inflating: /content/custom_data/latest_model/labels/f210c2af-istockphoto-1145329405-612x612.txt  \n",
            "  inflating: /content/custom_data/__MACOSX/latest_model/labels/._f210c2af-istockphoto-1145329405-612x612.txt  \n",
            "  inflating: /content/custom_data/latest_model/labels/07845ff7-Screenshot_2025-05-14_at_3.37.53PM.txt  \n",
            "  inflating: /content/custom_data/__MACOSX/latest_model/labels/._07845ff7-Screenshot_2025-05-14_at_3.37.53PM.txt  \n",
            "  inflating: /content/custom_data/latest_model/labels/c9d87b88-images_3.txt  \n",
            "  inflating: /content/custom_data/__MACOSX/latest_model/labels/._c9d87b88-images_3.txt  \n",
            "  inflating: /content/custom_data/latest_model/labels/ec53dd0f-Screenshot_2025-05-14_at_3.36.23PM.txt  \n",
            "  inflating: /content/custom_data/__MACOSX/latest_model/labels/._ec53dd0f-Screenshot_2025-05-14_at_3.36.23PM.txt  \n",
            "  inflating: /content/custom_data/latest_model/labels/f01a350c-Screenshot_2025-05-14_at_3.33.35PM.txt  \n",
            "  inflating: /content/custom_data/__MACOSX/latest_model/labels/._f01a350c-Screenshot_2025-05-14_at_3.33.35PM.txt  \n",
            "  inflating: /content/custom_data/latest_model/labels/6406036c-Screenshot_2025-05-14_at_3.35.37PM.txt  \n",
            "  inflating: /content/custom_data/__MACOSX/latest_model/labels/._6406036c-Screenshot_2025-05-14_at_3.35.37PM.txt  \n",
            "  inflating: /content/custom_data/latest_model/labels/1276a8e7-top-view-of-a-traffic-on-a-road-at-sunset-F5GYNM.txt  \n",
            "  inflating: /content/custom_data/__MACOSX/latest_model/labels/._1276a8e7-top-view-of-a-traffic-on-a-road-at-sunset-F5GYNM.txt  \n",
            "  inflating: /content/custom_data/latest_model/labels/450cbf23-cars-traffic-highway-17107990.txt  \n",
            "  inflating: /content/custom_data/__MACOSX/latest_model/labels/._450cbf23-cars-traffic-highway-17107990.txt  \n",
            "  inflating: /content/custom_data/latest_model/labels/b35f01dd-400.txt  \n",
            "  inflating: /content/custom_data/__MACOSX/latest_model/labels/._b35f01dd-400.txt  \n",
            "  inflating: /content/custom_data/latest_model/labels/51511761-Screenshot_2025-05-14_at_3.36.32PM.txt  \n",
            "  inflating: /content/custom_data/__MACOSX/latest_model/labels/._51511761-Screenshot_2025-05-14_at_3.36.32PM.txt  \n",
            "  inflating: /content/custom_data/latest_model/labels/77699df2-ai-generated-traffic-jams-on-the-road-in-winter-winter-holidaysrealist_93tEmip.txt  \n",
            "  inflating: /content/custom_data/__MACOSX/latest_model/labels/._77699df2-ai-generated-traffic-jams-on-the-road-in-winter-winter-holidaysrealist_93tEmip.txt  \n",
            "  inflating: /content/custom_data/latest_model/labels/528b67df-Screenshot_2025-05-14_at_3.34.35PM.txt  \n",
            "  inflating: /content/custom_data/__MACOSX/latest_model/labels/._528b67df-Screenshot_2025-05-14_at_3.34.35PM.txt  \n",
            "  inflating: /content/custom_data/latest_model/labels/e068638b-Screenshot_2025-05-14_at_3.35.12PM.txt  \n",
            "  inflating: /content/custom_data/__MACOSX/latest_model/labels/._e068638b-Screenshot_2025-05-14_at_3.35.12PM.txt  \n",
            "  inflating: /content/custom_data/latest_model/labels/ff5f17ff-istockphoto-1453539965-640x640.txt  \n",
            "  inflating: /content/custom_data/__MACOSX/latest_model/labels/._ff5f17ff-istockphoto-1453539965-640x640.txt  \n",
            "  inflating: /content/custom_data/latest_model/labels/7429be2b-GettyImages-1129671344-1024x697.txt  \n",
            "  inflating: /content/custom_data/__MACOSX/latest_model/labels/._7429be2b-GettyImages-1129671344-1024x697.txt  \n",
            "  inflating: /content/custom_data/latest_model/labels/18a941fc-Screenshot_2025-05-14_at_3.38.05PM.txt  \n",
            "  inflating: /content/custom_data/__MACOSX/latest_model/labels/._18a941fc-Screenshot_2025-05-14_at_3.38.05PM.txt  \n"
          ]
        }
      ],
      "source": [
        "print(\"Please upload your traffic video file (MP4 format)\")\n",
        "\n",
        "drive.mount('/content/drive')\n",
        "\n",
        "!unzip -o /content/drive/MyDrive/grootan-task/latest_model.zip -d /content/custom_data\n"
      ]
    },
    {
      "cell_type": "code",
      "source": [
        "import os\n",
        "\n",
        "search_path = \"/content/drive/MyDrive\"\n",
        "for root, dirs, files in os.walk(search_path):\n",
        "    for file in files:\n",
        "        if file.endswith(\".zip\") and \"latest_model\" in file:\n",
        "            print(\"Found:\", os.path.join(root, file))"
      ],
      "metadata": {
        "id": "lgeXUV8GZj56",
        "colab": {
          "base_uri": "https://localhost:8080/"
        },
        "outputId": "104465be-6adc-4184-ca97-83dfa9f5306a"
      },
      "execution_count": 5,
      "outputs": [
        {
          "output_type": "stream",
          "name": "stdout",
          "text": [
            "Found: /content/drive/MyDrive/grootan-task/latest_model.zip\n"
          ]
        }
      ]
    },
    {
      "cell_type": "markdown",
      "source": [
        "# Split Images into train folders\n"
      ],
      "metadata": {
        "id": "8tk3fu3VoOa-"
      }
    },
    {
      "cell_type": "code",
      "source": [
        "data_path = \"/content/custom_data/latest_model\"\n",
        "train_percent = float(0.9)\n",
        "\n",
        "# Check for valid entries\n",
        "if not os.path.isdir(data_path):\n",
        "   print('Directory specified by --datapath not found. Verify the path is correct (and uses double back slashes if on Windows) and try again.')\n",
        "   sys.exit(0)\n",
        "if train_percent < .01 or train_percent > 0.99:\n",
        "   print('Invalid entry for train_pct. Please enter a number between .01 and .99.')\n",
        "   sys.exit(0)\n",
        "val_percent = 1 - train_percent\n",
        "\n",
        "# Define path to input dataset\n",
        "input_image_path = os.path.join(data_path,'images')\n",
        "input_label_path = os.path.join(data_path,'labels')\n",
        "\n",
        "# Define paths to image and annotation folders\n",
        "cwd = os.getcwd()\n",
        "train_img_path = os.path.join(cwd,'data/train/images')\n",
        "train_txt_path = os.path.join(cwd,'data/train/labels')\n",
        "val_img_path = os.path.join(cwd,'data/validation/images')\n",
        "val_txt_path = os.path.join(cwd,'data/validation/labels')\n",
        "\n",
        "# Create folders if they don't already exist\n",
        "for dir_path in [train_img_path, train_txt_path, val_img_path, val_txt_path]:\n",
        "   if not os.path.exists(dir_path):\n",
        "      os.makedirs(dir_path)\n",
        "      print(f'Created folder at {dir_path}.')\n",
        "\n",
        "\n",
        "# Get list of all images and annotation files\n",
        "img_file_list = [path for path in Path(input_image_path).rglob('*')]\n",
        "txt_file_list = [path for path in Path(input_label_path).rglob('*')]\n",
        "\n",
        "print(f'Number of image files: {len(img_file_list)}')\n",
        "print(f'Number of annotation files: {len(txt_file_list)}')\n",
        "\n",
        "# Determine number of files to move to each folder\n",
        "file_num = len(img_file_list)\n",
        "train_num = int(file_num*train_percent)\n",
        "val_num = file_num - train_num\n",
        "print('Images moving to train: %d' % train_num)\n",
        "print('Images moving to validation: %d' % val_num)\n",
        "\n",
        "# Select files randomly and copy them to train or val folders\n",
        "for i, set_num in enumerate([train_num, val_num]):\n",
        "  for ii in range(set_num):\n",
        "    img_path = random.choice(img_file_list)\n",
        "    img_fn = img_path.name\n",
        "    base_fn = img_path.stem\n",
        "    txt_fn = base_fn + '.txt'\n",
        "    txt_path = os.path.join(input_label_path,txt_fn)\n",
        "\n",
        "    if i == 0: # Copy first set of files to train folders\n",
        "      new_img_path, new_txt_path = train_img_path, train_txt_path\n",
        "    elif i == 1: # Copy second set of files to the validation folders\n",
        "      new_img_path, new_txt_path = val_img_path, val_txt_path\n",
        "\n",
        "    shutil.copy(img_path, os.path.join(new_img_path,img_fn))\n",
        "    #os.rename(img_path, os.path.join(new_img_path,img_fn))\n",
        "    if os.path.exists(txt_path): # If txt path does not exist, this is a background image, so skip txt file\n",
        "      shutil.copy(txt_path,os.path.join(new_txt_path,txt_fn))\n",
        "      #os.rename(txt_path,os.path.join(new_txt_path,txt_fn))\n",
        "\n",
        "    img_file_list.remove(img_path)"
      ],
      "metadata": {
        "id": "QEUnSH2ToY8w",
        "colab": {
          "base_uri": "https://localhost:8080/"
        },
        "outputId": "97801bba-6adc-4cbf-c445-47890d009666"
      },
      "execution_count": 7,
      "outputs": [
        {
          "output_type": "stream",
          "name": "stdout",
          "text": [
            "Created folder at /content/data/train/images.\n",
            "Created folder at /content/data/train/labels.\n",
            "Created folder at /content/data/validation/images.\n",
            "Created folder at /content/data/validation/labels.\n",
            "Number of image files: 54\n",
            "Number of annotation files: 45\n",
            "Images moving to train: 48\n",
            "Images moving to validation: 6\n"
          ]
        }
      ]
    },
    {
      "cell_type": "markdown",
      "source": [
        " # Configure Training"
      ],
      "metadata": {
        "id": "SuI4_sWipcFH"
      }
    },
    {
      "cell_type": "code",
      "source": [
        "def create_data_yaml(path_to_classes_txt, path_to_data_yaml):\n",
        "\n",
        "  # Read class.txt to get class names\n",
        "  if not os.path.exists(path_to_classes_txt):\n",
        "    print(f'classes.txt file not found! Please create a classes.txt labelmap and move it to {path_to_classes_txt}')\n",
        "    return\n",
        "  with open(path_to_classes_txt, 'r') as f:\n",
        "    classes = []\n",
        "    for line in f.readlines():\n",
        "      if len(line.strip()) == 0: continue\n",
        "      classes.append(line.strip())\n",
        "  number_of_classes = len(classes)\n",
        "\n",
        "  # Create data dictionary\n",
        "  data = {\n",
        "      'path': '/content/data',\n",
        "      'train': 'train/images',\n",
        "      'val': 'validation/images',\n",
        "      'nc': number_of_classes,\n",
        "      'names': classes\n",
        "  }\n",
        "\n",
        "  # Write data to YAML file\n",
        "  with open(path_to_data_yaml, 'w') as f:\n",
        "    yaml.dump(data, f, sort_keys=False)\n",
        "  print(f'Created config file at {path_to_data_yaml}')\n",
        "\n",
        "  return\n",
        "\n",
        "# Define path to classes.txt and run function\n",
        "path_to_classes_txt = '/content/custom_data/latest_model/classes.txt'\n",
        "path_to_data_yaml = '/content/data.yaml'\n",
        "\n",
        "create_data_yaml(path_to_classes_txt, path_to_data_yaml)\n",
        "\n",
        "print('\\nFile contents:\\n')\n",
        "!cat /content/data.yaml"
      ],
      "metadata": {
        "id": "kSg4XZKupfHU",
        "colab": {
          "base_uri": "https://localhost:8080/"
        },
        "outputId": "e32b978f-3309-43a0-ffcf-f30a7bbf503e"
      },
      "execution_count": 8,
      "outputs": [
        {
          "output_type": "stream",
          "name": "stdout",
          "text": [
            "Created config file at /content/data.yaml\n",
            "\n",
            "File contents:\n",
            "\n",
            "path: /content/data\n",
            "train: train/images\n",
            "val: validation/images\n",
            "nc: 1\n",
            "names:\n",
            "- Car\n"
          ]
        }
      ]
    },
    {
      "cell_type": "markdown",
      "metadata": {
        "id": "DgHAcClTxm_c"
      },
      "source": [
        "# Loading Yolo Model"
      ]
    },
    {
      "cell_type": "code",
      "execution_count": 9,
      "metadata": {
        "id": "afA7W_doxeo0",
        "colab": {
          "base_uri": "https://localhost:8080/"
        },
        "outputId": "43db80b3-3c59-472d-c1e6-fe340dc002d7"
      },
      "outputs": [
        {
          "output_type": "stream",
          "name": "stdout",
          "text": [
            "Downloading https://github.com/ultralytics/assets/releases/download/v8.3.0/yolov8l.pt to 'yolov8l.pt'...\n"
          ]
        },
        {
          "output_type": "stream",
          "name": "stderr",
          "text": [
            "100%|██████████| 83.7M/83.7M [00:00<00:00, 190MB/s]\n"
          ]
        },
        {
          "output_type": "stream",
          "name": "stdout",
          "text": [
            "Ultralytics 8.3.135 🚀 Python-3.11.12 torch-2.6.0+cu124 CUDA:0 (Tesla T4, 15095MiB)\n",
            "\u001b[34m\u001b[1mengine/trainer: \u001b[0magnostic_nms=False, amp=True, augment=False, auto_augment=randaugment, batch=16, bgr=0.0, box=7.5, cache=False, cfg=None, classes=None, close_mosaic=10, cls=0.5, conf=None, copy_paste=0.0, copy_paste_mode=flip, cos_lr=False, cutmix=0.0, data=/content/data.yaml, degrees=0.0, deterministic=True, device=None, dfl=1.5, dnn=False, dropout=0.0, dynamic=False, embed=None, epochs=50, erasing=0.4, exist_ok=True, fliplr=0.5, flipud=0.0, format=torchscript, fraction=1.0, freeze=None, half=False, hsv_h=0.015, hsv_s=0.7, hsv_v=0.4, imgsz=640, int8=False, iou=0.7, keras=False, kobj=1.0, line_width=None, lr0=0.01, lrf=0.01, mask_ratio=4, max_det=300, mixup=0.0, mode=train, model=yolov8l.pt, momentum=0.937, mosaic=1.0, multi_scale=False, name=train, nbs=64, nms=False, opset=None, optimize=False, optimizer=auto, overlap_mask=True, patience=100, perspective=0.0, plots=True, pose=12.0, pretrained=True, profile=False, project=None, rect=False, resume=False, retina_masks=False, save=True, save_conf=False, save_crop=False, save_dir=runs/detect/train, save_frames=False, save_json=False, save_period=-1, save_txt=False, scale=0.5, seed=0, shear=0.0, show=False, show_boxes=True, show_conf=True, show_labels=True, simplify=True, single_cls=False, source=None, split=val, stream_buffer=False, task=detect, time=None, tracker=botsort.yaml, translate=0.1, val=True, verbose=True, vid_stride=1, visualize=False, warmup_bias_lr=0.1, warmup_epochs=3.0, warmup_momentum=0.8, weight_decay=0.0005, workers=8, workspace=None\n",
            "Downloading https://ultralytics.com/assets/Arial.ttf to '/root/.config/Ultralytics/Arial.ttf'...\n"
          ]
        },
        {
          "output_type": "stream",
          "name": "stderr",
          "text": [
            "100%|██████████| 755k/755k [00:00<00:00, 24.8MB/s]"
          ]
        },
        {
          "output_type": "stream",
          "name": "stdout",
          "text": [
            "Overriding model.yaml nc=80 with nc=1\n",
            "\n",
            "                   from  n    params  module                                       arguments                     \n",
            "  0                  -1  1      1856  ultralytics.nn.modules.conv.Conv             [3, 64, 3, 2]                 \n",
            "  1                  -1  1     73984  ultralytics.nn.modules.conv.Conv             [64, 128, 3, 2]               \n",
            "  2                  -1  3    279808  ultralytics.nn.modules.block.C2f             [128, 128, 3, True]           \n",
            "  3                  -1  1    295424  ultralytics.nn.modules.conv.Conv             [128, 256, 3, 2]              \n",
            "  4                  -1  6   2101248  ultralytics.nn.modules.block.C2f             [256, 256, 6, True]           \n",
            "  5                  -1  1   1180672  ultralytics.nn.modules.conv.Conv             [256, 512, 3, 2]              \n",
            "  6                  -1  6   8396800  ultralytics.nn.modules.block.C2f             [512, 512, 6, True]           \n",
            "  7                  -1  1   2360320  ultralytics.nn.modules.conv.Conv             [512, 512, 3, 2]              \n"
          ]
        },
        {
          "output_type": "stream",
          "name": "stderr",
          "text": [
            "\n"
          ]
        },
        {
          "output_type": "stream",
          "name": "stdout",
          "text": [
            "  8                  -1  3   4461568  ultralytics.nn.modules.block.C2f             [512, 512, 3, True]           \n",
            "  9                  -1  1    656896  ultralytics.nn.modules.block.SPPF            [512, 512, 5]                 \n",
            " 10                  -1  1         0  torch.nn.modules.upsampling.Upsample         [None, 2, 'nearest']          \n",
            " 11             [-1, 6]  1         0  ultralytics.nn.modules.conv.Concat           [1]                           \n",
            " 12                  -1  3   4723712  ultralytics.nn.modules.block.C2f             [1024, 512, 3]                \n",
            " 13                  -1  1         0  torch.nn.modules.upsampling.Upsample         [None, 2, 'nearest']          \n",
            " 14             [-1, 4]  1         0  ultralytics.nn.modules.conv.Concat           [1]                           \n",
            " 15                  -1  3   1247744  ultralytics.nn.modules.block.C2f             [768, 256, 3]                 \n",
            " 16                  -1  1    590336  ultralytics.nn.modules.conv.Conv             [256, 256, 3, 2]              \n",
            " 17            [-1, 12]  1         0  ultralytics.nn.modules.conv.Concat           [1]                           \n",
            " 18                  -1  3   4592640  ultralytics.nn.modules.block.C2f             [768, 512, 3]                 \n",
            " 19                  -1  1   2360320  ultralytics.nn.modules.conv.Conv             [512, 512, 3, 2]              \n",
            " 20             [-1, 9]  1         0  ultralytics.nn.modules.conv.Concat           [1]                           \n",
            " 21                  -1  3   4723712  ultralytics.nn.modules.block.C2f             [1024, 512, 3]                \n",
            " 22        [15, 18, 21]  1   5583571  ultralytics.nn.modules.head.Detect           [1, [256, 512, 512]]          \n",
            "Model summary: 209 layers, 43,630,611 parameters, 43,630,595 gradients, 165.4 GFLOPs\n",
            "\n",
            "Transferred 589/595 items from pretrained weights\n",
            "Freezing layer 'model.22.dfl.conv.weight'\n",
            "\u001b[34m\u001b[1mAMP: \u001b[0mrunning Automatic Mixed Precision (AMP) checks...\n",
            "Downloading https://github.com/ultralytics/assets/releases/download/v8.3.0/yolo11n.pt to 'yolo11n.pt'...\n"
          ]
        },
        {
          "output_type": "stream",
          "name": "stderr",
          "text": [
            "100%|██████████| 5.35M/5.35M [00:00<00:00, 82.4MB/s]\n"
          ]
        },
        {
          "output_type": "stream",
          "name": "stdout",
          "text": [
            "\u001b[34m\u001b[1mAMP: \u001b[0mchecks passed ✅\n",
            "\u001b[34m\u001b[1mtrain: \u001b[0mFast image access ✅ (ping: 0.0±0.0 ms, read: 1354.1±766.2 MB/s, size: 3033.5 KB)\n"
          ]
        },
        {
          "output_type": "stream",
          "name": "stderr",
          "text": [
            "\u001b[34m\u001b[1mtrain: \u001b[0mScanning /content/data/train/labels... 40 images, 4 backgrounds, 0 corrupt: 100%|██████████| 44/44 [00:00<00:00, 98.59it/s] "
          ]
        },
        {
          "output_type": "stream",
          "name": "stdout",
          "text": [
            "\u001b[34m\u001b[1mtrain: \u001b[0mNew cache created: /content/data/train/labels.cache\n"
          ]
        },
        {
          "output_type": "stream",
          "name": "stderr",
          "text": [
            "\n"
          ]
        },
        {
          "output_type": "stream",
          "name": "stdout",
          "text": [
            "\u001b[34m\u001b[1malbumentations: \u001b[0mBlur(p=0.01, blur_limit=(3, 7)), MedianBlur(p=0.01, blur_limit=(3, 7)), ToGray(p=0.01, method='weighted_average', num_output_channels=3), CLAHE(p=0.01, clip_limit=(1.0, 4.0), tile_grid_size=(8, 8))\n",
            "\u001b[34m\u001b[1mval: \u001b[0mFast image access ✅ (ping: 0.0±0.0 ms, read: 379.2±261.5 MB/s, size: 1443.2 KB)\n"
          ]
        },
        {
          "output_type": "stream",
          "name": "stderr",
          "text": [
            "\u001b[34m\u001b[1mval: \u001b[0mScanning /content/data/validation/labels... 5 images, 1 backgrounds, 0 corrupt: 100%|██████████| 6/6 [00:00<00:00, 473.58it/s]"
          ]
        },
        {
          "output_type": "stream",
          "name": "stdout",
          "text": [
            "\u001b[34m\u001b[1mval: \u001b[0mNew cache created: /content/data/validation/labels.cache\n"
          ]
        },
        {
          "output_type": "stream",
          "name": "stderr",
          "text": [
            "\n"
          ]
        },
        {
          "output_type": "stream",
          "name": "stdout",
          "text": [
            "Plotting labels to runs/detect/train/labels.jpg... \n",
            "\u001b[34m\u001b[1moptimizer:\u001b[0m 'optimizer=auto' found, ignoring 'lr0=0.01' and 'momentum=0.937' and determining best 'optimizer', 'lr0' and 'momentum' automatically... \n",
            "\u001b[34m\u001b[1moptimizer:\u001b[0m AdamW(lr=0.002, momentum=0.9) with parameter groups 97 weight(decay=0.0), 104 weight(decay=0.0005), 103 bias(decay=0.0)\n",
            "Image sizes 640 train, 640 val\n",
            "Using 2 dataloader workers\n",
            "Logging results to \u001b[1mruns/detect/train\u001b[0m\n",
            "Starting training for 50 epochs...\n",
            "\n",
            "      Epoch    GPU_mem   box_loss   cls_loss   dfl_loss  Instances       Size\n"
          ]
        },
        {
          "output_type": "stream",
          "name": "stderr",
          "text": [
            "       1/50         9G      2.037      3.623       1.29        638        640: 100%|██████████| 3/3 [00:04<00:00,  1.34s/it]\n",
            "                 Class     Images  Instances      Box(P          R      mAP50  mAP50-95): 100%|██████████| 1/1 [00:02<00:00,  2.57s/it]"
          ]
        },
        {
          "output_type": "stream",
          "name": "stdout",
          "text": [
            "                   all          6         60      0.212        0.1     0.0904     0.0466\n"
          ]
        },
        {
          "output_type": "stream",
          "name": "stderr",
          "text": [
            "\n"
          ]
        },
        {
          "output_type": "stream",
          "name": "stdout",
          "text": [
            "\n",
            "      Epoch    GPU_mem   box_loss   cls_loss   dfl_loss  Instances       Size\n"
          ]
        },
        {
          "output_type": "stream",
          "name": "stderr",
          "text": [
            "       2/50      9.42G      1.989      3.592      1.275        690        640: 100%|██████████| 3/3 [00:02<00:00,  1.32it/s]\n",
            "                 Class     Images  Instances      Box(P          R      mAP50  mAP50-95): 100%|██████████| 1/1 [00:00<00:00,  6.81it/s]"
          ]
        },
        {
          "output_type": "stream",
          "name": "stdout",
          "text": [
            "                   all          6         60     0.0971      0.167     0.0665     0.0291\n"
          ]
        },
        {
          "output_type": "stream",
          "name": "stderr",
          "text": [
            "\n"
          ]
        },
        {
          "output_type": "stream",
          "name": "stdout",
          "text": [
            "\n",
            "      Epoch    GPU_mem   box_loss   cls_loss   dfl_loss  Instances       Size\n"
          ]
        },
        {
          "output_type": "stream",
          "name": "stderr",
          "text": [
            "       3/50      9.68G       1.91      2.125      1.227        537        640: 100%|██████████| 3/3 [00:02<00:00,  1.41it/s]\n",
            "                 Class     Images  Instances      Box(P          R      mAP50  mAP50-95): 100%|██████████| 1/1 [00:00<00:00,  6.77it/s]"
          ]
        },
        {
          "output_type": "stream",
          "name": "stdout",
          "text": [
            "                   all          6         60      0.467      0.217      0.258      0.136\n"
          ]
        },
        {
          "output_type": "stream",
          "name": "stderr",
          "text": [
            "\n"
          ]
        },
        {
          "output_type": "stream",
          "name": "stdout",
          "text": [
            "\n",
            "      Epoch    GPU_mem   box_loss   cls_loss   dfl_loss  Instances       Size\n"
          ]
        },
        {
          "output_type": "stream",
          "name": "stderr",
          "text": [
            "       4/50      9.81G       1.82      1.803      1.181        462        640: 100%|██████████| 3/3 [00:02<00:00,  1.40it/s]\n",
            "                 Class     Images  Instances      Box(P          R      mAP50  mAP50-95): 100%|██████████| 1/1 [00:00<00:00,  6.95it/s]"
          ]
        },
        {
          "output_type": "stream",
          "name": "stdout",
          "text": [
            "                   all          6         60      0.137       0.45      0.191     0.0838\n"
          ]
        },
        {
          "output_type": "stream",
          "name": "stderr",
          "text": [
            "\n"
          ]
        },
        {
          "output_type": "stream",
          "name": "stdout",
          "text": [
            "\n",
            "      Epoch    GPU_mem   box_loss   cls_loss   dfl_loss  Instances       Size\n"
          ]
        },
        {
          "output_type": "stream",
          "name": "stderr",
          "text": [
            "       5/50      9.49G      1.788      1.339      1.185        418        640: 100%|██████████| 3/3 [00:02<00:00,  1.40it/s]\n",
            "                 Class     Images  Instances      Box(P          R      mAP50  mAP50-95): 100%|██████████| 1/1 [00:00<00:00,  5.86it/s]"
          ]
        },
        {
          "output_type": "stream",
          "name": "stdout",
          "text": [
            "                   all          6         60      0.106       0.25      0.117     0.0406\n"
          ]
        },
        {
          "output_type": "stream",
          "name": "stderr",
          "text": [
            "\n"
          ]
        },
        {
          "output_type": "stream",
          "name": "stdout",
          "text": [
            "\n",
            "      Epoch    GPU_mem   box_loss   cls_loss   dfl_loss  Instances       Size\n"
          ]
        },
        {
          "output_type": "stream",
          "name": "stderr",
          "text": [
            "       6/50      9.46G      1.824      1.025      1.183        619        640: 100%|██████████| 3/3 [00:02<00:00,  1.39it/s]\n",
            "                 Class     Images  Instances      Box(P          R      mAP50  mAP50-95): 100%|██████████| 1/1 [00:00<00:00,  5.27it/s]\n"
          ]
        },
        {
          "output_type": "stream",
          "name": "stdout",
          "text": [
            "                   all          6         60     0.0445        0.7     0.0406     0.0151\n",
            "\n",
            "      Epoch    GPU_mem   box_loss   cls_loss   dfl_loss  Instances       Size\n"
          ]
        },
        {
          "output_type": "stream",
          "name": "stderr",
          "text": [
            "       7/50      9.53G      1.819      1.041      1.137        779        640: 100%|██████████| 3/3 [00:02<00:00,  1.40it/s]\n",
            "                 Class     Images  Instances      Box(P          R      mAP50  mAP50-95): 100%|██████████| 1/1 [00:00<00:00,  6.87it/s]"
          ]
        },
        {
          "output_type": "stream",
          "name": "stdout",
          "text": [
            "                   all          6         60     0.0142      0.417       0.01    0.00437\n"
          ]
        },
        {
          "output_type": "stream",
          "name": "stderr",
          "text": [
            "\n"
          ]
        },
        {
          "output_type": "stream",
          "name": "stdout",
          "text": [
            "\n",
            "      Epoch    GPU_mem   box_loss   cls_loss   dfl_loss  Instances       Size\n"
          ]
        },
        {
          "output_type": "stream",
          "name": "stderr",
          "text": [
            "       8/50      9.38G       1.73     0.9703      1.123        468        640: 100%|██████████| 3/3 [00:02<00:00,  1.44it/s]\n",
            "                 Class     Images  Instances      Box(P          R      mAP50  mAP50-95): 100%|██████████| 1/1 [00:00<00:00,  6.93it/s]"
          ]
        },
        {
          "output_type": "stream",
          "name": "stdout",
          "text": [
            "                   all          6         60     0.0128      0.383    0.00885    0.00359\n"
          ]
        },
        {
          "output_type": "stream",
          "name": "stderr",
          "text": [
            "\n"
          ]
        },
        {
          "output_type": "stream",
          "name": "stdout",
          "text": [
            "\n",
            "      Epoch    GPU_mem   box_loss   cls_loss   dfl_loss  Instances       Size\n"
          ]
        },
        {
          "output_type": "stream",
          "name": "stderr",
          "text": [
            "       9/50      9.54G       1.73     0.9191      1.113        700        640: 100%|██████████| 3/3 [00:02<00:00,  1.38it/s]\n",
            "                 Class     Images  Instances      Box(P          R      mAP50  mAP50-95): 100%|██████████| 1/1 [00:00<00:00,  4.85it/s]"
          ]
        },
        {
          "output_type": "stream",
          "name": "stdout",
          "text": [
            "                   all          6         60    0.00278     0.0833    0.00152   0.000507\n"
          ]
        },
        {
          "output_type": "stream",
          "name": "stderr",
          "text": [
            "\n"
          ]
        },
        {
          "output_type": "stream",
          "name": "stdout",
          "text": [
            "\n",
            "      Epoch    GPU_mem   box_loss   cls_loss   dfl_loss  Instances       Size\n"
          ]
        },
        {
          "output_type": "stream",
          "name": "stderr",
          "text": [
            "      10/50      9.65G      1.673     0.9795      1.146        581        640: 100%|██████████| 3/3 [00:02<00:00,  1.38it/s]\n",
            "                 Class     Images  Instances      Box(P          R      mAP50  mAP50-95): 100%|██████████| 1/1 [00:00<00:00,  6.87it/s]"
          ]
        },
        {
          "output_type": "stream",
          "name": "stdout",
          "text": [
            "                   all          6         60      0.012      0.333    0.00778    0.00373\n"
          ]
        },
        {
          "output_type": "stream",
          "name": "stderr",
          "text": [
            "\n"
          ]
        },
        {
          "output_type": "stream",
          "name": "stdout",
          "text": [
            "\n",
            "      Epoch    GPU_mem   box_loss   cls_loss   dfl_loss  Instances       Size\n"
          ]
        },
        {
          "output_type": "stream",
          "name": "stderr",
          "text": [
            "      11/50      9.56G      1.696      1.074      1.145        626        640: 100%|██████████| 3/3 [00:02<00:00,  1.36it/s]\n",
            "                 Class     Images  Instances      Box(P          R      mAP50  mAP50-95): 100%|██████████| 1/1 [00:00<00:00,  7.36it/s]"
          ]
        },
        {
          "output_type": "stream",
          "name": "stdout",
          "text": [
            "                   all          6         60     0.0118       0.25    0.00741    0.00331\n"
          ]
        },
        {
          "output_type": "stream",
          "name": "stderr",
          "text": [
            "\n"
          ]
        },
        {
          "output_type": "stream",
          "name": "stdout",
          "text": [
            "\n",
            "      Epoch    GPU_mem   box_loss   cls_loss   dfl_loss  Instances       Size\n"
          ]
        },
        {
          "output_type": "stream",
          "name": "stderr",
          "text": [
            "      12/50      9.42G      1.651     0.9816      1.128        700        640: 100%|██████████| 3/3 [00:02<00:00,  1.44it/s]\n",
            "                 Class     Images  Instances      Box(P          R      mAP50  mAP50-95): 100%|██████████| 1/1 [00:00<00:00,  6.17it/s]"
          ]
        },
        {
          "output_type": "stream",
          "name": "stdout",
          "text": [
            "                   all          6         60          0          0          0          0\n"
          ]
        },
        {
          "output_type": "stream",
          "name": "stderr",
          "text": [
            "\n"
          ]
        },
        {
          "output_type": "stream",
          "name": "stdout",
          "text": [
            "\n",
            "      Epoch    GPU_mem   box_loss   cls_loss   dfl_loss  Instances       Size\n"
          ]
        },
        {
          "output_type": "stream",
          "name": "stderr",
          "text": [
            "      13/50      9.51G      1.694      1.136      1.121        355        640: 100%|██████████| 3/3 [00:02<00:00,  1.41it/s]\n",
            "                 Class     Images  Instances      Box(P          R      mAP50  mAP50-95): 100%|██████████| 1/1 [00:00<00:00,  7.06it/s]"
          ]
        },
        {
          "output_type": "stream",
          "name": "stdout",
          "text": [
            "                   all          6         60   0.000556     0.0167   0.000297    8.9e-05\n"
          ]
        },
        {
          "output_type": "stream",
          "name": "stderr",
          "text": [
            "\n"
          ]
        },
        {
          "output_type": "stream",
          "name": "stdout",
          "text": [
            "\n",
            "      Epoch    GPU_mem   box_loss   cls_loss   dfl_loss  Instances       Size\n"
          ]
        },
        {
          "output_type": "stream",
          "name": "stderr",
          "text": [
            "      14/50      9.66G      1.665     0.9069      1.161        654        640: 100%|██████████| 3/3 [00:02<00:00,  1.42it/s]\n",
            "                 Class     Images  Instances      Box(P          R      mAP50  mAP50-95): 100%|██████████| 1/1 [00:00<00:00,  7.04it/s]"
          ]
        },
        {
          "output_type": "stream",
          "name": "stdout",
          "text": [
            "                   all          6         60          0          0          0          0\n"
          ]
        },
        {
          "output_type": "stream",
          "name": "stderr",
          "text": [
            "\n"
          ]
        },
        {
          "output_type": "stream",
          "name": "stdout",
          "text": [
            "\n",
            "      Epoch    GPU_mem   box_loss   cls_loss   dfl_loss  Instances       Size\n"
          ]
        },
        {
          "output_type": "stream",
          "name": "stderr",
          "text": [
            "      15/50      9.73G      1.646     0.9399      1.132        459        640: 100%|██████████| 3/3 [00:02<00:00,  1.29it/s]\n",
            "                 Class     Images  Instances      Box(P          R      mAP50  mAP50-95): 100%|██████████| 1/1 [00:00<00:00,  6.58it/s]"
          ]
        },
        {
          "output_type": "stream",
          "name": "stdout",
          "text": [
            "                   all          6         60          0          0          0          0\n"
          ]
        },
        {
          "output_type": "stream",
          "name": "stderr",
          "text": [
            "\n"
          ]
        },
        {
          "output_type": "stream",
          "name": "stdout",
          "text": [
            "\n",
            "      Epoch    GPU_mem   box_loss   cls_loss   dfl_loss  Instances       Size\n"
          ]
        },
        {
          "output_type": "stream",
          "name": "stderr",
          "text": [
            "      16/50      9.57G      1.668     0.9044      1.143        693        640: 100%|██████████| 3/3 [00:02<00:00,  1.41it/s]\n",
            "                 Class     Images  Instances      Box(P          R      mAP50  mAP50-95): 100%|██████████| 1/1 [00:00<00:00,  7.22it/s]"
          ]
        },
        {
          "output_type": "stream",
          "name": "stdout",
          "text": [
            "                   all          6         60          0          0          0          0\n"
          ]
        },
        {
          "output_type": "stream",
          "name": "stderr",
          "text": [
            "\n"
          ]
        },
        {
          "output_type": "stream",
          "name": "stdout",
          "text": [
            "\n",
            "      Epoch    GPU_mem   box_loss   cls_loss   dfl_loss  Instances       Size\n"
          ]
        },
        {
          "output_type": "stream",
          "name": "stderr",
          "text": [
            "      17/50      9.97G      1.596     0.9161      1.122        663        640: 100%|██████████| 3/3 [00:02<00:00,  1.41it/s]\n",
            "                 Class     Images  Instances      Box(P          R      mAP50  mAP50-95): 100%|██████████| 1/1 [00:00<00:00,  6.43it/s]"
          ]
        },
        {
          "output_type": "stream",
          "name": "stdout",
          "text": [
            "                   all          6         60          0          0          0          0\n"
          ]
        },
        {
          "output_type": "stream",
          "name": "stderr",
          "text": [
            "\n"
          ]
        },
        {
          "output_type": "stream",
          "name": "stdout",
          "text": [
            "\n",
            "      Epoch    GPU_mem   box_loss   cls_loss   dfl_loss  Instances       Size\n"
          ]
        },
        {
          "output_type": "stream",
          "name": "stderr",
          "text": [
            "      18/50      9.61G      1.644     0.8678      1.138        637        640: 100%|██████████| 3/3 [00:02<00:00,  1.29it/s]\n",
            "                 Class     Images  Instances      Box(P          R      mAP50  mAP50-95): 100%|██████████| 1/1 [00:00<00:00,  5.54it/s]"
          ]
        },
        {
          "output_type": "stream",
          "name": "stdout",
          "text": [
            "                   all          6         60          0          0          0          0\n"
          ]
        },
        {
          "output_type": "stream",
          "name": "stderr",
          "text": [
            "\n"
          ]
        },
        {
          "output_type": "stream",
          "name": "stdout",
          "text": [
            "\n",
            "      Epoch    GPU_mem   box_loss   cls_loss   dfl_loss  Instances       Size\n"
          ]
        },
        {
          "output_type": "stream",
          "name": "stderr",
          "text": [
            "      19/50      9.61G      1.684     0.8909      1.167        508        640: 100%|██████████| 3/3 [00:02<00:00,  1.42it/s]\n",
            "                 Class     Images  Instances      Box(P          R      mAP50  mAP50-95): 100%|██████████| 1/1 [00:00<00:00,  7.28it/s]"
          ]
        },
        {
          "output_type": "stream",
          "name": "stdout",
          "text": [
            "                   all          6         60     0.0269      0.283     0.0133    0.00504\n"
          ]
        },
        {
          "output_type": "stream",
          "name": "stderr",
          "text": [
            "\n"
          ]
        },
        {
          "output_type": "stream",
          "name": "stdout",
          "text": [
            "\n",
            "      Epoch    GPU_mem   box_loss   cls_loss   dfl_loss  Instances       Size\n"
          ]
        },
        {
          "output_type": "stream",
          "name": "stderr",
          "text": [
            "      20/50      9.52G       1.57     0.8234      1.123        607        640: 100%|██████████| 3/3 [00:02<00:00,  1.41it/s]\n",
            "                 Class     Images  Instances      Box(P          R      mAP50  mAP50-95): 100%|██████████| 1/1 [00:00<00:00,  7.19it/s]"
          ]
        },
        {
          "output_type": "stream",
          "name": "stdout",
          "text": [
            "                   all          6         60     0.0382      0.483     0.0294     0.0124\n"
          ]
        },
        {
          "output_type": "stream",
          "name": "stderr",
          "text": [
            "\n"
          ]
        },
        {
          "output_type": "stream",
          "name": "stdout",
          "text": [
            "\n",
            "      Epoch    GPU_mem   box_loss   cls_loss   dfl_loss  Instances       Size\n"
          ]
        },
        {
          "output_type": "stream",
          "name": "stderr",
          "text": [
            "      21/50      9.52G      1.642     0.8444      1.101        604        640: 100%|██████████| 3/3 [00:02<00:00,  1.31it/s]\n",
            "                 Class     Images  Instances      Box(P          R      mAP50  mAP50-95): 100%|██████████| 1/1 [00:00<00:00,  6.99it/s]"
          ]
        },
        {
          "output_type": "stream",
          "name": "stdout",
          "text": [
            "                   all          6         60     0.0478      0.617     0.0398     0.0155\n"
          ]
        },
        {
          "output_type": "stream",
          "name": "stderr",
          "text": [
            "\n"
          ]
        },
        {
          "output_type": "stream",
          "name": "stdout",
          "text": [
            "\n",
            "      Epoch    GPU_mem   box_loss   cls_loss   dfl_loss  Instances       Size\n"
          ]
        },
        {
          "output_type": "stream",
          "name": "stderr",
          "text": [
            "      22/50      9.65G      1.646     0.8978      1.104        689        640: 100%|██████████| 3/3 [00:02<00:00,  1.38it/s]\n",
            "                 Class     Images  Instances      Box(P          R      mAP50  mAP50-95): 100%|██████████| 1/1 [00:00<00:00,  7.06it/s]"
          ]
        },
        {
          "output_type": "stream",
          "name": "stdout",
          "text": [
            "                   all          6         60    0.00964      0.283    0.00612    0.00264\n"
          ]
        },
        {
          "output_type": "stream",
          "name": "stderr",
          "text": [
            "\n"
          ]
        },
        {
          "output_type": "stream",
          "name": "stdout",
          "text": [
            "\n",
            "      Epoch    GPU_mem   box_loss   cls_loss   dfl_loss  Instances       Size\n"
          ]
        },
        {
          "output_type": "stream",
          "name": "stderr",
          "text": [
            "      23/50       9.3G      1.644     0.8909       1.12        614        640: 100%|██████████| 3/3 [00:02<00:00,  1.33it/s]\n",
            "                 Class     Images  Instances      Box(P          R      mAP50  mAP50-95): 100%|██████████| 1/1 [00:00<00:00,  4.93it/s]"
          ]
        },
        {
          "output_type": "stream",
          "name": "stdout",
          "text": [
            "                   all          6         60          0          0          0          0\n"
          ]
        },
        {
          "output_type": "stream",
          "name": "stderr",
          "text": [
            "\n"
          ]
        },
        {
          "output_type": "stream",
          "name": "stdout",
          "text": [
            "\n",
            "      Epoch    GPU_mem   box_loss   cls_loss   dfl_loss  Instances       Size\n"
          ]
        },
        {
          "output_type": "stream",
          "name": "stderr",
          "text": [
            "      24/50        10G      1.647     0.8815      1.135        572        640: 100%|██████████| 3/3 [00:02<00:00,  1.40it/s]\n",
            "                 Class     Images  Instances      Box(P          R      mAP50  mAP50-95): 100%|██████████| 1/1 [00:00<00:00,  5.92it/s]"
          ]
        },
        {
          "output_type": "stream",
          "name": "stdout",
          "text": [
            "                   all          6         60    0.00845       0.25    0.00525    0.00243\n"
          ]
        },
        {
          "output_type": "stream",
          "name": "stderr",
          "text": [
            "\n"
          ]
        },
        {
          "output_type": "stream",
          "name": "stdout",
          "text": [
            "\n",
            "      Epoch    GPU_mem   box_loss   cls_loss   dfl_loss  Instances       Size\n"
          ]
        },
        {
          "output_type": "stream",
          "name": "stderr",
          "text": [
            "      25/50      9.65G      1.424     0.7978      1.067        814        640: 100%|██████████| 3/3 [00:02<00:00,  1.41it/s]\n",
            "                 Class     Images  Instances      Box(P          R      mAP50  mAP50-95): 100%|██████████| 1/1 [00:00<00:00,  7.02it/s]"
          ]
        },
        {
          "output_type": "stream",
          "name": "stdout",
          "text": [
            "                   all          6         60    0.00598      0.117    0.00242    0.00132\n"
          ]
        },
        {
          "output_type": "stream",
          "name": "stderr",
          "text": [
            "\n"
          ]
        },
        {
          "output_type": "stream",
          "name": "stdout",
          "text": [
            "\n",
            "      Epoch    GPU_mem   box_loss   cls_loss   dfl_loss  Instances       Size\n"
          ]
        },
        {
          "output_type": "stream",
          "name": "stderr",
          "text": [
            "      26/50        10G      1.538      0.794       1.08        557        640: 100%|██████████| 3/3 [00:02<00:00,  1.40it/s]\n",
            "                 Class     Images  Instances      Box(P          R      mAP50  mAP50-95): 100%|██████████| 1/1 [00:00<00:00,  6.58it/s]"
          ]
        },
        {
          "output_type": "stream",
          "name": "stdout",
          "text": [
            "                   all          6         60          0          0          0          0\n"
          ]
        },
        {
          "output_type": "stream",
          "name": "stderr",
          "text": [
            "\n"
          ]
        },
        {
          "output_type": "stream",
          "name": "stdout",
          "text": [
            "\n",
            "      Epoch    GPU_mem   box_loss   cls_loss   dfl_loss  Instances       Size\n"
          ]
        },
        {
          "output_type": "stream",
          "name": "stderr",
          "text": [
            "      27/50      10.1G      1.532     0.8012      1.066        789        640: 100%|██████████| 3/3 [00:02<00:00,  1.39it/s]\n",
            "                 Class     Images  Instances      Box(P          R      mAP50  mAP50-95): 100%|██████████| 1/1 [00:00<00:00,  6.62it/s]"
          ]
        },
        {
          "output_type": "stream",
          "name": "stdout",
          "text": [
            "                   all          6         60    0.00656      0.167    0.00372    0.00152\n"
          ]
        },
        {
          "output_type": "stream",
          "name": "stderr",
          "text": [
            "\n"
          ]
        },
        {
          "output_type": "stream",
          "name": "stdout",
          "text": [
            "\n",
            "      Epoch    GPU_mem   box_loss   cls_loss   dfl_loss  Instances       Size\n"
          ]
        },
        {
          "output_type": "stream",
          "name": "stderr",
          "text": [
            "      28/50      9.97G      1.442     0.7305       1.06        689        640: 100%|██████████| 3/3 [00:02<00:00,  1.34it/s]\n",
            "                 Class     Images  Instances      Box(P          R      mAP50  mAP50-95): 100%|██████████| 1/1 [00:00<00:00,  6.03it/s]\n"
          ]
        },
        {
          "output_type": "stream",
          "name": "stdout",
          "text": [
            "                   all          6         60     0.0594      0.267     0.0335     0.0121\n",
            "\n",
            "      Epoch    GPU_mem   box_loss   cls_loss   dfl_loss  Instances       Size\n"
          ]
        },
        {
          "output_type": "stream",
          "name": "stderr",
          "text": [
            "      29/50      9.84G      1.497      0.769      1.073        527        640: 100%|██████████| 3/3 [00:02<00:00,  1.41it/s]\n",
            "                 Class     Images  Instances      Box(P          R      mAP50  mAP50-95): 100%|██████████| 1/1 [00:00<00:00,  6.57it/s]"
          ]
        },
        {
          "output_type": "stream",
          "name": "stdout",
          "text": [
            "                   all          6         60     0.0594      0.267     0.0335     0.0121\n"
          ]
        },
        {
          "output_type": "stream",
          "name": "stderr",
          "text": [
            "\n"
          ]
        },
        {
          "output_type": "stream",
          "name": "stdout",
          "text": [
            "\n",
            "      Epoch    GPU_mem   box_loss   cls_loss   dfl_loss  Instances       Size\n"
          ]
        },
        {
          "output_type": "stream",
          "name": "stderr",
          "text": [
            "      30/50      9.59G      1.551     0.8856       1.09        377        640: 100%|██████████| 3/3 [00:02<00:00,  1.33it/s]\n",
            "                 Class     Images  Instances      Box(P          R      mAP50  mAP50-95): 100%|██████████| 1/1 [00:00<00:00,  5.14it/s]\n"
          ]
        },
        {
          "output_type": "stream",
          "name": "stdout",
          "text": [
            "                   all          6         60     0.0573        0.6     0.0458     0.0175\n",
            "\n",
            "      Epoch    GPU_mem   box_loss   cls_loss   dfl_loss  Instances       Size\n"
          ]
        },
        {
          "output_type": "stream",
          "name": "stderr",
          "text": [
            "      31/50      9.52G      1.497     0.7696      1.098        474        640: 100%|██████████| 3/3 [00:02<00:00,  1.41it/s]\n",
            "                 Class     Images  Instances      Box(P          R      mAP50  mAP50-95): 100%|██████████| 1/1 [00:00<00:00,  7.26it/s]"
          ]
        },
        {
          "output_type": "stream",
          "name": "stdout",
          "text": [
            "                   all          6         60      0.143      0.417     0.0929     0.0367\n"
          ]
        },
        {
          "output_type": "stream",
          "name": "stderr",
          "text": [
            "\n"
          ]
        },
        {
          "output_type": "stream",
          "name": "stdout",
          "text": [
            "\n",
            "      Epoch    GPU_mem   box_loss   cls_loss   dfl_loss  Instances       Size\n"
          ]
        },
        {
          "output_type": "stream",
          "name": "stderr",
          "text": [
            "      32/50      9.82G      1.493     0.8048      1.066        548        640: 100%|██████████| 3/3 [00:02<00:00,  1.38it/s]\n",
            "                 Class     Images  Instances      Box(P          R      mAP50  mAP50-95): 100%|██████████| 1/1 [00:00<00:00,  6.97it/s]"
          ]
        },
        {
          "output_type": "stream",
          "name": "stdout",
          "text": [
            "                   all          6         60      0.337      0.431       0.21     0.0873\n"
          ]
        },
        {
          "output_type": "stream",
          "name": "stderr",
          "text": [
            "\n"
          ]
        },
        {
          "output_type": "stream",
          "name": "stdout",
          "text": [
            "\n",
            "      Epoch    GPU_mem   box_loss   cls_loss   dfl_loss  Instances       Size\n"
          ]
        },
        {
          "output_type": "stream",
          "name": "stderr",
          "text": [
            "      33/50      9.54G      1.483     0.7608      1.104        602        640: 100%|██████████| 3/3 [00:02<00:00,  1.41it/s]\n",
            "                 Class     Images  Instances      Box(P          R      mAP50  mAP50-95): 100%|██████████| 1/1 [00:00<00:00,  5.37it/s]"
          ]
        },
        {
          "output_type": "stream",
          "name": "stdout",
          "text": [
            "                   all          6         60      0.337      0.431       0.21     0.0873\n"
          ]
        },
        {
          "output_type": "stream",
          "name": "stderr",
          "text": [
            "\n"
          ]
        },
        {
          "output_type": "stream",
          "name": "stdout",
          "text": [
            "\n",
            "      Epoch    GPU_mem   box_loss   cls_loss   dfl_loss  Instances       Size\n"
          ]
        },
        {
          "output_type": "stream",
          "name": "stderr",
          "text": [
            "      34/50      9.97G      1.413     0.7176      1.027        746        640: 100%|██████████| 3/3 [00:02<00:00,  1.34it/s]\n",
            "                 Class     Images  Instances      Box(P          R      mAP50  mAP50-95): 100%|██████████| 1/1 [00:00<00:00,  7.23it/s]"
          ]
        },
        {
          "output_type": "stream",
          "name": "stdout",
          "text": [
            "                   all          6         60      0.381      0.533      0.445      0.194\n"
          ]
        },
        {
          "output_type": "stream",
          "name": "stderr",
          "text": [
            "\n"
          ]
        },
        {
          "output_type": "stream",
          "name": "stdout",
          "text": [
            "\n",
            "      Epoch    GPU_mem   box_loss   cls_loss   dfl_loss  Instances       Size\n"
          ]
        },
        {
          "output_type": "stream",
          "name": "stderr",
          "text": [
            "      35/50       9.5G      1.445     0.7845      1.074        460        640: 100%|██████████| 3/3 [00:02<00:00,  1.31it/s]\n",
            "                 Class     Images  Instances      Box(P          R      mAP50  mAP50-95): 100%|██████████| 1/1 [00:00<00:00,  7.10it/s]"
          ]
        },
        {
          "output_type": "stream",
          "name": "stdout",
          "text": [
            "                   all          6         60      0.552      0.575      0.575      0.251\n"
          ]
        },
        {
          "output_type": "stream",
          "name": "stderr",
          "text": [
            "\n"
          ]
        },
        {
          "output_type": "stream",
          "name": "stdout",
          "text": [
            "\n",
            "      Epoch    GPU_mem   box_loss   cls_loss   dfl_loss  Instances       Size\n"
          ]
        },
        {
          "output_type": "stream",
          "name": "stderr",
          "text": [
            "      36/50      9.57G      1.443     0.7464       1.03        799        640: 100%|██████████| 3/3 [00:02<00:00,  1.38it/s]\n",
            "                 Class     Images  Instances      Box(P          R      mAP50  mAP50-95): 100%|██████████| 1/1 [00:00<00:00,  7.38it/s]"
          ]
        },
        {
          "output_type": "stream",
          "name": "stdout",
          "text": [
            "                   all          6         60      0.659      0.467      0.564      0.246\n"
          ]
        },
        {
          "output_type": "stream",
          "name": "stderr",
          "text": [
            "\n"
          ]
        },
        {
          "output_type": "stream",
          "name": "stdout",
          "text": [
            "\n",
            "      Epoch    GPU_mem   box_loss   cls_loss   dfl_loss  Instances       Size\n"
          ]
        },
        {
          "output_type": "stream",
          "name": "stderr",
          "text": [
            "      37/50      9.49G      1.402      0.735      1.014        739        640: 100%|██████████| 3/3 [00:02<00:00,  1.40it/s]\n",
            "                 Class     Images  Instances      Box(P          R      mAP50  mAP50-95): 100%|██████████| 1/1 [00:00<00:00,  6.42it/s]"
          ]
        },
        {
          "output_type": "stream",
          "name": "stdout",
          "text": [
            "                   all          6         60      0.659      0.467      0.564      0.246\n"
          ]
        },
        {
          "output_type": "stream",
          "name": "stderr",
          "text": [
            "\n"
          ]
        },
        {
          "output_type": "stream",
          "name": "stdout",
          "text": [
            "\n",
            "      Epoch    GPU_mem   box_loss   cls_loss   dfl_loss  Instances       Size\n"
          ]
        },
        {
          "output_type": "stream",
          "name": "stderr",
          "text": [
            "      38/50      9.88G      1.472     0.7361      1.051        732        640: 100%|██████████| 3/3 [00:02<00:00,  1.39it/s]\n",
            "                 Class     Images  Instances      Box(P          R      mAP50  mAP50-95): 100%|██████████| 1/1 [00:00<00:00,  5.92it/s]\n"
          ]
        },
        {
          "output_type": "stream",
          "name": "stdout",
          "text": [
            "                   all          6         60      0.469      0.417      0.434       0.18\n",
            "\n",
            "      Epoch    GPU_mem   box_loss   cls_loss   dfl_loss  Instances       Size\n"
          ]
        },
        {
          "output_type": "stream",
          "name": "stderr",
          "text": [
            "      39/50      9.81G      1.408     0.7517      1.046        534        640: 100%|██████████| 3/3 [00:02<00:00,  1.36it/s]\n",
            "                 Class     Images  Instances      Box(P          R      mAP50  mAP50-95): 100%|██████████| 1/1 [00:00<00:00,  7.34it/s]"
          ]
        },
        {
          "output_type": "stream",
          "name": "stdout",
          "text": [
            "                   all          6         60      0.457      0.379      0.319       0.14\n"
          ]
        },
        {
          "output_type": "stream",
          "name": "stderr",
          "text": [
            "\n"
          ]
        },
        {
          "output_type": "stream",
          "name": "stdout",
          "text": [
            "\n",
            "      Epoch    GPU_mem   box_loss   cls_loss   dfl_loss  Instances       Size\n"
          ]
        },
        {
          "output_type": "stream",
          "name": "stderr",
          "text": [
            "      40/50      9.75G      1.385     0.7228          1        639        640: 100%|██████████| 3/3 [00:02<00:00,  1.39it/s]\n",
            "                 Class     Images  Instances      Box(P          R      mAP50  mAP50-95): 100%|██████████| 1/1 [00:00<00:00,  7.37it/s]"
          ]
        },
        {
          "output_type": "stream",
          "name": "stdout",
          "text": [
            "                   all          6         60     0.0658      0.417     0.0458     0.0206\n"
          ]
        },
        {
          "output_type": "stream",
          "name": "stderr",
          "text": [
            "\n"
          ]
        },
        {
          "output_type": "stream",
          "name": "stdout",
          "text": [
            "Closing dataloader mosaic\n",
            "\u001b[34m\u001b[1malbumentations: \u001b[0mBlur(p=0.01, blur_limit=(3, 7)), MedianBlur(p=0.01, blur_limit=(3, 7)), ToGray(p=0.01, method='weighted_average', num_output_channels=3), CLAHE(p=0.01, clip_limit=(1.0, 4.0), tile_grid_size=(8, 8))\n",
            "\n",
            "      Epoch    GPU_mem   box_loss   cls_loss   dfl_loss  Instances       Size\n"
          ]
        },
        {
          "output_type": "stream",
          "name": "stderr",
          "text": [
            "      41/50      9.86G      1.416     0.7416       1.07        333        640: 100%|██████████| 3/3 [00:05<00:00,  1.79s/it]\n",
            "                 Class     Images  Instances      Box(P          R      mAP50  mAP50-95): 100%|██████████| 1/1 [00:00<00:00,  2.38it/s]"
          ]
        },
        {
          "output_type": "stream",
          "name": "stdout",
          "text": [
            "                   all          6         60     0.0658      0.417     0.0458     0.0206\n"
          ]
        },
        {
          "output_type": "stream",
          "name": "stderr",
          "text": [
            "\n"
          ]
        },
        {
          "output_type": "stream",
          "name": "stdout",
          "text": [
            "\n",
            "      Epoch    GPU_mem   box_loss   cls_loss   dfl_loss  Instances       Size\n"
          ]
        },
        {
          "output_type": "stream",
          "name": "stderr",
          "text": [
            "      42/50      9.49G      1.417     0.7817      1.085        368        640: 100%|██████████| 3/3 [00:02<00:00,  1.38it/s]\n",
            "                 Class     Images  Instances      Box(P          R      mAP50  mAP50-95): 100%|██████████| 1/1 [00:00<00:00,  7.18it/s]"
          ]
        },
        {
          "output_type": "stream",
          "name": "stdout",
          "text": [
            "                   all          6         60     0.0381      0.467     0.0303     0.0137\n"
          ]
        },
        {
          "output_type": "stream",
          "name": "stderr",
          "text": [
            "\n"
          ]
        },
        {
          "output_type": "stream",
          "name": "stdout",
          "text": [
            "\n",
            "      Epoch    GPU_mem   box_loss   cls_loss   dfl_loss  Instances       Size\n"
          ]
        },
        {
          "output_type": "stream",
          "name": "stderr",
          "text": [
            "      43/50      9.71G      1.365     0.6906      1.037        344        640: 100%|██████████| 3/3 [00:02<00:00,  1.40it/s]\n",
            "                 Class     Images  Instances      Box(P          R      mAP50  mAP50-95): 100%|██████████| 1/1 [00:00<00:00,  5.83it/s]\n"
          ]
        },
        {
          "output_type": "stream",
          "name": "stdout",
          "text": [
            "                   all          6         60     0.0627      0.433     0.0433     0.0192\n",
            "\n",
            "      Epoch    GPU_mem   box_loss   cls_loss   dfl_loss  Instances       Size\n"
          ]
        },
        {
          "output_type": "stream",
          "name": "stderr",
          "text": [
            "      44/50      9.69G      1.364     0.7038      1.063        291        640: 100%|██████████| 3/3 [00:02<00:00,  1.35it/s]\n",
            "                 Class     Images  Instances      Box(P          R      mAP50  mAP50-95): 100%|██████████| 1/1 [00:00<00:00,  7.18it/s]"
          ]
        },
        {
          "output_type": "stream",
          "name": "stdout",
          "text": [
            "                   all          6         60      0.409      0.333      0.326      0.161\n"
          ]
        },
        {
          "output_type": "stream",
          "name": "stderr",
          "text": [
            "\n"
          ]
        },
        {
          "output_type": "stream",
          "name": "stdout",
          "text": [
            "\n",
            "      Epoch    GPU_mem   box_loss   cls_loss   dfl_loss  Instances       Size\n"
          ]
        },
        {
          "output_type": "stream",
          "name": "stderr",
          "text": [
            "      45/50      9.53G      1.362     0.6735      1.033        273        640: 100%|██████████| 3/3 [00:02<00:00,  1.40it/s]\n",
            "                 Class     Images  Instances      Box(P          R      mAP50  mAP50-95): 100%|██████████| 1/1 [00:00<00:00,  7.38it/s]"
          ]
        },
        {
          "output_type": "stream",
          "name": "stdout",
          "text": [
            "                   all          6         60      0.409      0.333      0.326      0.161\n"
          ]
        },
        {
          "output_type": "stream",
          "name": "stderr",
          "text": [
            "\n"
          ]
        },
        {
          "output_type": "stream",
          "name": "stdout",
          "text": [
            "\n",
            "      Epoch    GPU_mem   box_loss   cls_loss   dfl_loss  Instances       Size\n"
          ]
        },
        {
          "output_type": "stream",
          "name": "stderr",
          "text": [
            "      46/50      9.68G      1.372     0.6933      1.039        352        640: 100%|██████████| 3/3 [00:02<00:00,  1.39it/s]\n",
            "                 Class     Images  Instances      Box(P          R      mAP50  mAP50-95): 100%|██████████| 1/1 [00:00<00:00,  5.51it/s]"
          ]
        },
        {
          "output_type": "stream",
          "name": "stdout",
          "text": [
            "                   all          6         60      0.421      0.383      0.354      0.173\n"
          ]
        },
        {
          "output_type": "stream",
          "name": "stderr",
          "text": [
            "\n"
          ]
        },
        {
          "output_type": "stream",
          "name": "stdout",
          "text": [
            "\n",
            "      Epoch    GPU_mem   box_loss   cls_loss   dfl_loss  Instances       Size\n"
          ]
        },
        {
          "output_type": "stream",
          "name": "stderr",
          "text": [
            "      47/50       9.6G      1.339     0.6652      1.059        352        640: 100%|██████████| 3/3 [00:02<00:00,  1.37it/s]\n",
            "                 Class     Images  Instances      Box(P          R      mAP50  mAP50-95): 100%|██████████| 1/1 [00:00<00:00,  6.81it/s]"
          ]
        },
        {
          "output_type": "stream",
          "name": "stdout",
          "text": [
            "                   all          6         60      0.376      0.467      0.398      0.202\n"
          ]
        },
        {
          "output_type": "stream",
          "name": "stderr",
          "text": [
            "\n"
          ]
        },
        {
          "output_type": "stream",
          "name": "stdout",
          "text": [
            "\n",
            "      Epoch    GPU_mem   box_loss   cls_loss   dfl_loss  Instances       Size\n"
          ]
        },
        {
          "output_type": "stream",
          "name": "stderr",
          "text": [
            "      48/50       9.4G      1.377     0.6813      1.061        261        640: 100%|██████████| 3/3 [00:02<00:00,  1.40it/s]\n",
            "                 Class     Images  Instances      Box(P          R      mAP50  mAP50-95): 100%|██████████| 1/1 [00:00<00:00,  6.97it/s]"
          ]
        },
        {
          "output_type": "stream",
          "name": "stdout",
          "text": [
            "                   all          6         60      0.476      0.417      0.459      0.228\n"
          ]
        },
        {
          "output_type": "stream",
          "name": "stderr",
          "text": [
            "\n"
          ]
        },
        {
          "output_type": "stream",
          "name": "stdout",
          "text": [
            "\n",
            "      Epoch    GPU_mem   box_loss   cls_loss   dfl_loss  Instances       Size\n"
          ]
        },
        {
          "output_type": "stream",
          "name": "stderr",
          "text": [
            "      49/50      9.57G      1.347      0.657      1.016        413        640: 100%|██████████| 3/3 [00:02<00:00,  1.36it/s]\n",
            "                 Class     Images  Instances      Box(P          R      mAP50  mAP50-95): 100%|██████████| 1/1 [00:00<00:00,  5.19it/s]"
          ]
        },
        {
          "output_type": "stream",
          "name": "stdout",
          "text": [
            "                   all          6         60      0.476      0.417      0.459      0.228\n"
          ]
        },
        {
          "output_type": "stream",
          "name": "stderr",
          "text": [
            "\n"
          ]
        },
        {
          "output_type": "stream",
          "name": "stdout",
          "text": [
            "\n",
            "      Epoch    GPU_mem   box_loss   cls_loss   dfl_loss  Instances       Size\n"
          ]
        },
        {
          "output_type": "stream",
          "name": "stderr",
          "text": [
            "      50/50      9.51G       1.34     0.6563      1.042        287        640: 100%|██████████| 3/3 [00:02<00:00,  1.39it/s]\n",
            "                 Class     Images  Instances      Box(P          R      mAP50  mAP50-95): 100%|██████████| 1/1 [00:00<00:00,  7.19it/s]"
          ]
        },
        {
          "output_type": "stream",
          "name": "stdout",
          "text": [
            "                   all          6         60      0.537      0.433      0.498      0.239\n"
          ]
        },
        {
          "output_type": "stream",
          "name": "stderr",
          "text": [
            "\n"
          ]
        },
        {
          "output_type": "stream",
          "name": "stdout",
          "text": [
            "\n",
            "50 epochs completed in 0.073 hours.\n",
            "Optimizer stripped from runs/detect/train/weights/last.pt, 87.6MB\n",
            "Optimizer stripped from runs/detect/train/weights/best.pt, 87.6MB\n",
            "\n",
            "Validating runs/detect/train/weights/best.pt...\n",
            "Ultralytics 8.3.135 🚀 Python-3.11.12 torch-2.6.0+cu124 CUDA:0 (Tesla T4, 15095MiB)\n",
            "Model summary (fused): 112 layers, 43,607,379 parameters, 0 gradients, 164.8 GFLOPs\n"
          ]
        },
        {
          "output_type": "stream",
          "name": "stderr",
          "text": [
            "                 Class     Images  Instances      Box(P          R      mAP50  mAP50-95): 100%|██████████| 1/1 [00:00<00:00,  6.84it/s]\n"
          ]
        },
        {
          "output_type": "stream",
          "name": "stdout",
          "text": [
            "                   all          6         60       0.55      0.591      0.578      0.253\n",
            "Speed: 0.2ms preprocess, 15.3ms inference, 0.0ms loss, 1.5ms postprocess per image\n",
            "Results saved to \u001b[1mruns/detect/train\u001b[0m\n"
          ]
        },
        {
          "output_type": "execute_result",
          "data": {
            "text/plain": [
              "ultralytics.utils.metrics.DetMetrics object with attributes:\n",
              "\n",
              "ap_class_index: array([0])\n",
              "box: ultralytics.utils.metrics.Metric object\n",
              "confusion_matrix: <ultralytics.utils.metrics.ConfusionMatrix object at 0x7edd3b79b650>\n",
              "curves: ['Precision-Recall(B)', 'F1-Confidence(B)', 'Precision-Confidence(B)', 'Recall-Confidence(B)']\n",
              "curves_results: [[array([          0,    0.001001,    0.002002,    0.003003,    0.004004,    0.005005,    0.006006,    0.007007,    0.008008,    0.009009,     0.01001,    0.011011,    0.012012,    0.013013,    0.014014,    0.015015,    0.016016,    0.017017,    0.018018,    0.019019,     0.02002,    0.021021,    0.022022,    0.023023,\n",
              "          0.024024,    0.025025,    0.026026,    0.027027,    0.028028,    0.029029,     0.03003,    0.031031,    0.032032,    0.033033,    0.034034,    0.035035,    0.036036,    0.037037,    0.038038,    0.039039,     0.04004,    0.041041,    0.042042,    0.043043,    0.044044,    0.045045,    0.046046,    0.047047,\n",
              "          0.048048,    0.049049,     0.05005,    0.051051,    0.052052,    0.053053,    0.054054,    0.055055,    0.056056,    0.057057,    0.058058,    0.059059,     0.06006,    0.061061,    0.062062,    0.063063,    0.064064,    0.065065,    0.066066,    0.067067,    0.068068,    0.069069,     0.07007,    0.071071,\n",
              "          0.072072,    0.073073,    0.074074,    0.075075,    0.076076,    0.077077,    0.078078,    0.079079,     0.08008,    0.081081,    0.082082,    0.083083,    0.084084,    0.085085,    0.086086,    0.087087,    0.088088,    0.089089,     0.09009,    0.091091,    0.092092,    0.093093,    0.094094,    0.095095,\n",
              "          0.096096,    0.097097,    0.098098,    0.099099,      0.1001,      0.1011,      0.1021,      0.1031,      0.1041,     0.10511,     0.10611,     0.10711,     0.10811,     0.10911,     0.11011,     0.11111,     0.11211,     0.11311,     0.11411,     0.11512,     0.11612,     0.11712,     0.11812,     0.11912,\n",
              "           0.12012,     0.12112,     0.12212,     0.12312,     0.12412,     0.12513,     0.12613,     0.12713,     0.12813,     0.12913,     0.13013,     0.13113,     0.13213,     0.13313,     0.13413,     0.13514,     0.13614,     0.13714,     0.13814,     0.13914,     0.14014,     0.14114,     0.14214,     0.14314,\n",
              "           0.14414,     0.14515,     0.14615,     0.14715,     0.14815,     0.14915,     0.15015,     0.15115,     0.15215,     0.15315,     0.15415,     0.15516,     0.15616,     0.15716,     0.15816,     0.15916,     0.16016,     0.16116,     0.16216,     0.16316,     0.16416,     0.16517,     0.16617,     0.16717,\n",
              "           0.16817,     0.16917,     0.17017,     0.17117,     0.17217,     0.17317,     0.17417,     0.17518,     0.17618,     0.17718,     0.17818,     0.17918,     0.18018,     0.18118,     0.18218,     0.18318,     0.18418,     0.18519,     0.18619,     0.18719,     0.18819,     0.18919,     0.19019,     0.19119,\n",
              "           0.19219,     0.19319,     0.19419,      0.1952,      0.1962,      0.1972,      0.1982,      0.1992,      0.2002,      0.2012,      0.2022,      0.2032,      0.2042,     0.20521,     0.20621,     0.20721,     0.20821,     0.20921,     0.21021,     0.21121,     0.21221,     0.21321,     0.21421,     0.21522,\n",
              "           0.21622,     0.21722,     0.21822,     0.21922,     0.22022,     0.22122,     0.22222,     0.22322,     0.22422,     0.22523,     0.22623,     0.22723,     0.22823,     0.22923,     0.23023,     0.23123,     0.23223,     0.23323,     0.23423,     0.23524,     0.23624,     0.23724,     0.23824,     0.23924,\n",
              "           0.24024,     0.24124,     0.24224,     0.24324,     0.24424,     0.24525,     0.24625,     0.24725,     0.24825,     0.24925,     0.25025,     0.25125,     0.25225,     0.25325,     0.25425,     0.25526,     0.25626,     0.25726,     0.25826,     0.25926,     0.26026,     0.26126,     0.26226,     0.26326,\n",
              "           0.26426,     0.26527,     0.26627,     0.26727,     0.26827,     0.26927,     0.27027,     0.27127,     0.27227,     0.27327,     0.27427,     0.27528,     0.27628,     0.27728,     0.27828,     0.27928,     0.28028,     0.28128,     0.28228,     0.28328,     0.28428,     0.28529,     0.28629,     0.28729,\n",
              "           0.28829,     0.28929,     0.29029,     0.29129,     0.29229,     0.29329,     0.29429,      0.2953,      0.2963,      0.2973,      0.2983,      0.2993,      0.3003,      0.3013,      0.3023,      0.3033,      0.3043,     0.30531,     0.30631,     0.30731,     0.30831,     0.30931,     0.31031,     0.31131,\n",
              "           0.31231,     0.31331,     0.31431,     0.31532,     0.31632,     0.31732,     0.31832,     0.31932,     0.32032,     0.32132,     0.32232,     0.32332,     0.32432,     0.32533,     0.32633,     0.32733,     0.32833,     0.32933,     0.33033,     0.33133,     0.33233,     0.33333,     0.33433,     0.33534,\n",
              "           0.33634,     0.33734,     0.33834,     0.33934,     0.34034,     0.34134,     0.34234,     0.34334,     0.34434,     0.34535,     0.34635,     0.34735,     0.34835,     0.34935,     0.35035,     0.35135,     0.35235,     0.35335,     0.35435,     0.35536,     0.35636,     0.35736,     0.35836,     0.35936,\n",
              "           0.36036,     0.36136,     0.36236,     0.36336,     0.36436,     0.36537,     0.36637,     0.36737,     0.36837,     0.36937,     0.37037,     0.37137,     0.37237,     0.37337,     0.37437,     0.37538,     0.37638,     0.37738,     0.37838,     0.37938,     0.38038,     0.38138,     0.38238,     0.38338,\n",
              "           0.38438,     0.38539,     0.38639,     0.38739,     0.38839,     0.38939,     0.39039,     0.39139,     0.39239,     0.39339,     0.39439,      0.3954,      0.3964,      0.3974,      0.3984,      0.3994,      0.4004,      0.4014,      0.4024,      0.4034,      0.4044,     0.40541,     0.40641,     0.40741,\n",
              "           0.40841,     0.40941,     0.41041,     0.41141,     0.41241,     0.41341,     0.41441,     0.41542,     0.41642,     0.41742,     0.41842,     0.41942,     0.42042,     0.42142,     0.42242,     0.42342,     0.42442,     0.42543,     0.42643,     0.42743,     0.42843,     0.42943,     0.43043,     0.43143,\n",
              "           0.43243,     0.43343,     0.43443,     0.43544,     0.43644,     0.43744,     0.43844,     0.43944,     0.44044,     0.44144,     0.44244,     0.44344,     0.44444,     0.44545,     0.44645,     0.44745,     0.44845,     0.44945,     0.45045,     0.45145,     0.45245,     0.45345,     0.45445,     0.45546,\n",
              "           0.45646,     0.45746,     0.45846,     0.45946,     0.46046,     0.46146,     0.46246,     0.46346,     0.46446,     0.46547,     0.46647,     0.46747,     0.46847,     0.46947,     0.47047,     0.47147,     0.47247,     0.47347,     0.47447,     0.47548,     0.47648,     0.47748,     0.47848,     0.47948,\n",
              "           0.48048,     0.48148,     0.48248,     0.48348,     0.48448,     0.48549,     0.48649,     0.48749,     0.48849,     0.48949,     0.49049,     0.49149,     0.49249,     0.49349,     0.49449,      0.4955,      0.4965,      0.4975,      0.4985,      0.4995,      0.5005,      0.5015,      0.5025,      0.5035,\n",
              "            0.5045,     0.50551,     0.50651,     0.50751,     0.50851,     0.50951,     0.51051,     0.51151,     0.51251,     0.51351,     0.51451,     0.51552,     0.51652,     0.51752,     0.51852,     0.51952,     0.52052,     0.52152,     0.52252,     0.52352,     0.52452,     0.52553,     0.52653,     0.52753,\n",
              "           0.52853,     0.52953,     0.53053,     0.53153,     0.53253,     0.53353,     0.53453,     0.53554,     0.53654,     0.53754,     0.53854,     0.53954,     0.54054,     0.54154,     0.54254,     0.54354,     0.54454,     0.54555,     0.54655,     0.54755,     0.54855,     0.54955,     0.55055,     0.55155,\n",
              "           0.55255,     0.55355,     0.55455,     0.55556,     0.55656,     0.55756,     0.55856,     0.55956,     0.56056,     0.56156,     0.56256,     0.56356,     0.56456,     0.56557,     0.56657,     0.56757,     0.56857,     0.56957,     0.57057,     0.57157,     0.57257,     0.57357,     0.57457,     0.57558,\n",
              "           0.57658,     0.57758,     0.57858,     0.57958,     0.58058,     0.58158,     0.58258,     0.58358,     0.58458,     0.58559,     0.58659,     0.58759,     0.58859,     0.58959,     0.59059,     0.59159,     0.59259,     0.59359,     0.59459,      0.5956,      0.5966,      0.5976,      0.5986,      0.5996,\n",
              "            0.6006,      0.6016,      0.6026,      0.6036,      0.6046,     0.60561,     0.60661,     0.60761,     0.60861,     0.60961,     0.61061,     0.61161,     0.61261,     0.61361,     0.61461,     0.61562,     0.61662,     0.61762,     0.61862,     0.61962,     0.62062,     0.62162,     0.62262,     0.62362,\n",
              "           0.62462,     0.62563,     0.62663,     0.62763,     0.62863,     0.62963,     0.63063,     0.63163,     0.63263,     0.63363,     0.63463,     0.63564,     0.63664,     0.63764,     0.63864,     0.63964,     0.64064,     0.64164,     0.64264,     0.64364,     0.64464,     0.64565,     0.64665,     0.64765,\n",
              "           0.64865,     0.64965,     0.65065,     0.65165,     0.65265,     0.65365,     0.65465,     0.65566,     0.65666,     0.65766,     0.65866,     0.65966,     0.66066,     0.66166,     0.66266,     0.66366,     0.66466,     0.66567,     0.66667,     0.66767,     0.66867,     0.66967,     0.67067,     0.67167,\n",
              "           0.67267,     0.67367,     0.67467,     0.67568,     0.67668,     0.67768,     0.67868,     0.67968,     0.68068,     0.68168,     0.68268,     0.68368,     0.68468,     0.68569,     0.68669,     0.68769,     0.68869,     0.68969,     0.69069,     0.69169,     0.69269,     0.69369,     0.69469,      0.6957,\n",
              "            0.6967,      0.6977,      0.6987,      0.6997,      0.7007,      0.7017,      0.7027,      0.7037,      0.7047,     0.70571,     0.70671,     0.70771,     0.70871,     0.70971,     0.71071,     0.71171,     0.71271,     0.71371,     0.71471,     0.71572,     0.71672,     0.71772,     0.71872,     0.71972,\n",
              "           0.72072,     0.72172,     0.72272,     0.72372,     0.72472,     0.72573,     0.72673,     0.72773,     0.72873,     0.72973,     0.73073,     0.73173,     0.73273,     0.73373,     0.73473,     0.73574,     0.73674,     0.73774,     0.73874,     0.73974,     0.74074,     0.74174,     0.74274,     0.74374,\n",
              "           0.74474,     0.74575,     0.74675,     0.74775,     0.74875,     0.74975,     0.75075,     0.75175,     0.75275,     0.75375,     0.75475,     0.75576,     0.75676,     0.75776,     0.75876,     0.75976,     0.76076,     0.76176,     0.76276,     0.76376,     0.76476,     0.76577,     0.76677,     0.76777,\n",
              "           0.76877,     0.76977,     0.77077,     0.77177,     0.77277,     0.77377,     0.77477,     0.77578,     0.77678,     0.77778,     0.77878,     0.77978,     0.78078,     0.78178,     0.78278,     0.78378,     0.78478,     0.78579,     0.78679,     0.78779,     0.78879,     0.78979,     0.79079,     0.79179,\n",
              "           0.79279,     0.79379,     0.79479,      0.7958,      0.7968,      0.7978,      0.7988,      0.7998,      0.8008,      0.8018,      0.8028,      0.8038,      0.8048,     0.80581,     0.80681,     0.80781,     0.80881,     0.80981,     0.81081,     0.81181,     0.81281,     0.81381,     0.81481,     0.81582,\n",
              "           0.81682,     0.81782,     0.81882,     0.81982,     0.82082,     0.82182,     0.82282,     0.82382,     0.82482,     0.82583,     0.82683,     0.82783,     0.82883,     0.82983,     0.83083,     0.83183,     0.83283,     0.83383,     0.83483,     0.83584,     0.83684,     0.83784,     0.83884,     0.83984,\n",
              "           0.84084,     0.84184,     0.84284,     0.84384,     0.84484,     0.84585,     0.84685,     0.84785,     0.84885,     0.84985,     0.85085,     0.85185,     0.85285,     0.85385,     0.85485,     0.85586,     0.85686,     0.85786,     0.85886,     0.85986,     0.86086,     0.86186,     0.86286,     0.86386,\n",
              "           0.86486,     0.86587,     0.86687,     0.86787,     0.86887,     0.86987,     0.87087,     0.87187,     0.87287,     0.87387,     0.87487,     0.87588,     0.87688,     0.87788,     0.87888,     0.87988,     0.88088,     0.88188,     0.88288,     0.88388,     0.88488,     0.88589,     0.88689,     0.88789,\n",
              "           0.88889,     0.88989,     0.89089,     0.89189,     0.89289,     0.89389,     0.89489,      0.8959,      0.8969,      0.8979,      0.8989,      0.8999,      0.9009,      0.9019,      0.9029,      0.9039,      0.9049,     0.90591,     0.90691,     0.90791,     0.90891,     0.90991,     0.91091,     0.91191,\n",
              "           0.91291,     0.91391,     0.91491,     0.91592,     0.91692,     0.91792,     0.91892,     0.91992,     0.92092,     0.92192,     0.92292,     0.92392,     0.92492,     0.92593,     0.92693,     0.92793,     0.92893,     0.92993,     0.93093,     0.93193,     0.93293,     0.93393,     0.93493,     0.93594,\n",
              "           0.93694,     0.93794,     0.93894,     0.93994,     0.94094,     0.94194,     0.94294,     0.94394,     0.94494,     0.94595,     0.94695,     0.94795,     0.94895,     0.94995,     0.95095,     0.95195,     0.95295,     0.95395,     0.95495,     0.95596,     0.95696,     0.95796,     0.95896,     0.95996,\n",
              "           0.96096,     0.96196,     0.96296,     0.96396,     0.96496,     0.96597,     0.96697,     0.96797,     0.96897,     0.96997,     0.97097,     0.97197,     0.97297,     0.97397,     0.97497,     0.97598,     0.97698,     0.97798,     0.97898,     0.97998,     0.98098,     0.98198,     0.98298,     0.98398,\n",
              "           0.98498,     0.98599,     0.98699,     0.98799,     0.98899,     0.98999,     0.99099,     0.99199,     0.99299,     0.99399,     0.99499,       0.996,       0.997,       0.998,       0.999,           1]), array([[          1,           1,           1,           1,           1,           1,           1,           1,           1,           1,           1,           1,           1,           1,           1,           1,           1,           1,           1,           1,           1,           1,           1,\n",
              "                  1,           1,           1,           1,           1,           1,           1,           1,           1,           1,           1,           1,           1,           1,           1,           1,           1,           1,           1,           1,           1,           1,           1,\n",
              "                  1,           1,           1,           1,           1,           1,           1,           1,           1,           1,           1,           1,           1,           1,           1,           1,           1,           1,           1,           1,           1,           1,           1,\n",
              "                  1,           1,           1,           1,           1,           1,           1,           1,           1,           1,           1,           1,           1,           1,           1,           1,           1,           1,           1,           1,           1,           1,           1,\n",
              "                  1,           1,           1,           1,           1,           1,           1,           1,           1,           1,           1,           1,           1,           1,           1,           1,           1,           1,           1,           1,           1,           1,           1,\n",
              "                  1,           1,           1,           1,           1,           1,           1,           1,           1,           1,           1,           1,           1,           1,           1,           1,           1,           1,           1,           1,           1,           1,           1,\n",
              "                  1,           1,           1,           1,           1,           1,           1,           1,           1,           1,           1,           1,           1,           1,           1,           1,           1,           1,           1,           1,           1,           1,           1,\n",
              "                  1,           1,           1,           1,           1,           1,           1,           1,           1,           1,           1,           1,           1,           1,           1,           1,           1,           1,           1,           1,           1,           1,           1,\n",
              "                  1,           1,           1,           1,           1,           1,           1,           1,           1,           1,           1,           1,           1,           1,           1,           1,           1,           1,           1,           1,           1,           1,           1,\n",
              "                  1,           1,           1,           1,           1,           1,           1,           1,           1,           1,           1,           1,           1,           1,           1,           1,           1,           1,           1,           1,           1,           1,           1,\n",
              "                  1,           1,           1,           1,     0.94118,     0.94118,     0.94118,     0.94118,     0.94118,     0.94118,     0.94118,     0.94118,     0.94118,     0.94118,     0.94118,     0.94118,     0.94118,     0.94118,     0.94118,     0.94118,     0.94118,     0.94118,     0.94118,\n",
              "            0.94118,     0.94118,     0.94118,     0.94118,     0.94118,     0.94118,     0.94118,     0.94118,     0.94118,     0.94118,     0.94118,     0.94118,     0.94118,     0.94118,     0.90476,     0.90476,     0.90476,     0.90476,     0.90476,     0.90476,     0.90476,     0.90476,     0.90476,\n",
              "            0.90476,     0.90476,     0.90476,     0.90476,     0.90476,     0.90476,     0.90476,     0.90476,     0.90476,     0.90476,     0.90476,     0.90476,     0.90476,     0.90476,     0.90476,     0.90476,     0.90476,     0.90476,     0.90476,     0.90476,     0.90476,     0.90476,     0.90476,\n",
              "            0.90476,     0.90476,     0.90476,     0.90476,     0.90476,     0.90476,     0.90476,     0.90476,     0.90476,     0.90476,     0.90476,     0.90476,     0.90476,     0.90476,     0.90476,     0.90476,     0.90476,     0.90476,       0.875,       0.875,       0.875,       0.875,       0.875,\n",
              "              0.875,       0.875,       0.875,       0.875,       0.875,       0.875,       0.875,       0.875,       0.875,       0.875,       0.875,       0.875,       0.875,       0.875,       0.875,       0.875,       0.875,       0.875,       0.875,       0.875,       0.875,       0.875,       0.875,\n",
              "              0.875,       0.875,       0.875,       0.875,       0.875,     0.74194,     0.74194,     0.74194,     0.74194,     0.74194,     0.74194,     0.74194,     0.74194,     0.74194,     0.74194,     0.74194,     0.74194,     0.74194,     0.74194,     0.74194,     0.74194,     0.74194,     0.74194,\n",
              "            0.74194,     0.74194,     0.74194,     0.74194,     0.74194,     0.74194,     0.74194,     0.74194,     0.74194,     0.74194,     0.74194,     0.74194,     0.74194,     0.74194,     0.74194,     0.70588,     0.70588,     0.70588,     0.70588,     0.70588,     0.70588,     0.70588,     0.70588,\n",
              "            0.70588,     0.70588,     0.70588,     0.70588,     0.70588,     0.70588,     0.70588,     0.70588,     0.70588,     0.65789,     0.65789,     0.65789,     0.65789,     0.65789,     0.65789,     0.65789,     0.65789,     0.65789,     0.65789,     0.65789,     0.65789,     0.65789,     0.65789,\n",
              "            0.65789,     0.65789,     0.65789,        0.65,        0.65,        0.65,        0.65,        0.65,        0.65,        0.65,        0.65,        0.65,        0.65,        0.65,        0.65,        0.65,        0.65,        0.65,        0.65,     0.64444,     0.64444,     0.64444,     0.64444,\n",
              "            0.64444,     0.64444,     0.64444,     0.64444,     0.64444,     0.64444,     0.64444,     0.64444,     0.64444,     0.64444,     0.64444,     0.64444,     0.64444,     0.64444,     0.64444,     0.64444,     0.64444,     0.64444,     0.64444,     0.64444,     0.64444,     0.64444,     0.64444,\n",
              "            0.64444,     0.64444,     0.64444,     0.64444,     0.64444,     0.64444,     0.64444,     0.64444,     0.64444,     0.64444,     0.64444,     0.64444,     0.64444,     0.64444,     0.64444,     0.64444,     0.64444,     0.64444,     0.64444,     0.64444,     0.64444,     0.64444,     0.64444,\n",
              "            0.61224,     0.61224,     0.61224,     0.61224,     0.61224,     0.61224,     0.61224,     0.61224,     0.61224,     0.61224,     0.61224,     0.61224,     0.61224,     0.61224,     0.61224,     0.61224,     0.61224,     0.59615,     0.59615,     0.59615,     0.59615,     0.59615,     0.59615,\n",
              "            0.59615,     0.59615,     0.59615,     0.59615,     0.59615,     0.59615,     0.59615,     0.59615,     0.59615,     0.59615,     0.59615,     0.59259,     0.59259,     0.59259,     0.59259,     0.59259,     0.59259,     0.59259,     0.59259,     0.59259,     0.59259,     0.59259,     0.59259,\n",
              "            0.59259,     0.59259,     0.59259,     0.59259,     0.55556,     0.55556,     0.55556,     0.55556,     0.55556,     0.55556,     0.55556,     0.55556,     0.55556,     0.55556,     0.55556,     0.55556,     0.55556,     0.55556,     0.55556,     0.55556,     0.55556,     0.55556,     0.55556,\n",
              "            0.55556,     0.55556,     0.55556,     0.55556,     0.55556,     0.55556,     0.55556,     0.55556,     0.55556,     0.55556,     0.55556,     0.55556,     0.55556,     0.55556,     0.55556,     0.55556,     0.55556,     0.55556,     0.55556,     0.55556,     0.55556,     0.55556,     0.55556,\n",
              "            0.55556,     0.55556,     0.55556,     0.55556,     0.55556,     0.55556,     0.55556,     0.55556,     0.55385,     0.55385,     0.55385,     0.55385,     0.55385,     0.55385,     0.55385,     0.55385,     0.55385,     0.55385,     0.55385,     0.55385,     0.55385,     0.55385,     0.55385,\n",
              "            0.55385,     0.55385,     0.42222,     0.42222,     0.42222,     0.42222,     0.42222,     0.42222,     0.42222,     0.42222,     0.42222,     0.42222,     0.42222,     0.42222,     0.42222,     0.42222,     0.42222,     0.42222,     0.42222,     0.42222,     0.42222,     0.42222,     0.42222,\n",
              "            0.42222,     0.42222,     0.42222,     0.42222,     0.42222,     0.42222,     0.42222,     0.42222,     0.42222,     0.42222,     0.42222,     0.42222,     0.41489,     0.41489,     0.41489,     0.41489,     0.41489,     0.41489,     0.41489,     0.41489,     0.41489,     0.41489,     0.41489,\n",
              "            0.41489,     0.41489,     0.41489,     0.41489,     0.41489,     0.41489,     0.41237,     0.41237,     0.41237,     0.41237,     0.41237,     0.41237,     0.41237,     0.41237,     0.41237,     0.41237,     0.41237,     0.41237,     0.41237,     0.41237,     0.41237,     0.41237,     0.39806,\n",
              "            0.39806,     0.39806,     0.39806,     0.39806,     0.39806,     0.39806,     0.39806,     0.39806,     0.39806,     0.39806,     0.39806,     0.39806,     0.39806,     0.39806,     0.39806,     0.39806,     0.38532,     0.38532,     0.38532,     0.38532,     0.38532,     0.38532,     0.38532,\n",
              "            0.38532,     0.38532,     0.38532,     0.38532,     0.38532,     0.38532,     0.38532,     0.38532,     0.38532,     0.38532,     0.30496,     0.30496,     0.30496,     0.30496,     0.30496,     0.30496,     0.30496,     0.30496,     0.30496,     0.30496,     0.30496,     0.30496,     0.30496,\n",
              "            0.30496,     0.30496,     0.30496,     0.30137,     0.30137,     0.30137,     0.30137,     0.30137,     0.30137,     0.30137,     0.30137,     0.30137,     0.30137,     0.30137,     0.30137,     0.30137,     0.30137,     0.30137,     0.30137,     0.30137,        0.25,        0.25,        0.25,\n",
              "               0.25,        0.25,        0.25,        0.25,        0.25,        0.25,        0.25,        0.25,        0.25,        0.25,        0.25,        0.25,        0.25,        0.25,     0.23737,     0.23737,     0.23737,     0.23737,     0.23737,     0.23737,     0.23737,     0.23737,     0.23737,\n",
              "            0.23737,     0.23737,     0.23737,     0.23737,     0.23737,     0.23737,     0.23737,     0.23737,     0.23737,     0.23737,     0.23737,     0.23737,     0.23737,     0.23737,     0.23737,     0.23737,     0.23737,     0.23737,     0.23737,     0.23737,     0.23737,     0.23737,     0.23737,\n",
              "            0.23737,     0.22749,     0.22749,     0.22749,     0.22749,     0.22749,     0.22749,     0.22749,     0.22749,     0.22749,     0.22749,     0.22749,     0.22749,     0.22749,     0.22749,     0.22749,     0.22749,     0.22749,     0.20248,     0.20248,     0.20248,     0.20248,     0.20248,\n",
              "            0.20248,     0.20248,     0.20248,     0.20248,     0.20248,     0.20248,     0.20248,     0.20248,     0.20248,     0.20248,     0.20248,     0.17241,     0.17241,     0.17241,     0.17241,     0.17241,     0.17241,     0.17241,     0.17241,     0.17241,     0.17241,     0.17241,     0.17241,\n",
              "            0.17241,     0.17241,     0.17241,     0.17241,     0.17241,     0.15179,     0.15179,     0.15179,     0.15179,     0.15179,     0.15179,     0.15179,     0.15179,     0.15179,     0.15179,     0.15179,     0.15179,     0.15179,     0.15179,     0.15179,     0.15179,     0.15179,     0.14404,\n",
              "            0.14404,     0.14404,     0.14404,     0.14404,     0.14404,     0.14404,     0.14404,     0.14404,     0.14404,     0.14404,     0.14404,     0.14404,     0.14404,     0.14404,     0.14404,     0.11253,     0.11253,     0.11253,     0.11253,     0.11253,     0.11253,     0.11253,     0.11253,\n",
              "            0.11253,     0.11253,     0.11253,     0.11253,     0.11253,     0.11253,     0.11253,     0.11253,     0.11253,    0.043131,    0.043131,    0.043131,    0.043131,    0.043131,    0.043131,    0.043131,    0.043131,    0.043131,    0.043131,    0.043131,    0.043131,    0.043131,    0.043131,\n",
              "           0.043131,    0.043131,    0.043131,    0.039769,    0.039769,    0.039769,    0.039769,    0.039769,    0.039769,    0.039769,    0.039769,    0.039769,    0.039769,    0.039769,    0.039769,    0.039769,    0.039769,    0.039769,    0.039769,    0.037863,    0.037863,    0.037863,    0.037863,\n",
              "           0.037863,    0.037863,    0.037863,    0.037863,    0.037863,    0.037863,    0.037863,    0.037863,    0.037863,    0.037863,    0.037863,    0.037863,    0.037863,    0.030848,    0.030381,    0.029913,    0.029446,    0.028978,    0.028511,    0.028044,    0.027576,    0.027109,    0.026641,\n",
              "           0.026174,    0.025707,    0.025239,    0.024772,    0.024304,    0.023837,     0.02337,    0.022902,    0.022435,    0.021967,      0.0215,    0.021033,    0.020565,    0.020098,    0.019631,    0.019163,    0.018696,    0.018228,    0.017761,    0.017294,    0.016826,    0.016359,    0.015891,\n",
              "           0.015424,    0.014957,    0.014489,    0.014022,    0.013554,    0.013087,     0.01262,    0.012152,    0.011685,    0.011217,     0.01075,    0.010283,   0.0098153,   0.0093479,   0.0088805,   0.0084131,   0.0079457,   0.0074783,   0.0070109,   0.0065435,   0.0060761,   0.0056087,   0.0051413,\n",
              "          0.0046739,   0.0042065,   0.0037391,   0.0032718,   0.0028044,    0.002337,   0.0018696,   0.0014022,  0.00093479,  0.00046739,           0]]), 'Recall', 'Precision'], [array([          0,    0.001001,    0.002002,    0.003003,    0.004004,    0.005005,    0.006006,    0.007007,    0.008008,    0.009009,     0.01001,    0.011011,    0.012012,    0.013013,    0.014014,    0.015015,    0.016016,    0.017017,    0.018018,    0.019019,     0.02002,    0.021021,    0.022022,    0.023023,\n",
              "          0.024024,    0.025025,    0.026026,    0.027027,    0.028028,    0.029029,     0.03003,    0.031031,    0.032032,    0.033033,    0.034034,    0.035035,    0.036036,    0.037037,    0.038038,    0.039039,     0.04004,    0.041041,    0.042042,    0.043043,    0.044044,    0.045045,    0.046046,    0.047047,\n",
              "          0.048048,    0.049049,     0.05005,    0.051051,    0.052052,    0.053053,    0.054054,    0.055055,    0.056056,    0.057057,    0.058058,    0.059059,     0.06006,    0.061061,    0.062062,    0.063063,    0.064064,    0.065065,    0.066066,    0.067067,    0.068068,    0.069069,     0.07007,    0.071071,\n",
              "          0.072072,    0.073073,    0.074074,    0.075075,    0.076076,    0.077077,    0.078078,    0.079079,     0.08008,    0.081081,    0.082082,    0.083083,    0.084084,    0.085085,    0.086086,    0.087087,    0.088088,    0.089089,     0.09009,    0.091091,    0.092092,    0.093093,    0.094094,    0.095095,\n",
              "          0.096096,    0.097097,    0.098098,    0.099099,      0.1001,      0.1011,      0.1021,      0.1031,      0.1041,     0.10511,     0.10611,     0.10711,     0.10811,     0.10911,     0.11011,     0.11111,     0.11211,     0.11311,     0.11411,     0.11512,     0.11612,     0.11712,     0.11812,     0.11912,\n",
              "           0.12012,     0.12112,     0.12212,     0.12312,     0.12412,     0.12513,     0.12613,     0.12713,     0.12813,     0.12913,     0.13013,     0.13113,     0.13213,     0.13313,     0.13413,     0.13514,     0.13614,     0.13714,     0.13814,     0.13914,     0.14014,     0.14114,     0.14214,     0.14314,\n",
              "           0.14414,     0.14515,     0.14615,     0.14715,     0.14815,     0.14915,     0.15015,     0.15115,     0.15215,     0.15315,     0.15415,     0.15516,     0.15616,     0.15716,     0.15816,     0.15916,     0.16016,     0.16116,     0.16216,     0.16316,     0.16416,     0.16517,     0.16617,     0.16717,\n",
              "           0.16817,     0.16917,     0.17017,     0.17117,     0.17217,     0.17317,     0.17417,     0.17518,     0.17618,     0.17718,     0.17818,     0.17918,     0.18018,     0.18118,     0.18218,     0.18318,     0.18418,     0.18519,     0.18619,     0.18719,     0.18819,     0.18919,     0.19019,     0.19119,\n",
              "           0.19219,     0.19319,     0.19419,      0.1952,      0.1962,      0.1972,      0.1982,      0.1992,      0.2002,      0.2012,      0.2022,      0.2032,      0.2042,     0.20521,     0.20621,     0.20721,     0.20821,     0.20921,     0.21021,     0.21121,     0.21221,     0.21321,     0.21421,     0.21522,\n",
              "           0.21622,     0.21722,     0.21822,     0.21922,     0.22022,     0.22122,     0.22222,     0.22322,     0.22422,     0.22523,     0.22623,     0.22723,     0.22823,     0.22923,     0.23023,     0.23123,     0.23223,     0.23323,     0.23423,     0.23524,     0.23624,     0.23724,     0.23824,     0.23924,\n",
              "           0.24024,     0.24124,     0.24224,     0.24324,     0.24424,     0.24525,     0.24625,     0.24725,     0.24825,     0.24925,     0.25025,     0.25125,     0.25225,     0.25325,     0.25425,     0.25526,     0.25626,     0.25726,     0.25826,     0.25926,     0.26026,     0.26126,     0.26226,     0.26326,\n",
              "           0.26426,     0.26527,     0.26627,     0.26727,     0.26827,     0.26927,     0.27027,     0.27127,     0.27227,     0.27327,     0.27427,     0.27528,     0.27628,     0.27728,     0.27828,     0.27928,     0.28028,     0.28128,     0.28228,     0.28328,     0.28428,     0.28529,     0.28629,     0.28729,\n",
              "           0.28829,     0.28929,     0.29029,     0.29129,     0.29229,     0.29329,     0.29429,      0.2953,      0.2963,      0.2973,      0.2983,      0.2993,      0.3003,      0.3013,      0.3023,      0.3033,      0.3043,     0.30531,     0.30631,     0.30731,     0.30831,     0.30931,     0.31031,     0.31131,\n",
              "           0.31231,     0.31331,     0.31431,     0.31532,     0.31632,     0.31732,     0.31832,     0.31932,     0.32032,     0.32132,     0.32232,     0.32332,     0.32432,     0.32533,     0.32633,     0.32733,     0.32833,     0.32933,     0.33033,     0.33133,     0.33233,     0.33333,     0.33433,     0.33534,\n",
              "           0.33634,     0.33734,     0.33834,     0.33934,     0.34034,     0.34134,     0.34234,     0.34334,     0.34434,     0.34535,     0.34635,     0.34735,     0.34835,     0.34935,     0.35035,     0.35135,     0.35235,     0.35335,     0.35435,     0.35536,     0.35636,     0.35736,     0.35836,     0.35936,\n",
              "           0.36036,     0.36136,     0.36236,     0.36336,     0.36436,     0.36537,     0.36637,     0.36737,     0.36837,     0.36937,     0.37037,     0.37137,     0.37237,     0.37337,     0.37437,     0.37538,     0.37638,     0.37738,     0.37838,     0.37938,     0.38038,     0.38138,     0.38238,     0.38338,\n",
              "           0.38438,     0.38539,     0.38639,     0.38739,     0.38839,     0.38939,     0.39039,     0.39139,     0.39239,     0.39339,     0.39439,      0.3954,      0.3964,      0.3974,      0.3984,      0.3994,      0.4004,      0.4014,      0.4024,      0.4034,      0.4044,     0.40541,     0.40641,     0.40741,\n",
              "           0.40841,     0.40941,     0.41041,     0.41141,     0.41241,     0.41341,     0.41441,     0.41542,     0.41642,     0.41742,     0.41842,     0.41942,     0.42042,     0.42142,     0.42242,     0.42342,     0.42442,     0.42543,     0.42643,     0.42743,     0.42843,     0.42943,     0.43043,     0.43143,\n",
              "           0.43243,     0.43343,     0.43443,     0.43544,     0.43644,     0.43744,     0.43844,     0.43944,     0.44044,     0.44144,     0.44244,     0.44344,     0.44444,     0.44545,     0.44645,     0.44745,     0.44845,     0.44945,     0.45045,     0.45145,     0.45245,     0.45345,     0.45445,     0.45546,\n",
              "           0.45646,     0.45746,     0.45846,     0.45946,     0.46046,     0.46146,     0.46246,     0.46346,     0.46446,     0.46547,     0.46647,     0.46747,     0.46847,     0.46947,     0.47047,     0.47147,     0.47247,     0.47347,     0.47447,     0.47548,     0.47648,     0.47748,     0.47848,     0.47948,\n",
              "           0.48048,     0.48148,     0.48248,     0.48348,     0.48448,     0.48549,     0.48649,     0.48749,     0.48849,     0.48949,     0.49049,     0.49149,     0.49249,     0.49349,     0.49449,      0.4955,      0.4965,      0.4975,      0.4985,      0.4995,      0.5005,      0.5015,      0.5025,      0.5035,\n",
              "            0.5045,     0.50551,     0.50651,     0.50751,     0.50851,     0.50951,     0.51051,     0.51151,     0.51251,     0.51351,     0.51451,     0.51552,     0.51652,     0.51752,     0.51852,     0.51952,     0.52052,     0.52152,     0.52252,     0.52352,     0.52452,     0.52553,     0.52653,     0.52753,\n",
              "           0.52853,     0.52953,     0.53053,     0.53153,     0.53253,     0.53353,     0.53453,     0.53554,     0.53654,     0.53754,     0.53854,     0.53954,     0.54054,     0.54154,     0.54254,     0.54354,     0.54454,     0.54555,     0.54655,     0.54755,     0.54855,     0.54955,     0.55055,     0.55155,\n",
              "           0.55255,     0.55355,     0.55455,     0.55556,     0.55656,     0.55756,     0.55856,     0.55956,     0.56056,     0.56156,     0.56256,     0.56356,     0.56456,     0.56557,     0.56657,     0.56757,     0.56857,     0.56957,     0.57057,     0.57157,     0.57257,     0.57357,     0.57457,     0.57558,\n",
              "           0.57658,     0.57758,     0.57858,     0.57958,     0.58058,     0.58158,     0.58258,     0.58358,     0.58458,     0.58559,     0.58659,     0.58759,     0.58859,     0.58959,     0.59059,     0.59159,     0.59259,     0.59359,     0.59459,      0.5956,      0.5966,      0.5976,      0.5986,      0.5996,\n",
              "            0.6006,      0.6016,      0.6026,      0.6036,      0.6046,     0.60561,     0.60661,     0.60761,     0.60861,     0.60961,     0.61061,     0.61161,     0.61261,     0.61361,     0.61461,     0.61562,     0.61662,     0.61762,     0.61862,     0.61962,     0.62062,     0.62162,     0.62262,     0.62362,\n",
              "           0.62462,     0.62563,     0.62663,     0.62763,     0.62863,     0.62963,     0.63063,     0.63163,     0.63263,     0.63363,     0.63463,     0.63564,     0.63664,     0.63764,     0.63864,     0.63964,     0.64064,     0.64164,     0.64264,     0.64364,     0.64464,     0.64565,     0.64665,     0.64765,\n",
              "           0.64865,     0.64965,     0.65065,     0.65165,     0.65265,     0.65365,     0.65465,     0.65566,     0.65666,     0.65766,     0.65866,     0.65966,     0.66066,     0.66166,     0.66266,     0.66366,     0.66466,     0.66567,     0.66667,     0.66767,     0.66867,     0.66967,     0.67067,     0.67167,\n",
              "           0.67267,     0.67367,     0.67467,     0.67568,     0.67668,     0.67768,     0.67868,     0.67968,     0.68068,     0.68168,     0.68268,     0.68368,     0.68468,     0.68569,     0.68669,     0.68769,     0.68869,     0.68969,     0.69069,     0.69169,     0.69269,     0.69369,     0.69469,      0.6957,\n",
              "            0.6967,      0.6977,      0.6987,      0.6997,      0.7007,      0.7017,      0.7027,      0.7037,      0.7047,     0.70571,     0.70671,     0.70771,     0.70871,     0.70971,     0.71071,     0.71171,     0.71271,     0.71371,     0.71471,     0.71572,     0.71672,     0.71772,     0.71872,     0.71972,\n",
              "           0.72072,     0.72172,     0.72272,     0.72372,     0.72472,     0.72573,     0.72673,     0.72773,     0.72873,     0.72973,     0.73073,     0.73173,     0.73273,     0.73373,     0.73473,     0.73574,     0.73674,     0.73774,     0.73874,     0.73974,     0.74074,     0.74174,     0.74274,     0.74374,\n",
              "           0.74474,     0.74575,     0.74675,     0.74775,     0.74875,     0.74975,     0.75075,     0.75175,     0.75275,     0.75375,     0.75475,     0.75576,     0.75676,     0.75776,     0.75876,     0.75976,     0.76076,     0.76176,     0.76276,     0.76376,     0.76476,     0.76577,     0.76677,     0.76777,\n",
              "           0.76877,     0.76977,     0.77077,     0.77177,     0.77277,     0.77377,     0.77477,     0.77578,     0.77678,     0.77778,     0.77878,     0.77978,     0.78078,     0.78178,     0.78278,     0.78378,     0.78478,     0.78579,     0.78679,     0.78779,     0.78879,     0.78979,     0.79079,     0.79179,\n",
              "           0.79279,     0.79379,     0.79479,      0.7958,      0.7968,      0.7978,      0.7988,      0.7998,      0.8008,      0.8018,      0.8028,      0.8038,      0.8048,     0.80581,     0.80681,     0.80781,     0.80881,     0.80981,     0.81081,     0.81181,     0.81281,     0.81381,     0.81481,     0.81582,\n",
              "           0.81682,     0.81782,     0.81882,     0.81982,     0.82082,     0.82182,     0.82282,     0.82382,     0.82482,     0.82583,     0.82683,     0.82783,     0.82883,     0.82983,     0.83083,     0.83183,     0.83283,     0.83383,     0.83483,     0.83584,     0.83684,     0.83784,     0.83884,     0.83984,\n",
              "           0.84084,     0.84184,     0.84284,     0.84384,     0.84484,     0.84585,     0.84685,     0.84785,     0.84885,     0.84985,     0.85085,     0.85185,     0.85285,     0.85385,     0.85485,     0.85586,     0.85686,     0.85786,     0.85886,     0.85986,     0.86086,     0.86186,     0.86286,     0.86386,\n",
              "           0.86486,     0.86587,     0.86687,     0.86787,     0.86887,     0.86987,     0.87087,     0.87187,     0.87287,     0.87387,     0.87487,     0.87588,     0.87688,     0.87788,     0.87888,     0.87988,     0.88088,     0.88188,     0.88288,     0.88388,     0.88488,     0.88589,     0.88689,     0.88789,\n",
              "           0.88889,     0.88989,     0.89089,     0.89189,     0.89289,     0.89389,     0.89489,      0.8959,      0.8969,      0.8979,      0.8989,      0.8999,      0.9009,      0.9019,      0.9029,      0.9039,      0.9049,     0.90591,     0.90691,     0.90791,     0.90891,     0.90991,     0.91091,     0.91191,\n",
              "           0.91291,     0.91391,     0.91491,     0.91592,     0.91692,     0.91792,     0.91892,     0.91992,     0.92092,     0.92192,     0.92292,     0.92392,     0.92492,     0.92593,     0.92693,     0.92793,     0.92893,     0.92993,     0.93093,     0.93193,     0.93293,     0.93393,     0.93493,     0.93594,\n",
              "           0.93694,     0.93794,     0.93894,     0.93994,     0.94094,     0.94194,     0.94294,     0.94394,     0.94494,     0.94595,     0.94695,     0.94795,     0.94895,     0.94995,     0.95095,     0.95195,     0.95295,     0.95395,     0.95495,     0.95596,     0.95696,     0.95796,     0.95896,     0.95996,\n",
              "           0.96096,     0.96196,     0.96296,     0.96396,     0.96496,     0.96597,     0.96697,     0.96797,     0.96897,     0.96997,     0.97097,     0.97197,     0.97297,     0.97397,     0.97497,     0.97598,     0.97698,     0.97798,     0.97898,     0.97998,     0.98098,     0.98198,     0.98298,     0.98398,\n",
              "           0.98498,     0.98599,     0.98699,     0.98799,     0.98899,     0.98999,     0.99099,     0.99199,     0.99299,     0.99399,     0.99499,       0.996,       0.997,       0.998,       0.999,           1]), array([[   0.060247,    0.060247,    0.064096,     0.06732,    0.073574,    0.078844,    0.084941,    0.093882,     0.10223,     0.10758,     0.11297,     0.11811,     0.12327,     0.12737,     0.13201,     0.13784,     0.14188,     0.14552,     0.14937,     0.15101,     0.15324,     0.15614,      0.1593,\n",
              "            0.16378,     0.16832,     0.17311,     0.17792,     0.18187,     0.18536,     0.18823,     0.19185,      0.1942,      0.1981,      0.1972,     0.19974,     0.20102,     0.20279,     0.20462,      0.2062,     0.20873,     0.21321,     0.21593,     0.21751,     0.22036,     0.22068,      0.2223,\n",
              "            0.22431,     0.22603,     0.22872,     0.22969,     0.23175,     0.23308,     0.23588,      0.2381,     0.23981,     0.24114,     0.24219,     0.24267,     0.24314,     0.24345,      0.2448,      0.2461,     0.24332,     0.24465,      0.2465,      0.2472,     0.24996,     0.25027,     0.25055,\n",
              "            0.25171,      0.2531,     0.25395,     0.25499,     0.25558,     0.25729,     0.25339,     0.25588,     0.25671,     0.25874,     0.26077,     0.26386,     0.26497,     0.26594,     0.26927,     0.27118,     0.27211,     0.27344,     0.27707,     0.27744,     0.27784,     0.27844,     0.27935,\n",
              "            0.28017,     0.28121,     0.28273,     0.28417,     0.28336,      0.2814,     0.28255,     0.28288,     0.28322,     0.28394,     0.28473,     0.28525,      0.2857,     0.28598,     0.28625,     0.28651,     0.29029,     0.29205,     0.29342,     0.29458,     0.29504,     0.29533,     0.29554,\n",
              "            0.29576,     0.29597,     0.29634,     0.29683,     0.29819,     0.29864,     0.29999,     0.30152,     0.30384,     0.30459,     0.30491,     0.30523,     0.30554,     0.30585,     0.30617,     0.30708,     0.30758,     0.30799,     0.30955,     0.31065,     0.31149,     0.31239,     0.31412,\n",
              "            0.31443,     0.31473,     0.31504,     0.31533,     0.31562,     0.31591,     0.31632,     0.31716,     0.31836,     0.31872,     0.31907,     0.31943,     0.31978,     0.32014,      0.3209,     0.32278,     0.32347,     0.32389,     0.32431,     0.32305,     0.32037,     0.31918,     0.31969,\n",
              "            0.32113,     0.32129,     0.32144,      0.3216,     0.32175,     0.32191,     0.32206,     0.32294,     0.32341,     0.32363,     0.32385,     0.32407,     0.32429,     0.32516,     0.32557,     0.32577,     0.32596,     0.32616,     0.32636,     0.32665,     0.32756,     0.32937,     0.33027,\n",
              "            0.33115,     0.33134,     0.33153,     0.33172,     0.33191,     0.33211,      0.3326,     0.33327,     0.33459,     0.33491,     0.33523,     0.33555,     0.33608,     0.33672,     0.33805,     0.33833,     0.33861,     0.33889,     0.33917,     0.33939,      0.3396,     0.33981,     0.34002,\n",
              "            0.34023,     0.34056,     0.34169,     0.34183,     0.34198,     0.34212,     0.34227,     0.34241,     0.34256,      0.3427,     0.34285,     0.34371,     0.34509,     0.34587,     0.34651,     0.34742,     0.34836,     0.35076,     0.35173,     0.35188,     0.35204,     0.35219,     0.35235,\n",
              "            0.35251,     0.35266,     0.35282,      0.3533,     0.35322,     0.35105,     0.34888,     0.34845,     0.34892,     0.34938,     0.34984,     0.35031,     0.35078,     0.35138,     0.35198,     0.35391,     0.35451,     0.35515,      0.3558,     0.35716,     0.35772,     0.35809,     0.35845,\n",
              "            0.35885,     0.35979,     0.36074,     0.36183,     0.36312,     0.36022,       0.356,     0.35164,     0.35178,     0.35193,     0.35208,     0.35223,     0.35238,     0.35253,     0.35268,     0.35283,     0.35301,     0.35331,     0.35361,     0.35391,     0.35421,     0.35687,     0.35869,\n",
              "            0.35967,     0.36039,     0.36099,      0.3619,      0.3639,     0.36503,     0.36591,     0.36693,     0.36771,     0.36833,     0.36917,     0.37056,     0.37101,     0.37146,     0.37191,     0.37261,     0.37331,     0.37474,     0.36843,     0.36871,     0.36898,     0.36926,     0.36953,\n",
              "            0.36996,     0.37087,     0.37243,     0.37302,     0.37319,     0.37336,     0.37353,      0.3737,     0.37387,     0.37404,     0.37421,     0.37439,     0.37561,     0.37659,     0.37725,     0.37775,     0.37794,     0.37813,     0.37832,     0.37851,      0.3787,     0.37889,     0.37908,\n",
              "            0.37927,      0.3794,     0.37951,     0.37963,     0.37974,     0.37985,     0.37996,     0.38008,     0.38019,      0.3803,     0.38041,     0.38052,     0.38064,     0.38075,     0.38086,     0.38113,      0.3821,     0.38301,     0.38387,     0.38548,     0.38633,      0.3868,     0.38726,\n",
              "            0.38969,     0.39183,     0.39647,     0.39663,      0.3968,     0.39697,     0.39714,      0.3973,     0.39747,     0.39764,      0.3978,     0.39797,     0.39814,      0.3984,     0.39869,     0.39899,     0.39929,     0.39958,     0.39988,     0.40295,     0.40383,     0.40408,     0.40434,\n",
              "            0.40459,     0.40484,      0.4051,     0.40535,     0.40574,     0.40644,     0.40714,     0.41052,     0.41148,      0.4119,     0.41232,     0.41273,     0.41315,     0.41341,     0.41368,     0.41395,     0.41421,     0.41448,     0.41475,     0.41501,     0.41528,     0.41555,     0.41582,\n",
              "            0.41609,     0.41636,     0.41663,     0.41689,     0.41725,     0.41776,     0.41827,     0.41878,     0.41915,     0.41937,     0.41958,      0.4198,     0.42002,     0.42023,     0.42045,     0.42066,     0.42088,     0.42109,     0.42129,     0.42148,     0.42167,     0.42187,     0.42206,\n",
              "            0.42225,     0.42244,     0.42264,     0.42283,     0.42302,     0.42544,     0.42589,     0.42633,     0.42678,     0.42653,     0.41954,     0.41985,     0.42015,     0.42045,     0.42075,     0.42105,     0.42135,     0.42187,     0.42293,      0.4239,     0.42468,     0.42547,     0.42656,\n",
              "            0.42455,     0.42253,     0.42052,      0.4202,     0.42047,     0.42074,     0.42101,     0.42128,     0.42155,     0.42182,     0.42209,     0.42416,     0.42436,     0.42449,     0.42461,     0.42474,     0.42486,     0.42498,     0.42511,     0.42523,     0.42536,     0.42548,     0.42561,\n",
              "            0.42573,     0.42586,     0.42598,      0.4261,     0.42623,     0.42635,     0.42868,     0.42886,     0.42903,      0.4292,     0.42938,     0.42955,     0.42972,      0.4299,     0.43007,     0.43024,     0.43042,     0.43059,     0.43076,     0.43099,     0.43122,     0.43144,     0.43167,\n",
              "             0.4319,     0.43213,     0.43236,     0.43258,     0.43281,     0.43306,     0.43339,     0.43372,     0.43404,     0.43437,      0.4347,     0.43503,     0.43536,     0.43569,     0.43602,     0.43636,     0.43669,     0.43702,     0.43735,     0.43768,     0.43802,     0.43836,     0.43869,\n",
              "            0.43903,     0.43936,      0.4397,      0.4415,     0.44228,     0.44252,     0.44276,       0.443,     0.44324,     0.44348,     0.44372,     0.44396,      0.4442,     0.44444,     0.44468,     0.44493,     0.44517,     0.44541,     0.44565,      0.4459,     0.44614,     0.44638,     0.44662,\n",
              "            0.44695,     0.44756,     0.44818,     0.44879,     0.44936,     0.44986,     0.45035,     0.45085,     0.45134,     0.45171,     0.45192,     0.45213,     0.45233,     0.45254,     0.45275,     0.45296,     0.45317,     0.45338,     0.45358,     0.45379,       0.454,     0.45437,     0.45479,\n",
              "            0.45521,     0.45563,     0.45606,     0.45648,     0.45672,     0.45694,     0.45717,     0.45739,     0.45761,     0.45783,     0.45806,     0.45828,      0.4585,     0.45872,     0.45894,      0.4633,      0.4647,     0.46558,     0.46646,     0.46735,     0.46825,     0.46913,     0.46984,\n",
              "            0.47052,      0.4712,     0.47187,     0.47448,     0.48078,     0.48159,      0.4824,     0.48329,     0.48424,     0.48519,     0.48575,     0.48607,     0.48639,     0.48672,     0.48704,     0.48736,     0.48768,       0.488,     0.48832,     0.48875,      0.4892,     0.48966,     0.49011,\n",
              "            0.49056,       0.491,     0.49137,     0.49165,     0.49194,     0.49222,      0.4925,     0.49278,     0.49306,     0.49335,     0.49363,     0.49391,     0.49451,     0.49601,     0.49563,     0.49105,      0.4884,     0.48926,     0.49011,     0.49097,     0.49173,     0.49249,     0.49325,\n",
              "             0.4941,     0.49699,     0.49736,     0.49773,     0.49809,     0.49846,     0.49882,     0.49919,     0.49955,     0.49992,     0.49576,     0.49454,     0.49544,     0.49634,     0.49706,     0.49748,     0.49791,     0.49833,     0.49876,     0.49918,      0.4996,     0.50336,     0.50641,\n",
              "            0.50736,     0.50831,     0.50925,     0.50882,     0.50773,     0.50665,     0.50556,     0.50447,     0.50338,     0.50229,      0.5012,     0.50012,     0.50085,     0.50179,     0.50274,     0.50376,     0.50488,       0.506,     0.50539,     0.50339,     0.50139,     0.49939,     0.49738,\n",
              "            0.49693,     0.49722,     0.49751,     0.49781,      0.4981,     0.49839,     0.49868,     0.49897,     0.49926,     0.49955,     0.49984,     0.50078,     0.50247,     0.50381,     0.50479,     0.50578,     0.50605,     0.49921,     0.49773,     0.49944,     0.49859,      0.4965,     0.49441,\n",
              "            0.49231,     0.49022,     0.49163,     0.49362,     0.49501,     0.49641,     0.50092,     0.50194,     0.50297,     0.50525,     0.50723,      0.5076,     0.50797,     0.50834,     0.50871,     0.50908,     0.50944,     0.50981,     0.51018,     0.51055,     0.51618,     0.51812,     0.51861,\n",
              "            0.51909,     0.51957,     0.52005,     0.52053,     0.52101,     0.52149,     0.52184,     0.52204,     0.52225,     0.52246,     0.52266,     0.52287,     0.52308,     0.52328,     0.52349,     0.52369,      0.5239,      0.5241,     0.52431,     0.52451,     0.52472,     0.52492,     0.52513,\n",
              "            0.52533,     0.52554,     0.52805,     0.53135,     0.53437,     0.53641,     0.53752,      0.5379,     0.53828,     0.53866,     0.53903,     0.53941,     0.53979,     0.54016,     0.54054,     0.54091,     0.54129,     0.54251,     0.54391,     0.54531,     0.54615,     0.54693,     0.54771,\n",
              "            0.54848,     0.54926,     0.55013,      0.5511,     0.55206,     0.55302,     0.55509,     0.55841,     0.55882,     0.55922,     0.55963,     0.56004,     0.56044,     0.56085,     0.56126,     0.56166,     0.56206,     0.56247,     0.56418,     0.56599,     0.56842,     0.57149,     0.57462,\n",
              "             0.5747,     0.57234,     0.56999,     0.56764,     0.56528,     0.56532,      0.5665,     0.56767,     0.56884,      0.5629,     0.55662,     0.55418,     0.55174,     0.54929,     0.54684,     0.54007,     0.53404,     0.53558,      0.5371,     0.53882,     0.54069,     0.54731,     0.55054,\n",
              "            0.55297,     0.55494,     0.55668,     0.55752,     0.55836,     0.55919,     0.56003,     0.56086,     0.56015,     0.55643,      0.5527,     0.54896,     0.55177,     0.54121,     0.54265,     0.54409,     0.54548,     0.54613,     0.54678,     0.54742,     0.54806,      0.5487,     0.54934,\n",
              "            0.54998,     0.54332,     0.54749,     0.54868,     0.54987,     0.55106,     0.55223,     0.52458,     0.52494,     0.52529,     0.52565,       0.526,     0.52635,      0.5267,     0.52706,     0.52741,     0.52776,      0.5281,     0.52845,      0.5288,     0.52915,     0.52763,     0.52017,\n",
              "            0.51639,     0.51841,     0.51331,      0.5082,     0.50608,     0.50873,     0.49516,     0.49587,     0.49658,     0.49729,     0.49799,     0.49869,     0.49939,     0.50019,     0.50174,     0.50329,     0.50481,     0.50587,     0.50673,     0.50758,     0.50843,     0.50927,     0.51011,\n",
              "            0.49598,     0.49964,     0.50147,     0.50308,     0.50468,     0.50139,     0.49288,     0.47217,     0.47737,      0.4788,     0.48022,     0.48161,     0.48342,     0.48726,     0.49255,     0.49524,     0.49677,     0.49827,     0.49975,     0.49766,     0.49483,     0.49199,     0.48914,\n",
              "            0.48628,     0.48341,     0.47888,     0.47258,     0.46623,     0.46845,     0.45869,     0.44921,     0.44254,     0.43583,     0.42775,     0.41401,     0.41101,     0.41203,     0.41303,     0.41401,     0.41498,     0.39248,     0.38625,     0.37998,     0.37366,     0.37503,     0.37676,\n",
              "            0.37831,     0.37531,      0.3723,     0.36928,     0.36624,      0.3632,     0.36014,     0.35707,      0.3515,     0.34484,     0.33813,     0.32987,     0.31788,     0.30848,     0.30439,     0.30029,     0.29617,     0.29202,     0.28786,     0.27342,     0.25709,     0.24965,     0.24214,\n",
              "            0.23273,     0.20564,     0.14536,     0.11934,     0.11067,     0.10192,    0.094235,    0.090089,    0.085926,    0.081744,    0.077544,    0.073325,    0.069088,    0.064833,    0.061025,    0.057239,    0.053439,    0.049624,    0.045793,    0.041948,    0.038088,    0.034212,           0,\n",
              "                  0,           0,           0,           0,           0,           0,           0,           0,           0,           0,           0,           0,           0,           0,           0,           0,           0,           0,           0,           0,           0,           0,           0,\n",
              "                  0,           0,           0,           0,           0,           0,           0,           0,           0,           0,           0]]), 'Confidence', 'F1'], [array([          0,    0.001001,    0.002002,    0.003003,    0.004004,    0.005005,    0.006006,    0.007007,    0.008008,    0.009009,     0.01001,    0.011011,    0.012012,    0.013013,    0.014014,    0.015015,    0.016016,    0.017017,    0.018018,    0.019019,     0.02002,    0.021021,    0.022022,    0.023023,\n",
              "          0.024024,    0.025025,    0.026026,    0.027027,    0.028028,    0.029029,     0.03003,    0.031031,    0.032032,    0.033033,    0.034034,    0.035035,    0.036036,    0.037037,    0.038038,    0.039039,     0.04004,    0.041041,    0.042042,    0.043043,    0.044044,    0.045045,    0.046046,    0.047047,\n",
              "          0.048048,    0.049049,     0.05005,    0.051051,    0.052052,    0.053053,    0.054054,    0.055055,    0.056056,    0.057057,    0.058058,    0.059059,     0.06006,    0.061061,    0.062062,    0.063063,    0.064064,    0.065065,    0.066066,    0.067067,    0.068068,    0.069069,     0.07007,    0.071071,\n",
              "          0.072072,    0.073073,    0.074074,    0.075075,    0.076076,    0.077077,    0.078078,    0.079079,     0.08008,    0.081081,    0.082082,    0.083083,    0.084084,    0.085085,    0.086086,    0.087087,    0.088088,    0.089089,     0.09009,    0.091091,    0.092092,    0.093093,    0.094094,    0.095095,\n",
              "          0.096096,    0.097097,    0.098098,    0.099099,      0.1001,      0.1011,      0.1021,      0.1031,      0.1041,     0.10511,     0.10611,     0.10711,     0.10811,     0.10911,     0.11011,     0.11111,     0.11211,     0.11311,     0.11411,     0.11512,     0.11612,     0.11712,     0.11812,     0.11912,\n",
              "           0.12012,     0.12112,     0.12212,     0.12312,     0.12412,     0.12513,     0.12613,     0.12713,     0.12813,     0.12913,     0.13013,     0.13113,     0.13213,     0.13313,     0.13413,     0.13514,     0.13614,     0.13714,     0.13814,     0.13914,     0.14014,     0.14114,     0.14214,     0.14314,\n",
              "           0.14414,     0.14515,     0.14615,     0.14715,     0.14815,     0.14915,     0.15015,     0.15115,     0.15215,     0.15315,     0.15415,     0.15516,     0.15616,     0.15716,     0.15816,     0.15916,     0.16016,     0.16116,     0.16216,     0.16316,     0.16416,     0.16517,     0.16617,     0.16717,\n",
              "           0.16817,     0.16917,     0.17017,     0.17117,     0.17217,     0.17317,     0.17417,     0.17518,     0.17618,     0.17718,     0.17818,     0.17918,     0.18018,     0.18118,     0.18218,     0.18318,     0.18418,     0.18519,     0.18619,     0.18719,     0.18819,     0.18919,     0.19019,     0.19119,\n",
              "           0.19219,     0.19319,     0.19419,      0.1952,      0.1962,      0.1972,      0.1982,      0.1992,      0.2002,      0.2012,      0.2022,      0.2032,      0.2042,     0.20521,     0.20621,     0.20721,     0.20821,     0.20921,     0.21021,     0.21121,     0.21221,     0.21321,     0.21421,     0.21522,\n",
              "           0.21622,     0.21722,     0.21822,     0.21922,     0.22022,     0.22122,     0.22222,     0.22322,     0.22422,     0.22523,     0.22623,     0.22723,     0.22823,     0.22923,     0.23023,     0.23123,     0.23223,     0.23323,     0.23423,     0.23524,     0.23624,     0.23724,     0.23824,     0.23924,\n",
              "           0.24024,     0.24124,     0.24224,     0.24324,     0.24424,     0.24525,     0.24625,     0.24725,     0.24825,     0.24925,     0.25025,     0.25125,     0.25225,     0.25325,     0.25425,     0.25526,     0.25626,     0.25726,     0.25826,     0.25926,     0.26026,     0.26126,     0.26226,     0.26326,\n",
              "           0.26426,     0.26527,     0.26627,     0.26727,     0.26827,     0.26927,     0.27027,     0.27127,     0.27227,     0.27327,     0.27427,     0.27528,     0.27628,     0.27728,     0.27828,     0.27928,     0.28028,     0.28128,     0.28228,     0.28328,     0.28428,     0.28529,     0.28629,     0.28729,\n",
              "           0.28829,     0.28929,     0.29029,     0.29129,     0.29229,     0.29329,     0.29429,      0.2953,      0.2963,      0.2973,      0.2983,      0.2993,      0.3003,      0.3013,      0.3023,      0.3033,      0.3043,     0.30531,     0.30631,     0.30731,     0.30831,     0.30931,     0.31031,     0.31131,\n",
              "           0.31231,     0.31331,     0.31431,     0.31532,     0.31632,     0.31732,     0.31832,     0.31932,     0.32032,     0.32132,     0.32232,     0.32332,     0.32432,     0.32533,     0.32633,     0.32733,     0.32833,     0.32933,     0.33033,     0.33133,     0.33233,     0.33333,     0.33433,     0.33534,\n",
              "           0.33634,     0.33734,     0.33834,     0.33934,     0.34034,     0.34134,     0.34234,     0.34334,     0.34434,     0.34535,     0.34635,     0.34735,     0.34835,     0.34935,     0.35035,     0.35135,     0.35235,     0.35335,     0.35435,     0.35536,     0.35636,     0.35736,     0.35836,     0.35936,\n",
              "           0.36036,     0.36136,     0.36236,     0.36336,     0.36436,     0.36537,     0.36637,     0.36737,     0.36837,     0.36937,     0.37037,     0.37137,     0.37237,     0.37337,     0.37437,     0.37538,     0.37638,     0.37738,     0.37838,     0.37938,     0.38038,     0.38138,     0.38238,     0.38338,\n",
              "           0.38438,     0.38539,     0.38639,     0.38739,     0.38839,     0.38939,     0.39039,     0.39139,     0.39239,     0.39339,     0.39439,      0.3954,      0.3964,      0.3974,      0.3984,      0.3994,      0.4004,      0.4014,      0.4024,      0.4034,      0.4044,     0.40541,     0.40641,     0.40741,\n",
              "           0.40841,     0.40941,     0.41041,     0.41141,     0.41241,     0.41341,     0.41441,     0.41542,     0.41642,     0.41742,     0.41842,     0.41942,     0.42042,     0.42142,     0.42242,     0.42342,     0.42442,     0.42543,     0.42643,     0.42743,     0.42843,     0.42943,     0.43043,     0.43143,\n",
              "           0.43243,     0.43343,     0.43443,     0.43544,     0.43644,     0.43744,     0.43844,     0.43944,     0.44044,     0.44144,     0.44244,     0.44344,     0.44444,     0.44545,     0.44645,     0.44745,     0.44845,     0.44945,     0.45045,     0.45145,     0.45245,     0.45345,     0.45445,     0.45546,\n",
              "           0.45646,     0.45746,     0.45846,     0.45946,     0.46046,     0.46146,     0.46246,     0.46346,     0.46446,     0.46547,     0.46647,     0.46747,     0.46847,     0.46947,     0.47047,     0.47147,     0.47247,     0.47347,     0.47447,     0.47548,     0.47648,     0.47748,     0.47848,     0.47948,\n",
              "           0.48048,     0.48148,     0.48248,     0.48348,     0.48448,     0.48549,     0.48649,     0.48749,     0.48849,     0.48949,     0.49049,     0.49149,     0.49249,     0.49349,     0.49449,      0.4955,      0.4965,      0.4975,      0.4985,      0.4995,      0.5005,      0.5015,      0.5025,      0.5035,\n",
              "            0.5045,     0.50551,     0.50651,     0.50751,     0.50851,     0.50951,     0.51051,     0.51151,     0.51251,     0.51351,     0.51451,     0.51552,     0.51652,     0.51752,     0.51852,     0.51952,     0.52052,     0.52152,     0.52252,     0.52352,     0.52452,     0.52553,     0.52653,     0.52753,\n",
              "           0.52853,     0.52953,     0.53053,     0.53153,     0.53253,     0.53353,     0.53453,     0.53554,     0.53654,     0.53754,     0.53854,     0.53954,     0.54054,     0.54154,     0.54254,     0.54354,     0.54454,     0.54555,     0.54655,     0.54755,     0.54855,     0.54955,     0.55055,     0.55155,\n",
              "           0.55255,     0.55355,     0.55455,     0.55556,     0.55656,     0.55756,     0.55856,     0.55956,     0.56056,     0.56156,     0.56256,     0.56356,     0.56456,     0.56557,     0.56657,     0.56757,     0.56857,     0.56957,     0.57057,     0.57157,     0.57257,     0.57357,     0.57457,     0.57558,\n",
              "           0.57658,     0.57758,     0.57858,     0.57958,     0.58058,     0.58158,     0.58258,     0.58358,     0.58458,     0.58559,     0.58659,     0.58759,     0.58859,     0.58959,     0.59059,     0.59159,     0.59259,     0.59359,     0.59459,      0.5956,      0.5966,      0.5976,      0.5986,      0.5996,\n",
              "            0.6006,      0.6016,      0.6026,      0.6036,      0.6046,     0.60561,     0.60661,     0.60761,     0.60861,     0.60961,     0.61061,     0.61161,     0.61261,     0.61361,     0.61461,     0.61562,     0.61662,     0.61762,     0.61862,     0.61962,     0.62062,     0.62162,     0.62262,     0.62362,\n",
              "           0.62462,     0.62563,     0.62663,     0.62763,     0.62863,     0.62963,     0.63063,     0.63163,     0.63263,     0.63363,     0.63463,     0.63564,     0.63664,     0.63764,     0.63864,     0.63964,     0.64064,     0.64164,     0.64264,     0.64364,     0.64464,     0.64565,     0.64665,     0.64765,\n",
              "           0.64865,     0.64965,     0.65065,     0.65165,     0.65265,     0.65365,     0.65465,     0.65566,     0.65666,     0.65766,     0.65866,     0.65966,     0.66066,     0.66166,     0.66266,     0.66366,     0.66466,     0.66567,     0.66667,     0.66767,     0.66867,     0.66967,     0.67067,     0.67167,\n",
              "           0.67267,     0.67367,     0.67467,     0.67568,     0.67668,     0.67768,     0.67868,     0.67968,     0.68068,     0.68168,     0.68268,     0.68368,     0.68468,     0.68569,     0.68669,     0.68769,     0.68869,     0.68969,     0.69069,     0.69169,     0.69269,     0.69369,     0.69469,      0.6957,\n",
              "            0.6967,      0.6977,      0.6987,      0.6997,      0.7007,      0.7017,      0.7027,      0.7037,      0.7047,     0.70571,     0.70671,     0.70771,     0.70871,     0.70971,     0.71071,     0.71171,     0.71271,     0.71371,     0.71471,     0.71572,     0.71672,     0.71772,     0.71872,     0.71972,\n",
              "           0.72072,     0.72172,     0.72272,     0.72372,     0.72472,     0.72573,     0.72673,     0.72773,     0.72873,     0.72973,     0.73073,     0.73173,     0.73273,     0.73373,     0.73473,     0.73574,     0.73674,     0.73774,     0.73874,     0.73974,     0.74074,     0.74174,     0.74274,     0.74374,\n",
              "           0.74474,     0.74575,     0.74675,     0.74775,     0.74875,     0.74975,     0.75075,     0.75175,     0.75275,     0.75375,     0.75475,     0.75576,     0.75676,     0.75776,     0.75876,     0.75976,     0.76076,     0.76176,     0.76276,     0.76376,     0.76476,     0.76577,     0.76677,     0.76777,\n",
              "           0.76877,     0.76977,     0.77077,     0.77177,     0.77277,     0.77377,     0.77477,     0.77578,     0.77678,     0.77778,     0.77878,     0.77978,     0.78078,     0.78178,     0.78278,     0.78378,     0.78478,     0.78579,     0.78679,     0.78779,     0.78879,     0.78979,     0.79079,     0.79179,\n",
              "           0.79279,     0.79379,     0.79479,      0.7958,      0.7968,      0.7978,      0.7988,      0.7998,      0.8008,      0.8018,      0.8028,      0.8038,      0.8048,     0.80581,     0.80681,     0.80781,     0.80881,     0.80981,     0.81081,     0.81181,     0.81281,     0.81381,     0.81481,     0.81582,\n",
              "           0.81682,     0.81782,     0.81882,     0.81982,     0.82082,     0.82182,     0.82282,     0.82382,     0.82482,     0.82583,     0.82683,     0.82783,     0.82883,     0.82983,     0.83083,     0.83183,     0.83283,     0.83383,     0.83483,     0.83584,     0.83684,     0.83784,     0.83884,     0.83984,\n",
              "           0.84084,     0.84184,     0.84284,     0.84384,     0.84484,     0.84585,     0.84685,     0.84785,     0.84885,     0.84985,     0.85085,     0.85185,     0.85285,     0.85385,     0.85485,     0.85586,     0.85686,     0.85786,     0.85886,     0.85986,     0.86086,     0.86186,     0.86286,     0.86386,\n",
              "           0.86486,     0.86587,     0.86687,     0.86787,     0.86887,     0.86987,     0.87087,     0.87187,     0.87287,     0.87387,     0.87487,     0.87588,     0.87688,     0.87788,     0.87888,     0.87988,     0.88088,     0.88188,     0.88288,     0.88388,     0.88488,     0.88589,     0.88689,     0.88789,\n",
              "           0.88889,     0.88989,     0.89089,     0.89189,     0.89289,     0.89389,     0.89489,      0.8959,      0.8969,      0.8979,      0.8989,      0.8999,      0.9009,      0.9019,      0.9029,      0.9039,      0.9049,     0.90591,     0.90691,     0.90791,     0.90891,     0.90991,     0.91091,     0.91191,\n",
              "           0.91291,     0.91391,     0.91491,     0.91592,     0.91692,     0.91792,     0.91892,     0.91992,     0.92092,     0.92192,     0.92292,     0.92392,     0.92492,     0.92593,     0.92693,     0.92793,     0.92893,     0.92993,     0.93093,     0.93193,     0.93293,     0.93393,     0.93493,     0.93594,\n",
              "           0.93694,     0.93794,     0.93894,     0.93994,     0.94094,     0.94194,     0.94294,     0.94394,     0.94494,     0.94595,     0.94695,     0.94795,     0.94895,     0.94995,     0.95095,     0.95195,     0.95295,     0.95395,     0.95495,     0.95596,     0.95696,     0.95796,     0.95896,     0.95996,\n",
              "           0.96096,     0.96196,     0.96296,     0.96396,     0.96496,     0.96597,     0.96697,     0.96797,     0.96897,     0.96997,     0.97097,     0.97197,     0.97297,     0.97397,     0.97497,     0.97598,     0.97698,     0.97798,     0.97898,     0.97998,     0.98098,     0.98198,     0.98298,     0.98398,\n",
              "           0.98498,     0.98599,     0.98699,     0.98799,     0.98899,     0.98999,     0.99099,     0.99199,     0.99299,     0.99399,     0.99499,       0.996,       0.997,       0.998,       0.999,           1]), array([[   0.031128,    0.031128,    0.033187,    0.034919,    0.038325,    0.041228,    0.044616,    0.049575,    0.054256,    0.057279,    0.060345,    0.063287,    0.066256,    0.068636,    0.071338,    0.074754,    0.077137,    0.079289,    0.081585,    0.082562,    0.083899,     0.08564,    0.087543,\n",
              "           0.090257,    0.093022,    0.095959,    0.098924,     0.10137,     0.10354,     0.10534,     0.10761,     0.10909,     0.11156,     0.11126,     0.11288,      0.1137,     0.11483,     0.11601,     0.11702,     0.11865,     0.12155,     0.12333,     0.12436,     0.12623,     0.12644,     0.12751,\n",
              "            0.12883,     0.12996,     0.13174,     0.13239,     0.13376,     0.13465,     0.13652,     0.13801,     0.13916,     0.14005,     0.14077,     0.14109,      0.1414,     0.14161,     0.14253,     0.14341,     0.14199,     0.14289,     0.14415,     0.14463,     0.14652,     0.14674,     0.14693,\n",
              "            0.14773,     0.14869,     0.14927,     0.14999,      0.1504,     0.15159,     0.14941,     0.15114,     0.15173,     0.15315,     0.15457,     0.15674,     0.15753,     0.15822,     0.16058,     0.16194,      0.1626,     0.16355,     0.16616,     0.16643,     0.16671,     0.16715,      0.1678,\n",
              "            0.16839,     0.16914,     0.17024,     0.17129,     0.17104,     0.16999,     0.17082,     0.17107,     0.17131,     0.17184,     0.17242,      0.1728,     0.17314,     0.17334,     0.17354,     0.17373,     0.17652,     0.17782,     0.17884,      0.1797,     0.18004,     0.18026,     0.18042,\n",
              "            0.18058,     0.18074,     0.18101,     0.18138,      0.1824,     0.18273,     0.18374,     0.18489,     0.18664,     0.18721,     0.18745,     0.18769,     0.18793,     0.18816,      0.1884,     0.18909,     0.18947,     0.18978,     0.19096,      0.1918,     0.19244,     0.19314,     0.19446,\n",
              "            0.19469,     0.19493,     0.19516,     0.19539,     0.19561,     0.19583,     0.19614,     0.19679,     0.19772,     0.19799,     0.19827,     0.19854,     0.19882,     0.19909,     0.19968,     0.20114,     0.20168,       0.202,     0.20233,     0.20162,     0.20002,     0.19936,     0.19976,\n",
              "            0.20088,     0.20101,     0.20113,     0.20125,     0.20137,     0.20149,     0.20161,      0.2023,     0.20267,     0.20285,     0.20302,     0.20319,     0.20336,     0.20405,     0.20437,     0.20453,     0.20468,     0.20484,     0.20499,     0.20522,     0.20594,     0.20737,     0.20809,\n",
              "            0.20879,     0.20894,     0.20909,     0.20924,      0.2094,     0.20955,     0.20994,     0.21048,     0.21153,     0.21179,     0.21204,      0.2123,     0.21272,     0.21324,      0.2143,     0.21453,     0.21475,     0.21498,      0.2152,     0.21538,     0.21555,     0.21572,     0.21589,\n",
              "            0.21606,     0.21632,     0.21724,     0.21735,     0.21747,     0.21759,      0.2177,     0.21782,     0.21794,     0.21806,     0.21817,     0.21887,     0.21999,     0.22063,     0.22115,     0.22189,     0.22266,     0.22462,     0.22542,     0.22554,     0.22567,      0.2258,     0.22593,\n",
              "            0.22606,     0.22618,     0.22631,     0.22671,     0.22687,     0.22556,     0.22425,     0.22406,     0.22444,     0.22483,     0.22521,      0.2256,     0.22599,     0.22649,     0.22698,     0.22859,      0.2291,     0.22963,     0.23017,     0.23131,     0.23179,     0.23209,     0.23239,\n",
              "            0.23274,     0.23353,     0.23432,     0.23525,     0.23663,     0.23487,      0.2323,     0.22965,     0.22978,     0.22991,     0.23004,     0.23016,     0.23029,     0.23042,     0.23054,     0.23067,     0.23083,     0.23108,     0.23134,      0.2316,     0.23185,     0.23414,     0.23571,\n",
              "            0.23656,     0.23718,      0.2377,     0.23849,     0.24023,     0.24122,     0.24199,     0.24288,     0.24356,     0.24411,     0.24485,     0.24607,     0.24646,     0.24686,     0.24726,     0.24788,      0.2485,     0.24977,     0.24602,     0.24626,     0.24651,     0.24675,       0.247,\n",
              "            0.24738,     0.24819,     0.24959,     0.25012,     0.25028,     0.25043,     0.25058,     0.25074,     0.25089,     0.25105,      0.2512,     0.25135,     0.25246,     0.25335,     0.25395,      0.2544,     0.25457,     0.25474,     0.25492,     0.25509,     0.25526,     0.25544,     0.25561,\n",
              "            0.25578,      0.2559,       0.256,      0.2561,      0.2562,     0.25631,     0.25641,     0.25651,     0.25661,     0.25671,     0.25682,     0.25692,     0.25702,     0.25712,     0.25723,     0.25747,     0.25836,     0.25919,     0.25998,     0.26146,     0.26224,     0.26267,      0.2631,\n",
              "            0.26535,     0.26733,     0.27167,     0.27183,     0.27199,     0.27214,      0.2723,     0.27246,     0.27261,     0.27277,     0.27293,     0.27309,     0.27324,     0.27349,     0.27377,     0.27405,     0.27433,     0.27461,     0.27489,      0.2778,     0.27863,     0.27887,     0.27912,\n",
              "            0.27936,      0.2796,     0.27984,     0.28009,     0.28046,     0.28113,      0.2818,     0.28504,     0.28597,     0.28638,     0.28678,     0.28718,     0.28758,     0.28784,      0.2881,     0.28836,     0.28862,     0.28888,     0.28914,     0.28939,     0.28966,     0.28992,     0.29018,\n",
              "            0.29044,      0.2907,     0.29097,     0.29123,     0.29158,     0.29208,     0.29257,     0.29307,     0.29343,     0.29365,     0.29386,     0.29407,     0.29428,      0.2945,     0.29471,     0.29492,     0.29513,     0.29534,     0.29553,     0.29572,     0.29591,      0.2961,     0.29629,\n",
              "            0.29648,     0.29667,     0.29686,     0.29705,     0.29724,     0.29964,     0.30008,     0.30052,     0.30096,     0.30096,     0.29658,     0.29689,     0.29719,     0.29749,     0.29779,     0.29809,     0.29839,     0.29891,     0.29998,     0.30096,     0.30175,     0.30254,     0.30414,\n",
              "            0.30287,      0.3016,     0.30033,     0.30021,     0.30048,     0.30076,     0.30103,     0.30131,     0.30159,     0.30186,     0.30214,     0.30426,     0.30447,      0.3046,     0.30473,     0.30486,     0.30498,     0.30511,     0.30524,     0.30537,      0.3055,     0.30563,     0.30575,\n",
              "            0.30588,     0.30601,     0.30614,     0.30627,      0.3064,     0.30652,     0.30894,     0.30912,      0.3093,     0.30948,     0.30966,     0.30984,     0.31002,      0.3102,     0.31038,     0.31056,     0.31074,     0.31092,      0.3111,     0.31134,     0.31158,     0.31182,     0.31205,\n",
              "            0.31229,     0.31253,     0.31277,     0.31301,     0.31324,      0.3135,     0.31385,     0.31419,     0.31454,     0.31488,     0.31523,     0.31557,     0.31592,     0.31627,     0.31662,     0.31697,     0.31732,     0.31767,     0.31802,     0.31838,     0.31873,     0.31909,     0.31944,\n",
              "             0.3198,     0.32016,     0.32051,     0.32243,     0.32327,     0.32352,     0.32378,     0.32404,     0.32429,     0.32455,     0.32481,     0.32506,     0.32532,     0.32558,     0.32584,      0.3261,     0.32636,     0.32662,     0.32688,     0.32714,      0.3274,     0.32766,     0.32792,\n",
              "            0.32828,     0.32894,      0.3296,     0.33027,     0.33089,     0.33142,     0.33196,      0.3325,     0.33304,     0.33344,     0.33366,     0.33389,     0.33412,     0.33435,     0.33458,      0.3348,     0.33503,     0.33526,     0.33549,     0.33571,     0.33594,     0.33634,     0.33681,\n",
              "            0.33727,     0.33773,      0.3382,     0.33866,     0.33893,     0.33917,     0.33942,     0.33966,     0.33991,     0.34016,      0.3404,     0.34065,     0.34089,     0.34114,     0.34138,     0.34622,      0.3478,     0.34878,     0.34977,     0.35077,     0.35178,     0.35278,     0.35359,\n",
              "            0.35435,     0.35512,     0.35589,     0.35887,     0.36612,     0.36706,       0.368,     0.36903,     0.37015,     0.37126,     0.37192,      0.3723,     0.37267,     0.37305,     0.37343,     0.37381,     0.37419,     0.37456,     0.37494,     0.37545,     0.37598,     0.37652,     0.37705,\n",
              "            0.37758,     0.37811,     0.37855,     0.37888,     0.37922,     0.37955,     0.37989,     0.38023,     0.38056,      0.3809,     0.38123,     0.38157,     0.38228,     0.38408,     0.38442,     0.38151,        0.38,     0.38104,     0.38208,     0.38312,     0.38405,     0.38498,      0.3859,\n",
              "            0.38694,     0.39051,     0.39096,     0.39141,     0.39186,     0.39232,     0.39277,     0.39322,     0.39367,     0.39413,     0.39339,     0.39306,      0.3942,     0.39534,     0.39625,     0.39679,     0.39733,     0.39787,     0.39841,     0.39895,     0.39949,     0.40431,     0.40827,\n",
              "            0.40951,     0.41074,     0.41197,      0.4119,      0.4112,     0.41051,     0.40981,     0.40911,     0.40842,     0.40772,     0.40702,     0.40632,     0.40737,     0.40862,     0.40987,     0.41124,     0.41273,     0.41423,     0.41418,     0.41289,      0.4116,     0.41031,     0.40902,\n",
              "            0.40887,     0.40927,     0.40966,     0.41006,     0.41045,     0.41085,     0.41124,     0.41164,     0.41204,     0.41243,     0.41283,      0.4141,     0.41643,     0.41827,     0.41963,     0.42099,     0.42182,     0.41739,     0.41725,     0.41967,     0.41953,     0.41817,      0.4168,\n",
              "            0.41544,     0.41407,     0.41641,     0.41928,      0.4213,     0.42332,     0.42992,     0.43144,     0.43295,     0.43634,      0.4393,     0.43986,     0.44042,     0.44097,     0.44153,     0.44208,     0.44264,     0.44319,     0.44375,     0.44431,     0.45292,     0.45591,     0.45666,\n",
              "            0.45741,     0.45816,      0.4589,     0.45965,      0.4604,     0.46115,     0.46169,     0.46202,     0.46234,     0.46266,     0.46299,     0.46331,     0.46363,     0.46396,     0.46428,      0.4646,     0.46493,     0.46525,     0.46557,      0.4659,     0.46622,     0.46654,     0.46687,\n",
              "            0.46719,     0.46751,      0.4715,      0.4768,     0.48168,     0.48501,     0.48683,     0.48745,     0.48807,     0.48869,     0.48931,     0.48994,     0.49056,     0.49118,      0.4918,     0.49242,     0.49304,     0.49508,     0.49742,     0.49976,     0.50118,     0.50249,      0.5038,\n",
              "            0.50511,     0.50643,     0.50792,     0.50957,     0.51122,     0.51287,     0.51643,     0.52221,     0.52292,     0.52364,     0.52435,     0.52507,     0.52578,      0.5265,     0.52721,     0.52793,     0.52864,     0.52936,      0.5324,     0.53564,        0.54,     0.54556,      0.5513,\n",
              "            0.55305,     0.55162,     0.55019,     0.54876,     0.54734,     0.54838,     0.55061,     0.55283,     0.55506,     0.55176,     0.54791,      0.5464,     0.54488,     0.54336,     0.54184,     0.53758,     0.53475,     0.53784,     0.54093,     0.54441,     0.54825,     0.56204,     0.56889,\n",
              "            0.57411,     0.57837,     0.58217,     0.58401,     0.58585,     0.58769,     0.58953,     0.59137,     0.59183,     0.58958,     0.58733,     0.58508,       0.592,     0.58982,     0.59326,     0.59671,     0.60007,     0.60164,     0.60321,     0.60478,     0.60635,     0.60791,     0.60948,\n",
              "            0.61105,     0.62032,     0.63128,     0.63447,     0.63766,     0.64085,     0.64404,      0.6288,     0.62982,     0.63084,     0.63186,     0.63289,     0.63391,     0.63493,     0.63595,     0.63697,     0.63799,     0.63902,     0.64004,     0.64106,     0.64208,     0.64178,     0.63732,\n",
              "            0.63884,     0.64904,     0.64597,     0.64291,     0.64437,     0.65301,     0.64972,     0.65218,     0.65465,     0.65711,     0.65957,     0.66203,      0.6645,     0.66733,     0.67291,     0.67849,     0.68406,     0.68795,     0.69113,     0.69431,     0.69749,     0.70068,     0.70386,\n",
              "            0.70237,     0.71725,     0.72486,     0.73165,     0.73844,      0.7398,     0.73539,     0.72535,      0.7505,     0.75762,     0.76474,     0.77186,     0.78121,     0.80165,     0.83103,     0.84654,     0.85551,     0.86448,     0.87345,     0.87429,     0.87343,     0.87258,     0.87172,\n",
              "            0.87086,     0.87001,     0.86858,     0.86656,     0.86453,     0.90459,     0.90215,     0.89978,     0.89799,     0.89619,     0.89397,     0.88997,       0.896,     0.90574,     0.91549,     0.92523,     0.93498,     0.93706,     0.93584,     0.93462,      0.9334,     0.95495,     0.97773,\n",
              "                  1,           1,           1,           1,           1,           1,           1,           1,           1,           1,           1,           1,           1,           1,           1,           1,           1,           1,           1,           1,           1,           1,           1,\n",
              "                  1,           1,           1,           1,           1,           1,           1,           1,           1,           1,           1,           1,           1,           1,           1,           1,           1,           1,           1,           1,           1,           1,           1,\n",
              "                  1,           1,           1,           1,           1,           1,           1,           1,           1,           1,           1,           1,           1,           1,           1,           1,           1,           1,           1,           1,           1,           1,           1,\n",
              "                  1,           1,           1,           1,           1,           1,           1,           1,           1,           1,           1]]), 'Confidence', 'Precision'], [array([          0,    0.001001,    0.002002,    0.003003,    0.004004,    0.005005,    0.006006,    0.007007,    0.008008,    0.009009,     0.01001,    0.011011,    0.012012,    0.013013,    0.014014,    0.015015,    0.016016,    0.017017,    0.018018,    0.019019,     0.02002,    0.021021,    0.022022,    0.023023,\n",
              "          0.024024,    0.025025,    0.026026,    0.027027,    0.028028,    0.029029,     0.03003,    0.031031,    0.032032,    0.033033,    0.034034,    0.035035,    0.036036,    0.037037,    0.038038,    0.039039,     0.04004,    0.041041,    0.042042,    0.043043,    0.044044,    0.045045,    0.046046,    0.047047,\n",
              "          0.048048,    0.049049,     0.05005,    0.051051,    0.052052,    0.053053,    0.054054,    0.055055,    0.056056,    0.057057,    0.058058,    0.059059,     0.06006,    0.061061,    0.062062,    0.063063,    0.064064,    0.065065,    0.066066,    0.067067,    0.068068,    0.069069,     0.07007,    0.071071,\n",
              "          0.072072,    0.073073,    0.074074,    0.075075,    0.076076,    0.077077,    0.078078,    0.079079,     0.08008,    0.081081,    0.082082,    0.083083,    0.084084,    0.085085,    0.086086,    0.087087,    0.088088,    0.089089,     0.09009,    0.091091,    0.092092,    0.093093,    0.094094,    0.095095,\n",
              "          0.096096,    0.097097,    0.098098,    0.099099,      0.1001,      0.1011,      0.1021,      0.1031,      0.1041,     0.10511,     0.10611,     0.10711,     0.10811,     0.10911,     0.11011,     0.11111,     0.11211,     0.11311,     0.11411,     0.11512,     0.11612,     0.11712,     0.11812,     0.11912,\n",
              "           0.12012,     0.12112,     0.12212,     0.12312,     0.12412,     0.12513,     0.12613,     0.12713,     0.12813,     0.12913,     0.13013,     0.13113,     0.13213,     0.13313,     0.13413,     0.13514,     0.13614,     0.13714,     0.13814,     0.13914,     0.14014,     0.14114,     0.14214,     0.14314,\n",
              "           0.14414,     0.14515,     0.14615,     0.14715,     0.14815,     0.14915,     0.15015,     0.15115,     0.15215,     0.15315,     0.15415,     0.15516,     0.15616,     0.15716,     0.15816,     0.15916,     0.16016,     0.16116,     0.16216,     0.16316,     0.16416,     0.16517,     0.16617,     0.16717,\n",
              "           0.16817,     0.16917,     0.17017,     0.17117,     0.17217,     0.17317,     0.17417,     0.17518,     0.17618,     0.17718,     0.17818,     0.17918,     0.18018,     0.18118,     0.18218,     0.18318,     0.18418,     0.18519,     0.18619,     0.18719,     0.18819,     0.18919,     0.19019,     0.19119,\n",
              "           0.19219,     0.19319,     0.19419,      0.1952,      0.1962,      0.1972,      0.1982,      0.1992,      0.2002,      0.2012,      0.2022,      0.2032,      0.2042,     0.20521,     0.20621,     0.20721,     0.20821,     0.20921,     0.21021,     0.21121,     0.21221,     0.21321,     0.21421,     0.21522,\n",
              "           0.21622,     0.21722,     0.21822,     0.21922,     0.22022,     0.22122,     0.22222,     0.22322,     0.22422,     0.22523,     0.22623,     0.22723,     0.22823,     0.22923,     0.23023,     0.23123,     0.23223,     0.23323,     0.23423,     0.23524,     0.23624,     0.23724,     0.23824,     0.23924,\n",
              "           0.24024,     0.24124,     0.24224,     0.24324,     0.24424,     0.24525,     0.24625,     0.24725,     0.24825,     0.24925,     0.25025,     0.25125,     0.25225,     0.25325,     0.25425,     0.25526,     0.25626,     0.25726,     0.25826,     0.25926,     0.26026,     0.26126,     0.26226,     0.26326,\n",
              "           0.26426,     0.26527,     0.26627,     0.26727,     0.26827,     0.26927,     0.27027,     0.27127,     0.27227,     0.27327,     0.27427,     0.27528,     0.27628,     0.27728,     0.27828,     0.27928,     0.28028,     0.28128,     0.28228,     0.28328,     0.28428,     0.28529,     0.28629,     0.28729,\n",
              "           0.28829,     0.28929,     0.29029,     0.29129,     0.29229,     0.29329,     0.29429,      0.2953,      0.2963,      0.2973,      0.2983,      0.2993,      0.3003,      0.3013,      0.3023,      0.3033,      0.3043,     0.30531,     0.30631,     0.30731,     0.30831,     0.30931,     0.31031,     0.31131,\n",
              "           0.31231,     0.31331,     0.31431,     0.31532,     0.31632,     0.31732,     0.31832,     0.31932,     0.32032,     0.32132,     0.32232,     0.32332,     0.32432,     0.32533,     0.32633,     0.32733,     0.32833,     0.32933,     0.33033,     0.33133,     0.33233,     0.33333,     0.33433,     0.33534,\n",
              "           0.33634,     0.33734,     0.33834,     0.33934,     0.34034,     0.34134,     0.34234,     0.34334,     0.34434,     0.34535,     0.34635,     0.34735,     0.34835,     0.34935,     0.35035,     0.35135,     0.35235,     0.35335,     0.35435,     0.35536,     0.35636,     0.35736,     0.35836,     0.35936,\n",
              "           0.36036,     0.36136,     0.36236,     0.36336,     0.36436,     0.36537,     0.36637,     0.36737,     0.36837,     0.36937,     0.37037,     0.37137,     0.37237,     0.37337,     0.37437,     0.37538,     0.37638,     0.37738,     0.37838,     0.37938,     0.38038,     0.38138,     0.38238,     0.38338,\n",
              "           0.38438,     0.38539,     0.38639,     0.38739,     0.38839,     0.38939,     0.39039,     0.39139,     0.39239,     0.39339,     0.39439,      0.3954,      0.3964,      0.3974,      0.3984,      0.3994,      0.4004,      0.4014,      0.4024,      0.4034,      0.4044,     0.40541,     0.40641,     0.40741,\n",
              "           0.40841,     0.40941,     0.41041,     0.41141,     0.41241,     0.41341,     0.41441,     0.41542,     0.41642,     0.41742,     0.41842,     0.41942,     0.42042,     0.42142,     0.42242,     0.42342,     0.42442,     0.42543,     0.42643,     0.42743,     0.42843,     0.42943,     0.43043,     0.43143,\n",
              "           0.43243,     0.43343,     0.43443,     0.43544,     0.43644,     0.43744,     0.43844,     0.43944,     0.44044,     0.44144,     0.44244,     0.44344,     0.44444,     0.44545,     0.44645,     0.44745,     0.44845,     0.44945,     0.45045,     0.45145,     0.45245,     0.45345,     0.45445,     0.45546,\n",
              "           0.45646,     0.45746,     0.45846,     0.45946,     0.46046,     0.46146,     0.46246,     0.46346,     0.46446,     0.46547,     0.46647,     0.46747,     0.46847,     0.46947,     0.47047,     0.47147,     0.47247,     0.47347,     0.47447,     0.47548,     0.47648,     0.47748,     0.47848,     0.47948,\n",
              "           0.48048,     0.48148,     0.48248,     0.48348,     0.48448,     0.48549,     0.48649,     0.48749,     0.48849,     0.48949,     0.49049,     0.49149,     0.49249,     0.49349,     0.49449,      0.4955,      0.4965,      0.4975,      0.4985,      0.4995,      0.5005,      0.5015,      0.5025,      0.5035,\n",
              "            0.5045,     0.50551,     0.50651,     0.50751,     0.50851,     0.50951,     0.51051,     0.51151,     0.51251,     0.51351,     0.51451,     0.51552,     0.51652,     0.51752,     0.51852,     0.51952,     0.52052,     0.52152,     0.52252,     0.52352,     0.52452,     0.52553,     0.52653,     0.52753,\n",
              "           0.52853,     0.52953,     0.53053,     0.53153,     0.53253,     0.53353,     0.53453,     0.53554,     0.53654,     0.53754,     0.53854,     0.53954,     0.54054,     0.54154,     0.54254,     0.54354,     0.54454,     0.54555,     0.54655,     0.54755,     0.54855,     0.54955,     0.55055,     0.55155,\n",
              "           0.55255,     0.55355,     0.55455,     0.55556,     0.55656,     0.55756,     0.55856,     0.55956,     0.56056,     0.56156,     0.56256,     0.56356,     0.56456,     0.56557,     0.56657,     0.56757,     0.56857,     0.56957,     0.57057,     0.57157,     0.57257,     0.57357,     0.57457,     0.57558,\n",
              "           0.57658,     0.57758,     0.57858,     0.57958,     0.58058,     0.58158,     0.58258,     0.58358,     0.58458,     0.58559,     0.58659,     0.58759,     0.58859,     0.58959,     0.59059,     0.59159,     0.59259,     0.59359,     0.59459,      0.5956,      0.5966,      0.5976,      0.5986,      0.5996,\n",
              "            0.6006,      0.6016,      0.6026,      0.6036,      0.6046,     0.60561,     0.60661,     0.60761,     0.60861,     0.60961,     0.61061,     0.61161,     0.61261,     0.61361,     0.61461,     0.61562,     0.61662,     0.61762,     0.61862,     0.61962,     0.62062,     0.62162,     0.62262,     0.62362,\n",
              "           0.62462,     0.62563,     0.62663,     0.62763,     0.62863,     0.62963,     0.63063,     0.63163,     0.63263,     0.63363,     0.63463,     0.63564,     0.63664,     0.63764,     0.63864,     0.63964,     0.64064,     0.64164,     0.64264,     0.64364,     0.64464,     0.64565,     0.64665,     0.64765,\n",
              "           0.64865,     0.64965,     0.65065,     0.65165,     0.65265,     0.65365,     0.65465,     0.65566,     0.65666,     0.65766,     0.65866,     0.65966,     0.66066,     0.66166,     0.66266,     0.66366,     0.66466,     0.66567,     0.66667,     0.66767,     0.66867,     0.66967,     0.67067,     0.67167,\n",
              "           0.67267,     0.67367,     0.67467,     0.67568,     0.67668,     0.67768,     0.67868,     0.67968,     0.68068,     0.68168,     0.68268,     0.68368,     0.68468,     0.68569,     0.68669,     0.68769,     0.68869,     0.68969,     0.69069,     0.69169,     0.69269,     0.69369,     0.69469,      0.6957,\n",
              "            0.6967,      0.6977,      0.6987,      0.6997,      0.7007,      0.7017,      0.7027,      0.7037,      0.7047,     0.70571,     0.70671,     0.70771,     0.70871,     0.70971,     0.71071,     0.71171,     0.71271,     0.71371,     0.71471,     0.71572,     0.71672,     0.71772,     0.71872,     0.71972,\n",
              "           0.72072,     0.72172,     0.72272,     0.72372,     0.72472,     0.72573,     0.72673,     0.72773,     0.72873,     0.72973,     0.73073,     0.73173,     0.73273,     0.73373,     0.73473,     0.73574,     0.73674,     0.73774,     0.73874,     0.73974,     0.74074,     0.74174,     0.74274,     0.74374,\n",
              "           0.74474,     0.74575,     0.74675,     0.74775,     0.74875,     0.74975,     0.75075,     0.75175,     0.75275,     0.75375,     0.75475,     0.75576,     0.75676,     0.75776,     0.75876,     0.75976,     0.76076,     0.76176,     0.76276,     0.76376,     0.76476,     0.76577,     0.76677,     0.76777,\n",
              "           0.76877,     0.76977,     0.77077,     0.77177,     0.77277,     0.77377,     0.77477,     0.77578,     0.77678,     0.77778,     0.77878,     0.77978,     0.78078,     0.78178,     0.78278,     0.78378,     0.78478,     0.78579,     0.78679,     0.78779,     0.78879,     0.78979,     0.79079,     0.79179,\n",
              "           0.79279,     0.79379,     0.79479,      0.7958,      0.7968,      0.7978,      0.7988,      0.7998,      0.8008,      0.8018,      0.8028,      0.8038,      0.8048,     0.80581,     0.80681,     0.80781,     0.80881,     0.80981,     0.81081,     0.81181,     0.81281,     0.81381,     0.81481,     0.81582,\n",
              "           0.81682,     0.81782,     0.81882,     0.81982,     0.82082,     0.82182,     0.82282,     0.82382,     0.82482,     0.82583,     0.82683,     0.82783,     0.82883,     0.82983,     0.83083,     0.83183,     0.83283,     0.83383,     0.83483,     0.83584,     0.83684,     0.83784,     0.83884,     0.83984,\n",
              "           0.84084,     0.84184,     0.84284,     0.84384,     0.84484,     0.84585,     0.84685,     0.84785,     0.84885,     0.84985,     0.85085,     0.85185,     0.85285,     0.85385,     0.85485,     0.85586,     0.85686,     0.85786,     0.85886,     0.85986,     0.86086,     0.86186,     0.86286,     0.86386,\n",
              "           0.86486,     0.86587,     0.86687,     0.86787,     0.86887,     0.86987,     0.87087,     0.87187,     0.87287,     0.87387,     0.87487,     0.87588,     0.87688,     0.87788,     0.87888,     0.87988,     0.88088,     0.88188,     0.88288,     0.88388,     0.88488,     0.88589,     0.88689,     0.88789,\n",
              "           0.88889,     0.88989,     0.89089,     0.89189,     0.89289,     0.89389,     0.89489,      0.8959,      0.8969,      0.8979,      0.8989,      0.8999,      0.9009,      0.9019,      0.9029,      0.9039,      0.9049,     0.90591,     0.90691,     0.90791,     0.90891,     0.90991,     0.91091,     0.91191,\n",
              "           0.91291,     0.91391,     0.91491,     0.91592,     0.91692,     0.91792,     0.91892,     0.91992,     0.92092,     0.92192,     0.92292,     0.92392,     0.92492,     0.92593,     0.92693,     0.92793,     0.92893,     0.92993,     0.93093,     0.93193,     0.93293,     0.93393,     0.93493,     0.93594,\n",
              "           0.93694,     0.93794,     0.93894,     0.93994,     0.94094,     0.94194,     0.94294,     0.94394,     0.94494,     0.94595,     0.94695,     0.94795,     0.94895,     0.94995,     0.95095,     0.95195,     0.95295,     0.95395,     0.95495,     0.95596,     0.95696,     0.95796,     0.95896,     0.95996,\n",
              "           0.96096,     0.96196,     0.96296,     0.96396,     0.96496,     0.96597,     0.96697,     0.96797,     0.96897,     0.96997,     0.97097,     0.97197,     0.97297,     0.97397,     0.97497,     0.97598,     0.97698,     0.97798,     0.97898,     0.97998,     0.98098,     0.98198,     0.98298,     0.98398,\n",
              "           0.98498,     0.98599,     0.98699,     0.98799,     0.98899,     0.98999,     0.99099,     0.99199,     0.99299,     0.99399,     0.99499,       0.996,       0.997,       0.998,       0.999,           1]), array([[    0.93333,     0.93333,     0.93333,     0.93333,     0.91667,         0.9,     0.88333,     0.88333,     0.88333,     0.88333,     0.88333,     0.88333,     0.88333,     0.88333,     0.88333,     0.88333,     0.88333,     0.88333,     0.88333,     0.88333,     0.88333,     0.88333,     0.88333,\n",
              "            0.88333,     0.88333,     0.88333,     0.88333,     0.88333,     0.88333,     0.88333,     0.88333,     0.88333,     0.88333,     0.86667,     0.86667,     0.86667,     0.86667,     0.86667,     0.86667,     0.86667,     0.86667,     0.86667,     0.86667,     0.86667,     0.86667,     0.86667,\n",
              "            0.86667,     0.86667,     0.86667,     0.86667,     0.86667,     0.86667,     0.86667,     0.86667,     0.86667,     0.86667,     0.86667,     0.86667,     0.86667,     0.86667,     0.86667,     0.86667,        0.85,        0.85,        0.85,        0.85,        0.85,        0.85,        0.85,\n",
              "               0.85,        0.85,        0.85,        0.85,        0.85,        0.85,     0.83333,     0.83333,     0.83333,     0.83333,     0.83333,     0.83333,     0.83333,     0.83333,     0.83333,     0.83333,     0.83333,     0.83333,     0.83333,     0.83333,     0.83333,     0.83333,     0.83333,\n",
              "            0.83333,     0.83333,     0.83333,     0.83333,     0.82534,     0.81667,     0.81667,     0.81667,     0.81667,     0.81667,     0.81667,     0.81667,     0.81667,     0.81667,     0.81667,     0.81667,     0.81667,     0.81667,     0.81667,     0.81667,     0.81667,     0.81667,     0.81667,\n",
              "            0.81667,     0.81667,     0.81667,     0.81667,     0.81667,     0.81667,     0.81667,     0.81667,     0.81667,     0.81667,     0.81667,     0.81667,     0.81667,     0.81667,     0.81667,     0.81667,     0.81667,     0.81667,     0.81667,     0.81667,     0.81667,     0.81667,     0.81667,\n",
              "            0.81667,     0.81667,     0.81667,     0.81667,     0.81667,     0.81667,     0.81667,     0.81667,     0.81667,     0.81667,     0.81667,     0.81667,     0.81667,     0.81667,     0.81667,     0.81667,     0.81667,     0.81667,     0.81667,     0.81232,     0.80428,         0.8,         0.8,\n",
              "                0.8,         0.8,         0.8,         0.8,         0.8,         0.8,         0.8,         0.8,         0.8,         0.8,         0.8,         0.8,         0.8,         0.8,         0.8,         0.8,         0.8,         0.8,         0.8,         0.8,         0.8,         0.8,         0.8,\n",
              "                0.8,         0.8,         0.8,         0.8,         0.8,         0.8,         0.8,         0.8,         0.8,         0.8,         0.8,         0.8,         0.8,         0.8,         0.8,         0.8,         0.8,         0.8,         0.8,         0.8,         0.8,         0.8,         0.8,\n",
              "                0.8,         0.8,         0.8,         0.8,         0.8,         0.8,         0.8,         0.8,         0.8,         0.8,         0.8,         0.8,         0.8,         0.8,         0.8,         0.8,         0.8,         0.8,         0.8,         0.8,         0.8,         0.8,         0.8,\n",
              "                0.8,         0.8,         0.8,         0.8,     0.79721,     0.79127,     0.78533,     0.78333,     0.78333,     0.78333,     0.78333,     0.78333,     0.78333,     0.78333,     0.78333,     0.78333,     0.78333,     0.78333,     0.78333,     0.78333,     0.78333,     0.78333,     0.78333,\n",
              "            0.78333,     0.78333,     0.78333,     0.78333,     0.78014,     0.77254,     0.76152,        0.75,        0.75,        0.75,        0.75,        0.75,        0.75,        0.75,        0.75,        0.75,        0.75,        0.75,        0.75,        0.75,        0.75,        0.75,        0.75,\n",
              "               0.75,        0.75,        0.75,        0.75,        0.75,        0.75,        0.75,        0.75,        0.75,        0.75,        0.75,        0.75,        0.75,        0.75,        0.75,        0.75,        0.75,        0.75,     0.73333,     0.73333,     0.73333,     0.73333,     0.73333,\n",
              "            0.73333,     0.73333,     0.73333,     0.73333,     0.73333,     0.73333,     0.73333,     0.73333,     0.73333,     0.73333,     0.73333,     0.73333,     0.73333,     0.73333,     0.73333,     0.73333,     0.73333,     0.73333,     0.73333,     0.73333,     0.73333,     0.73333,     0.73333,\n",
              "            0.73333,     0.73333,     0.73333,     0.73333,     0.73333,     0.73333,     0.73333,     0.73333,     0.73333,     0.73333,     0.73333,     0.73333,     0.73333,     0.73333,     0.73333,     0.73333,     0.73333,     0.73333,     0.73333,     0.73333,     0.73333,     0.73333,     0.73333,\n",
              "            0.73333,     0.73333,     0.73333,     0.73333,     0.73333,     0.73333,     0.73333,     0.73333,     0.73333,     0.73333,     0.73333,     0.73333,     0.73333,     0.73333,     0.73333,     0.73333,     0.73333,     0.73333,     0.73333,     0.73333,     0.73333,     0.73333,     0.73333,\n",
              "            0.73333,     0.73333,     0.73333,     0.73333,     0.73333,     0.73333,     0.73333,     0.73333,     0.73333,     0.73333,     0.73333,     0.73333,     0.73333,     0.73333,     0.73333,     0.73333,     0.73333,     0.73333,     0.73333,     0.73333,     0.73333,     0.73333,     0.73333,\n",
              "            0.73333,     0.73333,     0.73333,     0.73333,     0.73333,     0.73333,     0.73333,     0.73333,     0.73333,     0.73333,     0.73333,     0.73333,     0.73333,     0.73333,     0.73333,     0.73333,     0.73333,     0.73333,     0.73333,     0.73333,     0.73333,     0.73333,     0.73333,\n",
              "            0.73333,     0.73333,     0.73333,     0.73333,     0.73333,     0.73333,     0.73333,     0.73333,     0.73333,     0.73191,     0.71667,     0.71667,     0.71667,     0.71667,     0.71667,     0.71667,     0.71667,     0.71667,     0.71667,     0.71667,     0.71667,     0.71667,     0.71391,\n",
              "            0.70964,     0.70537,      0.7011,         0.7,         0.7,         0.7,         0.7,         0.7,         0.7,         0.7,         0.7,         0.7,         0.7,         0.7,         0.7,         0.7,         0.7,         0.7,         0.7,         0.7,         0.7,         0.7,         0.7,\n",
              "                0.7,         0.7,         0.7,         0.7,         0.7,         0.7,         0.7,         0.7,         0.7,         0.7,         0.7,         0.7,         0.7,         0.7,         0.7,         0.7,         0.7,         0.7,         0.7,         0.7,         0.7,         0.7,         0.7,\n",
              "                0.7,         0.7,         0.7,         0.7,         0.7,         0.7,         0.7,         0.7,         0.7,         0.7,         0.7,         0.7,         0.7,         0.7,         0.7,         0.7,         0.7,         0.7,         0.7,         0.7,         0.7,         0.7,         0.7,\n",
              "                0.7,         0.7,         0.7,         0.7,         0.7,         0.7,         0.7,         0.7,         0.7,         0.7,         0.7,         0.7,         0.7,         0.7,         0.7,         0.7,         0.7,         0.7,         0.7,         0.7,         0.7,         0.7,         0.7,\n",
              "                0.7,         0.7,         0.7,         0.7,         0.7,         0.7,         0.7,         0.7,         0.7,         0.7,         0.7,         0.7,         0.7,         0.7,         0.7,         0.7,         0.7,         0.7,         0.7,         0.7,         0.7,         0.7,         0.7,\n",
              "                0.7,         0.7,         0.7,         0.7,         0.7,         0.7,         0.7,         0.7,         0.7,         0.7,         0.7,         0.7,         0.7,         0.7,         0.7,         0.7,         0.7,         0.7,         0.7,         0.7,         0.7,         0.7,         0.7,\n",
              "                0.7,         0.7,         0.7,         0.7,         0.7,         0.7,         0.7,         0.7,         0.7,         0.7,         0.7,         0.7,         0.7,         0.7,         0.7,         0.7,         0.7,         0.7,         0.7,         0.7,         0.7,         0.7,         0.7,\n",
              "                0.7,         0.7,         0.7,         0.7,         0.7,         0.7,         0.7,         0.7,         0.7,         0.7,         0.7,         0.7,         0.7,         0.7,     0.69737,     0.68883,     0.68333,     0.68333,     0.68333,     0.68333,     0.68333,     0.68333,     0.68333,\n",
              "            0.68333,     0.68333,     0.68333,     0.68333,     0.68333,     0.68333,     0.68333,     0.68333,     0.68333,     0.68333,     0.67015,     0.66667,     0.66667,     0.66667,     0.66667,     0.66667,     0.66667,     0.66667,     0.66667,     0.66667,     0.66667,     0.66667,     0.66667,\n",
              "            0.66667,     0.66667,     0.66667,     0.66539,     0.66349,     0.66159,     0.65969,     0.65779,      0.6559,       0.654,      0.6521,      0.6502,        0.65,        0.65,        0.65,        0.65,        0.65,        0.65,     0.64811,     0.64469,     0.64128,     0.63786,     0.63444,\n",
              "            0.63333,     0.63333,     0.63333,     0.63333,     0.63333,     0.63333,     0.63333,     0.63333,     0.63333,     0.63333,     0.63333,     0.63333,     0.63333,     0.63333,     0.63333,     0.63333,     0.63231,     0.62092,     0.61667,     0.61667,     0.61436,     0.61094,     0.60753,\n",
              "            0.60411,     0.60069,         0.6,         0.6,         0.6,         0.6,         0.6,         0.6,         0.6,         0.6,         0.6,         0.6,         0.6,         0.6,         0.6,         0.6,         0.6,         0.6,         0.6,         0.6,         0.6,         0.6,         0.6,\n",
              "                0.6,         0.6,         0.6,         0.6,         0.6,         0.6,         0.6,         0.6,         0.6,         0.6,         0.6,         0.6,         0.6,         0.6,         0.6,         0.6,         0.6,         0.6,         0.6,         0.6,         0.6,         0.6,         0.6,\n",
              "                0.6,         0.6,         0.6,         0.6,         0.6,         0.6,         0.6,         0.6,         0.6,         0.6,         0.6,         0.6,         0.6,         0.6,         0.6,         0.6,         0.6,         0.6,         0.6,         0.6,         0.6,         0.6,         0.6,\n",
              "                0.6,         0.6,         0.6,         0.6,         0.6,         0.6,         0.6,         0.6,         0.6,         0.6,         0.6,         0.6,         0.6,         0.6,         0.6,         0.6,         0.6,         0.6,         0.6,         0.6,         0.6,         0.6,         0.6,\n",
              "             0.5981,     0.59468,     0.59127,     0.58785,     0.58443,     0.58333,     0.58333,     0.58333,     0.58333,      0.5745,      0.5656,     0.56218,     0.55877,     0.55535,     0.55193,     0.54258,     0.53333,     0.53333,     0.53333,     0.53333,     0.53333,     0.53333,     0.53333,\n",
              "            0.53333,     0.53333,     0.53333,     0.53333,     0.53333,     0.53333,     0.53333,     0.53333,     0.53169,     0.52681,     0.52193,     0.51705,     0.51667,         0.5,         0.5,         0.5,         0.5,         0.5,         0.5,         0.5,         0.5,         0.5,         0.5,\n",
              "                0.5,     0.48333,     0.48333,     0.48333,     0.48333,     0.48333,     0.48333,        0.45,        0.45,        0.45,        0.45,        0.45,        0.45,        0.45,        0.45,        0.45,        0.45,        0.45,        0.45,        0.45,        0.45,     0.44795,     0.43941,\n",
              "            0.43333,     0.43155,     0.42585,     0.42016,     0.41667,     0.41667,         0.4,         0.4,         0.4,         0.4,         0.4,         0.4,         0.4,         0.4,         0.4,         0.4,         0.4,         0.4,         0.4,         0.4,         0.4,         0.4,         0.4,\n",
              "            0.38333,     0.38333,     0.38333,     0.38333,     0.38333,     0.37919,     0.37065,        0.35,        0.35,        0.35,        0.35,        0.35,        0.35,        0.35,        0.35,        0.35,        0.35,        0.35,        0.35,     0.34783,      0.3452,     0.34257,     0.33994,\n",
              "            0.33731,     0.33469,     0.33057,     0.32487,     0.31918,     0.31606,     0.30752,     0.29932,     0.29362,     0.28793,     0.28114,     0.26975,     0.26667,     0.26667,     0.26667,     0.26667,     0.26667,     0.24822,     0.24334,     0.23846,     0.23358,     0.23333,     0.23333,\n",
              "            0.23328,       0.231,     0.22873,     0.22645,     0.22417,     0.22189,     0.21962,     0.21734,     0.21322,     0.20834,     0.20346,     0.19751,     0.18897,     0.18237,     0.17952,     0.17667,     0.17382,     0.17098,     0.16813,     0.15836,     0.14751,     0.14263,     0.13774,\n",
              "            0.13169,     0.11461,    0.078378,    0.063459,    0.058578,    0.053697,    0.049447,    0.047169,    0.044892,    0.042614,    0.040336,    0.038058,     0.03578,    0.033502,    0.031473,    0.029463,    0.027453,    0.025443,    0.023433,    0.021423,    0.019414,    0.017404,           0,\n",
              "                  0,           0,           0,           0,           0,           0,           0,           0,           0,           0,           0,           0,           0,           0,           0,           0,           0,           0,           0,           0,           0,           0,           0,\n",
              "                  0,           0,           0,           0,           0,           0,           0,           0,           0,           0,           0]]), 'Confidence', 'Recall']]\n",
              "fitness: np.float64(0.2855116538644729)\n",
              "keys: ['metrics/precision(B)', 'metrics/recall(B)', 'metrics/mAP50(B)', 'metrics/mAP50-95(B)']\n",
              "maps: array([    0.25305])\n",
              "names: {0: 'Car'}\n",
              "plot: True\n",
              "results_dict: {'metrics/precision(B)': np.float64(0.5501937995687997), 'metrics/recall(B)': np.float64(0.591267934601268), 'metrics/mAP50(B)': np.float64(0.5776611415676759), 'metrics/mAP50-95(B)': np.float64(0.25305059967522814), 'fitness': np.float64(0.2855116538644729)}\n",
              "save_dir: PosixPath('runs/detect/train')\n",
              "speed: {'preprocess': 0.22069016667577065, 'inference': 15.253377333332688, 'loss': 0.0018041666673222305, 'postprocess': 1.5160543333460434}\n",
              "task: 'detect'"
            ]
          },
          "metadata": {},
          "execution_count": 9
        }
      ],
      "source": [
        "# Load a COCO-pretrained YOLO model\n",
        "model = YOLO(\"yolov8l.pt\")\n",
        "\n",
        "# Display model information (optional)\n",
        "model.train(data=\"/content/data.yaml\", epochs=50, imgsz=640,exist_ok=True, name='train')\n"
      ]
    },
    {
      "cell_type": "code",
      "source": [
        "!zip -r /content/runs.zip /content/runs"
      ],
      "metadata": {
        "id": "b7cP08Rz09rQ",
        "colab": {
          "base_uri": "https://localhost:8080/"
        },
        "outputId": "07873e57-0158-4a20-df0c-9bf0c4ab2570"
      },
      "execution_count": 10,
      "outputs": [
        {
          "output_type": "stream",
          "name": "stdout",
          "text": [
            "  adding: content/runs/ (stored 0%)\n",
            "  adding: content/runs/detect/ (stored 0%)\n",
            "  adding: content/runs/detect/train/ (stored 0%)\n",
            "  adding: content/runs/detect/train/train_batch121.jpg (deflated 5%)\n",
            "  adding: content/runs/detect/train/confusion_matrix.png (deflated 39%)\n",
            "  adding: content/runs/detect/train/args.yaml (deflated 53%)\n",
            "  adding: content/runs/detect/train/results.png (deflated 7%)\n",
            "  adding: content/runs/detect/train/F1_curve.png (deflated 17%)\n",
            "  adding: content/runs/detect/train/val_batch0_pred.jpg (deflated 10%)\n",
            "  adding: content/runs/detect/train/confusion_matrix_normalized.png (deflated 38%)\n",
            "  adding: content/runs/detect/train/train_batch2.jpg (deflated 4%)\n",
            "  adding: content/runs/detect/train/weights/ (stored 0%)\n",
            "  adding: content/runs/detect/train/weights/best.pt (deflated 8%)\n",
            "  adding: content/runs/detect/train/weights/last.pt (deflated 8%)\n",
            "  adding: content/runs/detect/train/train_batch0.jpg (deflated 3%)\n",
            "  adding: content/runs/detect/train/labels_correlogram.jpg (deflated 39%)\n",
            "  adding: content/runs/detect/train/R_curve.png (deflated 16%)\n",
            "  adding: content/runs/detect/train/train_batch122.jpg (deflated 9%)\n",
            "  adding: content/runs/detect/train/train_batch1.jpg (deflated 3%)\n",
            "  adding: content/runs/detect/train/results.csv (deflated 64%)\n",
            "  adding: content/runs/detect/train/labels.jpg (deflated 30%)\n",
            "  adding: content/runs/detect/train/PR_curve.png (deflated 24%)\n",
            "  adding: content/runs/detect/train/val_batch0_labels.jpg (deflated 13%)\n",
            "  adding: content/runs/detect/train/P_curve.png (deflated 15%)\n",
            "  adding: content/runs/detect/train/train_batch120.jpg (deflated 7%)\n"
          ]
        }
      ]
    },
    {
      "cell_type": "code",
      "source": [
        "from google.colab import files\n",
        "files.download('/content/runs.zip')"
      ],
      "metadata": {
        "id": "te9OMD2U0_Pg",
        "colab": {
          "base_uri": "https://localhost:8080/",
          "height": 17
        },
        "outputId": "44a637db-22c8-429d-8f5d-ed1e7342203e"
      },
      "execution_count": 13,
      "outputs": [
        {
          "output_type": "display_data",
          "data": {
            "text/plain": [
              "<IPython.core.display.Javascript object>"
            ],
            "application/javascript": [
              "\n",
              "    async function download(id, filename, size) {\n",
              "      if (!google.colab.kernel.accessAllowed) {\n",
              "        return;\n",
              "      }\n",
              "      const div = document.createElement('div');\n",
              "      const label = document.createElement('label');\n",
              "      label.textContent = `Downloading \"${filename}\": `;\n",
              "      div.appendChild(label);\n",
              "      const progress = document.createElement('progress');\n",
              "      progress.max = size;\n",
              "      div.appendChild(progress);\n",
              "      document.body.appendChild(div);\n",
              "\n",
              "      const buffers = [];\n",
              "      let downloaded = 0;\n",
              "\n",
              "      const channel = await google.colab.kernel.comms.open(id);\n",
              "      // Send a message to notify the kernel that we're ready.\n",
              "      channel.send({})\n",
              "\n",
              "      for await (const message of channel.messages) {\n",
              "        // Send a message to notify the kernel that we're ready.\n",
              "        channel.send({})\n",
              "        if (message.buffers) {\n",
              "          for (const buffer of message.buffers) {\n",
              "            buffers.push(buffer);\n",
              "            downloaded += buffer.byteLength;\n",
              "            progress.value = downloaded;\n",
              "          }\n",
              "        }\n",
              "      }\n",
              "      const blob = new Blob(buffers, {type: 'application/binary'});\n",
              "      const a = document.createElement('a');\n",
              "      a.href = window.URL.createObjectURL(blob);\n",
              "      a.download = filename;\n",
              "      div.appendChild(a);\n",
              "      a.click();\n",
              "      div.remove();\n",
              "    }\n",
              "  "
            ]
          },
          "metadata": {}
        },
        {
          "output_type": "display_data",
          "data": {
            "text/plain": [
              "<IPython.core.display.Javascript object>"
            ],
            "application/javascript": [
              "download(\"download_18013745-eb6a-450a-8f41-814adf3af0d0\", \"runs.zip\", 167081952)"
            ]
          },
          "metadata": {}
        }
      ]
    }
  ],
  "metadata": {
    "accelerator": "GPU",
    "colab": {
      "gpuType": "T4",
      "provenance": []
    },
    "kernelspec": {
      "display_name": "Python 3",
      "name": "python3"
    },
    "language_info": {
      "name": "python"
    }
  },
  "nbformat": 4,
  "nbformat_minor": 0
}